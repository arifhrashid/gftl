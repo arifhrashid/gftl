{
  "cells": [
    {
      "cell_type": "code",
      "execution_count": 1,
      "metadata": {
        "id": "xXLFolMK0QmH"
      },
      "outputs": [],
      "source": [
        "from keras.preprocessing.image import ImageDataGenerator\n",
        "import keras\n",
        "import tensorflow as tf\n",
        "from tensorflow.keras.models import Sequential\n",
        "from tensorflow.keras.models import load_model\n",
        "from keras.layers import Convolution2D as conv2D\n",
        "from keras.layers import MaxPooling2D\n",
        "from keras.layers import Activation,Dropout, Flatten, Dense\n",
        "from tensorflow.keras.preprocessing import image\n",
        "from keras import backend as K\n",
        "import numpy as np\n",
        "import matplotlib.pyplot as plt\n",
        "import os , sys\n",
        "from PIL import Image as im\n",
        "from os import listdir\n",
        "\n",
        "from tensorflow.keras.applications.inception_v3 import InceptionV3\n",
        "from tensorflow.keras import layers\n",
        "from tensorflow.keras.optimizers import RMSprop , Adam, SGD\n",
        "from tensorflow.keras import Model\n",
        "from keras.layers import GlobalAveragePooling2D\n",
        "from sklearn.model_selection import train_test_split\n",
        "\n",
        "import cv2\n",
        "import glob    # glob (short for global) is used to return all file paths that match a specific pattern.\n",
        "import random\n",
        "from sklearn.metrics import confusion_matrix\n",
        "from sklearn.metrics import precision_score, recall_score, f1_score, accuracy_score\n",
        "from sklearn import metrics\n",
        "from keras.callbacks import EarlyStopping"
      ]
    },
    {
      "cell_type": "markdown",
      "metadata": {
        "id": "92A4jA4lRju3"
      },
      "source": [
        "**ResNet50**"
      ]
    },
    {
      "cell_type": "code",
      "execution_count": 2,
      "metadata": {
        "id": "K1wSn5GIQMI6"
      },
      "outputs": [],
      "source": [
        "IMG_SHAPE=(224,224,3)\n",
        "IMG_SIZE = (224, 224)\n",
        "#IMG_SHAPE = (150, 150, 3) #(150,150) were used before in Inception V3"
      ]
    },
    {
      "cell_type": "code",
      "execution_count": 3,
      "metadata": {
        "id": "IPIuqcCfRbnb",
        "colab": {
          "base_uri": "https://localhost:8080/"
        },
        "outputId": "72f1ef48-5426-4aa7-c66f-ebd95dd64cb5"
      },
      "outputs": [
        {
          "output_type": "stream",
          "name": "stdout",
          "text": [
            "Downloading data from https://storage.googleapis.com/tensorflow/keras-applications/resnet/resnet50_weights_tf_dim_ordering_tf_kernels_notop.h5\n",
            "94765736/94765736 [==============================] - 2s 0us/step\n"
          ]
        }
      ],
      "source": [
        "#######################################################\n",
        "#Get the convolution base of a Pre-Trained CNN (here it is ResNet50)\n",
        "#######################################################\n",
        "base_model = tf.keras.applications.ResNet50(input_shape=IMG_SHAPE,\n",
        "                                               include_top=False,\n",
        "                                               weights=\"imagenet\")"
      ]
    },
    {
      "cell_type": "code",
      "execution_count": 105,
      "metadata": {
        "id": "fI9IFV6TReQM"
      },
      "outputs": [],
      "source": [
        "#Store the number of top layers from the convolution base you want to discard in\n",
        "#the variable discard_layers\n",
        "#discard_layers = 11 # i.e 11, 21, 22, 23 , at 22 i got max accuracy\n",
        "\n",
        "x = tf.keras.layers.GlobalAveragePooling2D()(base_model.output)\n",
        "#discard few top layers of convolution base and add global\n",
        "#average pooling layer on top of it.\n",
        "#x = tf.keras.layers.GlobalAveragePooling2D()(base_model.layers[-discard_layers].output)\n"
      ]
    },
    {
      "cell_type": "code",
      "execution_count": 106,
      "metadata": {
        "id": "Uw-t6MZgRiJ1"
      },
      "outputs": [],
      "source": [
        "updated_model = tf.keras.models.Model(inputs=base_model.input,\n",
        "                              outputs= x)"
      ]
    },
    {
      "cell_type": "code",
      "execution_count": 107,
      "metadata": {
        "colab": {
          "base_uri": "https://localhost:8080/"
        },
        "id": "RtF1FOz1RyQE",
        "outputId": "14a5cece-f9a5-4f5c-c0f2-817e052eff25"
      },
      "outputs": [
        {
          "output_type": "stream",
          "name": "stdout",
          "text": [
            "Model: \"model_10\"\n",
            "__________________________________________________________________________________________________\n",
            " Layer (type)                Output Shape                 Param #   Connected to                  \n",
            "==================================================================================================\n",
            " input_1 (InputLayer)        [(None, 224, 224, 3)]        0         []                            \n",
            "                                                                                                  \n",
            " conv1_pad (ZeroPadding2D)   (None, 230, 230, 3)          0         ['input_1[0][0]']             \n",
            "                                                                                                  \n",
            " conv1_conv (Conv2D)         (None, 112, 112, 64)         9472      ['conv1_pad[0][0]']           \n",
            "                                                                                                  \n",
            " conv1_bn (BatchNormalizati  (None, 112, 112, 64)         256       ['conv1_conv[0][0]']          \n",
            " on)                                                                                              \n",
            "                                                                                                  \n",
            " conv1_relu (Activation)     (None, 112, 112, 64)         0         ['conv1_bn[0][0]']            \n",
            "                                                                                                  \n",
            " pool1_pad (ZeroPadding2D)   (None, 114, 114, 64)         0         ['conv1_relu[0][0]']          \n",
            "                                                                                                  \n",
            " pool1_pool (MaxPooling2D)   (None, 56, 56, 64)           0         ['pool1_pad[0][0]']           \n",
            "                                                                                                  \n",
            " conv2_block1_1_conv (Conv2  (None, 56, 56, 64)           4160      ['pool1_pool[0][0]']          \n",
            " D)                                                                                               \n",
            "                                                                                                  \n",
            " conv2_block1_1_bn (BatchNo  (None, 56, 56, 64)           256       ['conv2_block1_1_conv[0][0]'] \n",
            " rmalization)                                                                                     \n",
            "                                                                                                  \n",
            " conv2_block1_1_relu (Activ  (None, 56, 56, 64)           0         ['conv2_block1_1_bn[0][0]']   \n",
            " ation)                                                                                           \n",
            "                                                                                                  \n",
            " conv2_block1_2_conv (Conv2  (None, 56, 56, 64)           36928     ['conv2_block1_1_relu[0][0]'] \n",
            " D)                                                                                               \n",
            "                                                                                                  \n",
            " conv2_block1_2_bn (BatchNo  (None, 56, 56, 64)           256       ['conv2_block1_2_conv[0][0]'] \n",
            " rmalization)                                                                                     \n",
            "                                                                                                  \n",
            " conv2_block1_2_relu (Activ  (None, 56, 56, 64)           0         ['conv2_block1_2_bn[0][0]']   \n",
            " ation)                                                                                           \n",
            "                                                                                                  \n",
            " conv2_block1_0_conv (Conv2  (None, 56, 56, 256)          16640     ['pool1_pool[0][0]']          \n",
            " D)                                                                                               \n",
            "                                                                                                  \n",
            " conv2_block1_3_conv (Conv2  (None, 56, 56, 256)          16640     ['conv2_block1_2_relu[0][0]'] \n",
            " D)                                                                                               \n",
            "                                                                                                  \n",
            " conv2_block1_0_bn (BatchNo  (None, 56, 56, 256)          1024      ['conv2_block1_0_conv[0][0]'] \n",
            " rmalization)                                                                                     \n",
            "                                                                                                  \n",
            " conv2_block1_3_bn (BatchNo  (None, 56, 56, 256)          1024      ['conv2_block1_3_conv[0][0]'] \n",
            " rmalization)                                                                                     \n",
            "                                                                                                  \n",
            " conv2_block1_add (Add)      (None, 56, 56, 256)          0         ['conv2_block1_0_bn[0][0]',   \n",
            "                                                                     'conv2_block1_3_bn[0][0]']   \n",
            "                                                                                                  \n",
            " conv2_block1_out (Activati  (None, 56, 56, 256)          0         ['conv2_block1_add[0][0]']    \n",
            " on)                                                                                              \n",
            "                                                                                                  \n",
            " conv2_block2_1_conv (Conv2  (None, 56, 56, 64)           16448     ['conv2_block1_out[0][0]']    \n",
            " D)                                                                                               \n",
            "                                                                                                  \n",
            " conv2_block2_1_bn (BatchNo  (None, 56, 56, 64)           256       ['conv2_block2_1_conv[0][0]'] \n",
            " rmalization)                                                                                     \n",
            "                                                                                                  \n",
            " conv2_block2_1_relu (Activ  (None, 56, 56, 64)           0         ['conv2_block2_1_bn[0][0]']   \n",
            " ation)                                                                                           \n",
            "                                                                                                  \n",
            " conv2_block2_2_conv (Conv2  (None, 56, 56, 64)           36928     ['conv2_block2_1_relu[0][0]'] \n",
            " D)                                                                                               \n",
            "                                                                                                  \n",
            " conv2_block2_2_bn (BatchNo  (None, 56, 56, 64)           256       ['conv2_block2_2_conv[0][0]'] \n",
            " rmalization)                                                                                     \n",
            "                                                                                                  \n",
            " conv2_block2_2_relu (Activ  (None, 56, 56, 64)           0         ['conv2_block2_2_bn[0][0]']   \n",
            " ation)                                                                                           \n",
            "                                                                                                  \n",
            " conv2_block2_3_conv (Conv2  (None, 56, 56, 256)          16640     ['conv2_block2_2_relu[0][0]'] \n",
            " D)                                                                                               \n",
            "                                                                                                  \n",
            " conv2_block2_3_bn (BatchNo  (None, 56, 56, 256)          1024      ['conv2_block2_3_conv[0][0]'] \n",
            " rmalization)                                                                                     \n",
            "                                                                                                  \n",
            " conv2_block2_add (Add)      (None, 56, 56, 256)          0         ['conv2_block1_out[0][0]',    \n",
            "                                                                     'conv2_block2_3_bn[0][0]']   \n",
            "                                                                                                  \n",
            " conv2_block2_out (Activati  (None, 56, 56, 256)          0         ['conv2_block2_add[0][0]']    \n",
            " on)                                                                                              \n",
            "                                                                                                  \n",
            " conv2_block3_1_conv (Conv2  (None, 56, 56, 64)           16448     ['conv2_block2_out[0][0]']    \n",
            " D)                                                                                               \n",
            "                                                                                                  \n",
            " conv2_block3_1_bn (BatchNo  (None, 56, 56, 64)           256       ['conv2_block3_1_conv[0][0]'] \n",
            " rmalization)                                                                                     \n",
            "                                                                                                  \n",
            " conv2_block3_1_relu (Activ  (None, 56, 56, 64)           0         ['conv2_block3_1_bn[0][0]']   \n",
            " ation)                                                                                           \n",
            "                                                                                                  \n",
            " conv2_block3_2_conv (Conv2  (None, 56, 56, 64)           36928     ['conv2_block3_1_relu[0][0]'] \n",
            " D)                                                                                               \n",
            "                                                                                                  \n",
            " conv2_block3_2_bn (BatchNo  (None, 56, 56, 64)           256       ['conv2_block3_2_conv[0][0]'] \n",
            " rmalization)                                                                                     \n",
            "                                                                                                  \n",
            " conv2_block3_2_relu (Activ  (None, 56, 56, 64)           0         ['conv2_block3_2_bn[0][0]']   \n",
            " ation)                                                                                           \n",
            "                                                                                                  \n",
            " conv2_block3_3_conv (Conv2  (None, 56, 56, 256)          16640     ['conv2_block3_2_relu[0][0]'] \n",
            " D)                                                                                               \n",
            "                                                                                                  \n",
            " conv2_block3_3_bn (BatchNo  (None, 56, 56, 256)          1024      ['conv2_block3_3_conv[0][0]'] \n",
            " rmalization)                                                                                     \n",
            "                                                                                                  \n",
            " conv2_block3_add (Add)      (None, 56, 56, 256)          0         ['conv2_block2_out[0][0]',    \n",
            "                                                                     'conv2_block3_3_bn[0][0]']   \n",
            "                                                                                                  \n",
            " conv2_block3_out (Activati  (None, 56, 56, 256)          0         ['conv2_block3_add[0][0]']    \n",
            " on)                                                                                              \n",
            "                                                                                                  \n",
            " conv3_block1_1_conv (Conv2  (None, 28, 28, 128)          32896     ['conv2_block3_out[0][0]']    \n",
            " D)                                                                                               \n",
            "                                                                                                  \n",
            " conv3_block1_1_bn (BatchNo  (None, 28, 28, 128)          512       ['conv3_block1_1_conv[0][0]'] \n",
            " rmalization)                                                                                     \n",
            "                                                                                                  \n",
            " conv3_block1_1_relu (Activ  (None, 28, 28, 128)          0         ['conv3_block1_1_bn[0][0]']   \n",
            " ation)                                                                                           \n",
            "                                                                                                  \n",
            " conv3_block1_2_conv (Conv2  (None, 28, 28, 128)          147584    ['conv3_block1_1_relu[0][0]'] \n",
            " D)                                                                                               \n",
            "                                                                                                  \n",
            " conv3_block1_2_bn (BatchNo  (None, 28, 28, 128)          512       ['conv3_block1_2_conv[0][0]'] \n",
            " rmalization)                                                                                     \n",
            "                                                                                                  \n",
            " conv3_block1_2_relu (Activ  (None, 28, 28, 128)          0         ['conv3_block1_2_bn[0][0]']   \n",
            " ation)                                                                                           \n",
            "                                                                                                  \n",
            " conv3_block1_0_conv (Conv2  (None, 28, 28, 512)          131584    ['conv2_block3_out[0][0]']    \n",
            " D)                                                                                               \n",
            "                                                                                                  \n",
            " conv3_block1_3_conv (Conv2  (None, 28, 28, 512)          66048     ['conv3_block1_2_relu[0][0]'] \n",
            " D)                                                                                               \n",
            "                                                                                                  \n",
            " conv3_block1_0_bn (BatchNo  (None, 28, 28, 512)          2048      ['conv3_block1_0_conv[0][0]'] \n",
            " rmalization)                                                                                     \n",
            "                                                                                                  \n",
            " conv3_block1_3_bn (BatchNo  (None, 28, 28, 512)          2048      ['conv3_block1_3_conv[0][0]'] \n",
            " rmalization)                                                                                     \n",
            "                                                                                                  \n",
            " conv3_block1_add (Add)      (None, 28, 28, 512)          0         ['conv3_block1_0_bn[0][0]',   \n",
            "                                                                     'conv3_block1_3_bn[0][0]']   \n",
            "                                                                                                  \n",
            " conv3_block1_out (Activati  (None, 28, 28, 512)          0         ['conv3_block1_add[0][0]']    \n",
            " on)                                                                                              \n",
            "                                                                                                  \n",
            " conv3_block2_1_conv (Conv2  (None, 28, 28, 128)          65664     ['conv3_block1_out[0][0]']    \n",
            " D)                                                                                               \n",
            "                                                                                                  \n",
            " conv3_block2_1_bn (BatchNo  (None, 28, 28, 128)          512       ['conv3_block2_1_conv[0][0]'] \n",
            " rmalization)                                                                                     \n",
            "                                                                                                  \n",
            " conv3_block2_1_relu (Activ  (None, 28, 28, 128)          0         ['conv3_block2_1_bn[0][0]']   \n",
            " ation)                                                                                           \n",
            "                                                                                                  \n",
            " conv3_block2_2_conv (Conv2  (None, 28, 28, 128)          147584    ['conv3_block2_1_relu[0][0]'] \n",
            " D)                                                                                               \n",
            "                                                                                                  \n",
            " conv3_block2_2_bn (BatchNo  (None, 28, 28, 128)          512       ['conv3_block2_2_conv[0][0]'] \n",
            " rmalization)                                                                                     \n",
            "                                                                                                  \n",
            " conv3_block2_2_relu (Activ  (None, 28, 28, 128)          0         ['conv3_block2_2_bn[0][0]']   \n",
            " ation)                                                                                           \n",
            "                                                                                                  \n",
            " conv3_block2_3_conv (Conv2  (None, 28, 28, 512)          66048     ['conv3_block2_2_relu[0][0]'] \n",
            " D)                                                                                               \n",
            "                                                                                                  \n",
            " conv3_block2_3_bn (BatchNo  (None, 28, 28, 512)          2048      ['conv3_block2_3_conv[0][0]'] \n",
            " rmalization)                                                                                     \n",
            "                                                                                                  \n",
            " conv3_block2_add (Add)      (None, 28, 28, 512)          0         ['conv3_block1_out[0][0]',    \n",
            "                                                                     'conv3_block2_3_bn[0][0]']   \n",
            "                                                                                                  \n",
            " conv3_block2_out (Activati  (None, 28, 28, 512)          0         ['conv3_block2_add[0][0]']    \n",
            " on)                                                                                              \n",
            "                                                                                                  \n",
            " conv3_block3_1_conv (Conv2  (None, 28, 28, 128)          65664     ['conv3_block2_out[0][0]']    \n",
            " D)                                                                                               \n",
            "                                                                                                  \n",
            " conv3_block3_1_bn (BatchNo  (None, 28, 28, 128)          512       ['conv3_block3_1_conv[0][0]'] \n",
            " rmalization)                                                                                     \n",
            "                                                                                                  \n",
            " conv3_block3_1_relu (Activ  (None, 28, 28, 128)          0         ['conv3_block3_1_bn[0][0]']   \n",
            " ation)                                                                                           \n",
            "                                                                                                  \n",
            " conv3_block3_2_conv (Conv2  (None, 28, 28, 128)          147584    ['conv3_block3_1_relu[0][0]'] \n",
            " D)                                                                                               \n",
            "                                                                                                  \n",
            " conv3_block3_2_bn (BatchNo  (None, 28, 28, 128)          512       ['conv3_block3_2_conv[0][0]'] \n",
            " rmalization)                                                                                     \n",
            "                                                                                                  \n",
            " conv3_block3_2_relu (Activ  (None, 28, 28, 128)          0         ['conv3_block3_2_bn[0][0]']   \n",
            " ation)                                                                                           \n",
            "                                                                                                  \n",
            " conv3_block3_3_conv (Conv2  (None, 28, 28, 512)          66048     ['conv3_block3_2_relu[0][0]'] \n",
            " D)                                                                                               \n",
            "                                                                                                  \n",
            " conv3_block3_3_bn (BatchNo  (None, 28, 28, 512)          2048      ['conv3_block3_3_conv[0][0]'] \n",
            " rmalization)                                                                                     \n",
            "                                                                                                  \n",
            " conv3_block3_add (Add)      (None, 28, 28, 512)          0         ['conv3_block2_out[0][0]',    \n",
            "                                                                     'conv3_block3_3_bn[0][0]']   \n",
            "                                                                                                  \n",
            " conv3_block3_out (Activati  (None, 28, 28, 512)          0         ['conv3_block3_add[0][0]']    \n",
            " on)                                                                                              \n",
            "                                                                                                  \n",
            " conv3_block4_1_conv (Conv2  (None, 28, 28, 128)          65664     ['conv3_block3_out[0][0]']    \n",
            " D)                                                                                               \n",
            "                                                                                                  \n",
            " conv3_block4_1_bn (BatchNo  (None, 28, 28, 128)          512       ['conv3_block4_1_conv[0][0]'] \n",
            " rmalization)                                                                                     \n",
            "                                                                                                  \n",
            " conv3_block4_1_relu (Activ  (None, 28, 28, 128)          0         ['conv3_block4_1_bn[0][0]']   \n",
            " ation)                                                                                           \n",
            "                                                                                                  \n",
            " conv3_block4_2_conv (Conv2  (None, 28, 28, 128)          147584    ['conv3_block4_1_relu[0][0]'] \n",
            " D)                                                                                               \n",
            "                                                                                                  \n",
            " conv3_block4_2_bn (BatchNo  (None, 28, 28, 128)          512       ['conv3_block4_2_conv[0][0]'] \n",
            " rmalization)                                                                                     \n",
            "                                                                                                  \n",
            " conv3_block4_2_relu (Activ  (None, 28, 28, 128)          0         ['conv3_block4_2_bn[0][0]']   \n",
            " ation)                                                                                           \n",
            "                                                                                                  \n",
            " conv3_block4_3_conv (Conv2  (None, 28, 28, 512)          66048     ['conv3_block4_2_relu[0][0]'] \n",
            " D)                                                                                               \n",
            "                                                                                                  \n",
            " conv3_block4_3_bn (BatchNo  (None, 28, 28, 512)          2048      ['conv3_block4_3_conv[0][0]'] \n",
            " rmalization)                                                                                     \n",
            "                                                                                                  \n",
            " conv3_block4_add (Add)      (None, 28, 28, 512)          0         ['conv3_block3_out[0][0]',    \n",
            "                                                                     'conv3_block4_3_bn[0][0]']   \n",
            "                                                                                                  \n",
            " conv3_block4_out (Activati  (None, 28, 28, 512)          0         ['conv3_block4_add[0][0]']    \n",
            " on)                                                                                              \n",
            "                                                                                                  \n",
            " conv4_block1_1_conv (Conv2  (None, 14, 14, 256)          131328    ['conv3_block4_out[0][0]']    \n",
            " D)                                                                                               \n",
            "                                                                                                  \n",
            " conv4_block1_1_bn (BatchNo  (None, 14, 14, 256)          1024      ['conv4_block1_1_conv[0][0]'] \n",
            " rmalization)                                                                                     \n",
            "                                                                                                  \n",
            " conv4_block1_1_relu (Activ  (None, 14, 14, 256)          0         ['conv4_block1_1_bn[0][0]']   \n",
            " ation)                                                                                           \n",
            "                                                                                                  \n",
            " conv4_block1_2_conv (Conv2  (None, 14, 14, 256)          590080    ['conv4_block1_1_relu[0][0]'] \n",
            " D)                                                                                               \n",
            "                                                                                                  \n",
            " conv4_block1_2_bn (BatchNo  (None, 14, 14, 256)          1024      ['conv4_block1_2_conv[0][0]'] \n",
            " rmalization)                                                                                     \n",
            "                                                                                                  \n",
            " conv4_block1_2_relu (Activ  (None, 14, 14, 256)          0         ['conv4_block1_2_bn[0][0]']   \n",
            " ation)                                                                                           \n",
            "                                                                                                  \n",
            " conv4_block1_0_conv (Conv2  (None, 14, 14, 1024)         525312    ['conv3_block4_out[0][0]']    \n",
            " D)                                                                                               \n",
            "                                                                                                  \n",
            " conv4_block1_3_conv (Conv2  (None, 14, 14, 1024)         263168    ['conv4_block1_2_relu[0][0]'] \n",
            " D)                                                                                               \n",
            "                                                                                                  \n",
            " conv4_block1_0_bn (BatchNo  (None, 14, 14, 1024)         4096      ['conv4_block1_0_conv[0][0]'] \n",
            " rmalization)                                                                                     \n",
            "                                                                                                  \n",
            " conv4_block1_3_bn (BatchNo  (None, 14, 14, 1024)         4096      ['conv4_block1_3_conv[0][0]'] \n",
            " rmalization)                                                                                     \n",
            "                                                                                                  \n",
            " conv4_block1_add (Add)      (None, 14, 14, 1024)         0         ['conv4_block1_0_bn[0][0]',   \n",
            "                                                                     'conv4_block1_3_bn[0][0]']   \n",
            "                                                                                                  \n",
            " conv4_block1_out (Activati  (None, 14, 14, 1024)         0         ['conv4_block1_add[0][0]']    \n",
            " on)                                                                                              \n",
            "                                                                                                  \n",
            " conv4_block2_1_conv (Conv2  (None, 14, 14, 256)          262400    ['conv4_block1_out[0][0]']    \n",
            " D)                                                                                               \n",
            "                                                                                                  \n",
            " conv4_block2_1_bn (BatchNo  (None, 14, 14, 256)          1024      ['conv4_block2_1_conv[0][0]'] \n",
            " rmalization)                                                                                     \n",
            "                                                                                                  \n",
            " conv4_block2_1_relu (Activ  (None, 14, 14, 256)          0         ['conv4_block2_1_bn[0][0]']   \n",
            " ation)                                                                                           \n",
            "                                                                                                  \n",
            " conv4_block2_2_conv (Conv2  (None, 14, 14, 256)          590080    ['conv4_block2_1_relu[0][0]'] \n",
            " D)                                                                                               \n",
            "                                                                                                  \n",
            " conv4_block2_2_bn (BatchNo  (None, 14, 14, 256)          1024      ['conv4_block2_2_conv[0][0]'] \n",
            " rmalization)                                                                                     \n",
            "                                                                                                  \n",
            " conv4_block2_2_relu (Activ  (None, 14, 14, 256)          0         ['conv4_block2_2_bn[0][0]']   \n",
            " ation)                                                                                           \n",
            "                                                                                                  \n",
            " conv4_block2_3_conv (Conv2  (None, 14, 14, 1024)         263168    ['conv4_block2_2_relu[0][0]'] \n",
            " D)                                                                                               \n",
            "                                                                                                  \n",
            " conv4_block2_3_bn (BatchNo  (None, 14, 14, 1024)         4096      ['conv4_block2_3_conv[0][0]'] \n",
            " rmalization)                                                                                     \n",
            "                                                                                                  \n",
            " conv4_block2_add (Add)      (None, 14, 14, 1024)         0         ['conv4_block1_out[0][0]',    \n",
            "                                                                     'conv4_block2_3_bn[0][0]']   \n",
            "                                                                                                  \n",
            " conv4_block2_out (Activati  (None, 14, 14, 1024)         0         ['conv4_block2_add[0][0]']    \n",
            " on)                                                                                              \n",
            "                                                                                                  \n",
            " conv4_block3_1_conv (Conv2  (None, 14, 14, 256)          262400    ['conv4_block2_out[0][0]']    \n",
            " D)                                                                                               \n",
            "                                                                                                  \n",
            " conv4_block3_1_bn (BatchNo  (None, 14, 14, 256)          1024      ['conv4_block3_1_conv[0][0]'] \n",
            " rmalization)                                                                                     \n",
            "                                                                                                  \n",
            " conv4_block3_1_relu (Activ  (None, 14, 14, 256)          0         ['conv4_block3_1_bn[0][0]']   \n",
            " ation)                                                                                           \n",
            "                                                                                                  \n",
            " conv4_block3_2_conv (Conv2  (None, 14, 14, 256)          590080    ['conv4_block3_1_relu[0][0]'] \n",
            " D)                                                                                               \n",
            "                                                                                                  \n",
            " conv4_block3_2_bn (BatchNo  (None, 14, 14, 256)          1024      ['conv4_block3_2_conv[0][0]'] \n",
            " rmalization)                                                                                     \n",
            "                                                                                                  \n",
            " conv4_block3_2_relu (Activ  (None, 14, 14, 256)          0         ['conv4_block3_2_bn[0][0]']   \n",
            " ation)                                                                                           \n",
            "                                                                                                  \n",
            " conv4_block3_3_conv (Conv2  (None, 14, 14, 1024)         263168    ['conv4_block3_2_relu[0][0]'] \n",
            " D)                                                                                               \n",
            "                                                                                                  \n",
            " conv4_block3_3_bn (BatchNo  (None, 14, 14, 1024)         4096      ['conv4_block3_3_conv[0][0]'] \n",
            " rmalization)                                                                                     \n",
            "                                                                                                  \n",
            " conv4_block3_add (Add)      (None, 14, 14, 1024)         0         ['conv4_block2_out[0][0]',    \n",
            "                                                                     'conv4_block3_3_bn[0][0]']   \n",
            "                                                                                                  \n",
            " conv4_block3_out (Activati  (None, 14, 14, 1024)         0         ['conv4_block3_add[0][0]']    \n",
            " on)                                                                                              \n",
            "                                                                                                  \n",
            " conv4_block4_1_conv (Conv2  (None, 14, 14, 256)          262400    ['conv4_block3_out[0][0]']    \n",
            " D)                                                                                               \n",
            "                                                                                                  \n",
            " conv4_block4_1_bn (BatchNo  (None, 14, 14, 256)          1024      ['conv4_block4_1_conv[0][0]'] \n",
            " rmalization)                                                                                     \n",
            "                                                                                                  \n",
            " conv4_block4_1_relu (Activ  (None, 14, 14, 256)          0         ['conv4_block4_1_bn[0][0]']   \n",
            " ation)                                                                                           \n",
            "                                                                                                  \n",
            " conv4_block4_2_conv (Conv2  (None, 14, 14, 256)          590080    ['conv4_block4_1_relu[0][0]'] \n",
            " D)                                                                                               \n",
            "                                                                                                  \n",
            " conv4_block4_2_bn (BatchNo  (None, 14, 14, 256)          1024      ['conv4_block4_2_conv[0][0]'] \n",
            " rmalization)                                                                                     \n",
            "                                                                                                  \n",
            " conv4_block4_2_relu (Activ  (None, 14, 14, 256)          0         ['conv4_block4_2_bn[0][0]']   \n",
            " ation)                                                                                           \n",
            "                                                                                                  \n",
            " conv4_block4_3_conv (Conv2  (None, 14, 14, 1024)         263168    ['conv4_block4_2_relu[0][0]'] \n",
            " D)                                                                                               \n",
            "                                                                                                  \n",
            " conv4_block4_3_bn (BatchNo  (None, 14, 14, 1024)         4096      ['conv4_block4_3_conv[0][0]'] \n",
            " rmalization)                                                                                     \n",
            "                                                                                                  \n",
            " conv4_block4_add (Add)      (None, 14, 14, 1024)         0         ['conv4_block3_out[0][0]',    \n",
            "                                                                     'conv4_block4_3_bn[0][0]']   \n",
            "                                                                                                  \n",
            " conv4_block4_out (Activati  (None, 14, 14, 1024)         0         ['conv4_block4_add[0][0]']    \n",
            " on)                                                                                              \n",
            "                                                                                                  \n",
            " conv4_block5_1_conv (Conv2  (None, 14, 14, 256)          262400    ['conv4_block4_out[0][0]']    \n",
            " D)                                                                                               \n",
            "                                                                                                  \n",
            " conv4_block5_1_bn (BatchNo  (None, 14, 14, 256)          1024      ['conv4_block5_1_conv[0][0]'] \n",
            " rmalization)                                                                                     \n",
            "                                                                                                  \n",
            " conv4_block5_1_relu (Activ  (None, 14, 14, 256)          0         ['conv4_block5_1_bn[0][0]']   \n",
            " ation)                                                                                           \n",
            "                                                                                                  \n",
            " conv4_block5_2_conv (Conv2  (None, 14, 14, 256)          590080    ['conv4_block5_1_relu[0][0]'] \n",
            " D)                                                                                               \n",
            "                                                                                                  \n",
            " conv4_block5_2_bn (BatchNo  (None, 14, 14, 256)          1024      ['conv4_block5_2_conv[0][0]'] \n",
            " rmalization)                                                                                     \n",
            "                                                                                                  \n",
            " conv4_block5_2_relu (Activ  (None, 14, 14, 256)          0         ['conv4_block5_2_bn[0][0]']   \n",
            " ation)                                                                                           \n",
            "                                                                                                  \n",
            " conv4_block5_3_conv (Conv2  (None, 14, 14, 1024)         263168    ['conv4_block5_2_relu[0][0]'] \n",
            " D)                                                                                               \n",
            "                                                                                                  \n",
            " conv4_block5_3_bn (BatchNo  (None, 14, 14, 1024)         4096      ['conv4_block5_3_conv[0][0]'] \n",
            " rmalization)                                                                                     \n",
            "                                                                                                  \n",
            " conv4_block5_add (Add)      (None, 14, 14, 1024)         0         ['conv4_block4_out[0][0]',    \n",
            "                                                                     'conv4_block5_3_bn[0][0]']   \n",
            "                                                                                                  \n",
            " conv4_block5_out (Activati  (None, 14, 14, 1024)         0         ['conv4_block5_add[0][0]']    \n",
            " on)                                                                                              \n",
            "                                                                                                  \n",
            " conv4_block6_1_conv (Conv2  (None, 14, 14, 256)          262400    ['conv4_block5_out[0][0]']    \n",
            " D)                                                                                               \n",
            "                                                                                                  \n",
            " conv4_block6_1_bn (BatchNo  (None, 14, 14, 256)          1024      ['conv4_block6_1_conv[0][0]'] \n",
            " rmalization)                                                                                     \n",
            "                                                                                                  \n",
            " conv4_block6_1_relu (Activ  (None, 14, 14, 256)          0         ['conv4_block6_1_bn[0][0]']   \n",
            " ation)                                                                                           \n",
            "                                                                                                  \n",
            " conv4_block6_2_conv (Conv2  (None, 14, 14, 256)          590080    ['conv4_block6_1_relu[0][0]'] \n",
            " D)                                                                                               \n",
            "                                                                                                  \n",
            " conv4_block6_2_bn (BatchNo  (None, 14, 14, 256)          1024      ['conv4_block6_2_conv[0][0]'] \n",
            " rmalization)                                                                                     \n",
            "                                                                                                  \n",
            " conv4_block6_2_relu (Activ  (None, 14, 14, 256)          0         ['conv4_block6_2_bn[0][0]']   \n",
            " ation)                                                                                           \n",
            "                                                                                                  \n",
            " conv4_block6_3_conv (Conv2  (None, 14, 14, 1024)         263168    ['conv4_block6_2_relu[0][0]'] \n",
            " D)                                                                                               \n",
            "                                                                                                  \n",
            " conv4_block6_3_bn (BatchNo  (None, 14, 14, 1024)         4096      ['conv4_block6_3_conv[0][0]'] \n",
            " rmalization)                                                                                     \n",
            "                                                                                                  \n",
            " conv4_block6_add (Add)      (None, 14, 14, 1024)         0         ['conv4_block5_out[0][0]',    \n",
            "                                                                     'conv4_block6_3_bn[0][0]']   \n",
            "                                                                                                  \n",
            " conv4_block6_out (Activati  (None, 14, 14, 1024)         0         ['conv4_block6_add[0][0]']    \n",
            " on)                                                                                              \n",
            "                                                                                                  \n",
            " conv5_block1_1_conv (Conv2  (None, 7, 7, 512)            524800    ['conv4_block6_out[0][0]']    \n",
            " D)                                                                                               \n",
            "                                                                                                  \n",
            " conv5_block1_1_bn (BatchNo  (None, 7, 7, 512)            2048      ['conv5_block1_1_conv[0][0]'] \n",
            " rmalization)                                                                                     \n",
            "                                                                                                  \n",
            " conv5_block1_1_relu (Activ  (None, 7, 7, 512)            0         ['conv5_block1_1_bn[0][0]']   \n",
            " ation)                                                                                           \n",
            "                                                                                                  \n",
            " conv5_block1_2_conv (Conv2  (None, 7, 7, 512)            2359808   ['conv5_block1_1_relu[0][0]'] \n",
            " D)                                                                                               \n",
            "                                                                                                  \n",
            " conv5_block1_2_bn (BatchNo  (None, 7, 7, 512)            2048      ['conv5_block1_2_conv[0][0]'] \n",
            " rmalization)                                                                                     \n",
            "                                                                                                  \n",
            " conv5_block1_2_relu (Activ  (None, 7, 7, 512)            0         ['conv5_block1_2_bn[0][0]']   \n",
            " ation)                                                                                           \n",
            "                                                                                                  \n",
            " conv5_block1_0_conv (Conv2  (None, 7, 7, 2048)           2099200   ['conv4_block6_out[0][0]']    \n",
            " D)                                                                                               \n",
            "                                                                                                  \n",
            " conv5_block1_3_conv (Conv2  (None, 7, 7, 2048)           1050624   ['conv5_block1_2_relu[0][0]'] \n",
            " D)                                                                                               \n",
            "                                                                                                  \n",
            " conv5_block1_0_bn (BatchNo  (None, 7, 7, 2048)           8192      ['conv5_block1_0_conv[0][0]'] \n",
            " rmalization)                                                                                     \n",
            "                                                                                                  \n",
            " conv5_block1_3_bn (BatchNo  (None, 7, 7, 2048)           8192      ['conv5_block1_3_conv[0][0]'] \n",
            " rmalization)                                                                                     \n",
            "                                                                                                  \n",
            " conv5_block1_add (Add)      (None, 7, 7, 2048)           0         ['conv5_block1_0_bn[0][0]',   \n",
            "                                                                     'conv5_block1_3_bn[0][0]']   \n",
            "                                                                                                  \n",
            " conv5_block1_out (Activati  (None, 7, 7, 2048)           0         ['conv5_block1_add[0][0]']    \n",
            " on)                                                                                              \n",
            "                                                                                                  \n",
            " conv5_block2_1_conv (Conv2  (None, 7, 7, 512)            1049088   ['conv5_block1_out[0][0]']    \n",
            " D)                                                                                               \n",
            "                                                                                                  \n",
            " conv5_block2_1_bn (BatchNo  (None, 7, 7, 512)            2048      ['conv5_block2_1_conv[0][0]'] \n",
            " rmalization)                                                                                     \n",
            "                                                                                                  \n",
            " conv5_block2_1_relu (Activ  (None, 7, 7, 512)            0         ['conv5_block2_1_bn[0][0]']   \n",
            " ation)                                                                                           \n",
            "                                                                                                  \n",
            " conv5_block2_2_conv (Conv2  (None, 7, 7, 512)            2359808   ['conv5_block2_1_relu[0][0]'] \n",
            " D)                                                                                               \n",
            "                                                                                                  \n",
            " conv5_block2_2_bn (BatchNo  (None, 7, 7, 512)            2048      ['conv5_block2_2_conv[0][0]'] \n",
            " rmalization)                                                                                     \n",
            "                                                                                                  \n",
            " conv5_block2_2_relu (Activ  (None, 7, 7, 512)            0         ['conv5_block2_2_bn[0][0]']   \n",
            " ation)                                                                                           \n",
            "                                                                                                  \n",
            " conv5_block2_3_conv (Conv2  (None, 7, 7, 2048)           1050624   ['conv5_block2_2_relu[0][0]'] \n",
            " D)                                                                                               \n",
            "                                                                                                  \n",
            " conv5_block2_3_bn (BatchNo  (None, 7, 7, 2048)           8192      ['conv5_block2_3_conv[0][0]'] \n",
            " rmalization)                                                                                     \n",
            "                                                                                                  \n",
            " conv5_block2_add (Add)      (None, 7, 7, 2048)           0         ['conv5_block1_out[0][0]',    \n",
            "                                                                     'conv5_block2_3_bn[0][0]']   \n",
            "                                                                                                  \n",
            " conv5_block2_out (Activati  (None, 7, 7, 2048)           0         ['conv5_block2_add[0][0]']    \n",
            " on)                                                                                              \n",
            "                                                                                                  \n",
            " conv5_block3_1_conv (Conv2  (None, 7, 7, 512)            1049088   ['conv5_block2_out[0][0]']    \n",
            " D)                                                                                               \n",
            "                                                                                                  \n",
            " conv5_block3_1_bn (BatchNo  (None, 7, 7, 512)            2048      ['conv5_block3_1_conv[0][0]'] \n",
            " rmalization)                                                                                     \n",
            "                                                                                                  \n",
            " conv5_block3_1_relu (Activ  (None, 7, 7, 512)            0         ['conv5_block3_1_bn[0][0]']   \n",
            " ation)                                                                                           \n",
            "                                                                                                  \n",
            " conv5_block3_2_conv (Conv2  (None, 7, 7, 512)            2359808   ['conv5_block3_1_relu[0][0]'] \n",
            " D)                                                                                               \n",
            "                                                                                                  \n",
            " conv5_block3_2_bn (BatchNo  (None, 7, 7, 512)            2048      ['conv5_block3_2_conv[0][0]'] \n",
            " rmalization)                                                                                     \n",
            "                                                                                                  \n",
            " conv5_block3_2_relu (Activ  (None, 7, 7, 512)            0         ['conv5_block3_2_bn[0][0]']   \n",
            " ation)                                                                                           \n",
            "                                                                                                  \n",
            " conv5_block3_3_conv (Conv2  (None, 7, 7, 2048)           1050624   ['conv5_block3_2_relu[0][0]'] \n",
            " D)                                                                                               \n",
            "                                                                                                  \n",
            " conv5_block3_3_bn (BatchNo  (None, 7, 7, 2048)           8192      ['conv5_block3_3_conv[0][0]'] \n",
            " rmalization)                                                                                     \n",
            "                                                                                                  \n",
            " conv5_block3_add (Add)      (None, 7, 7, 2048)           0         ['conv5_block2_out[0][0]',    \n",
            "                                                                     'conv5_block3_3_bn[0][0]']   \n",
            "                                                                                                  \n",
            " conv5_block3_out (Activati  (None, 7, 7, 2048)           0         ['conv5_block3_add[0][0]']    \n",
            " on)                                                                                              \n",
            "                                                                                                  \n",
            " global_average_pooling2d_1  (None, 2048)                 0         ['conv5_block3_out[0][0]']    \n",
            " 1 (GlobalAveragePooling2D)                                                                       \n",
            "                                                                                                  \n",
            "==================================================================================================\n",
            "Total params: 23587712 (89.98 MB)\n",
            "Trainable params: 23534592 (89.78 MB)\n",
            "Non-trainable params: 53120 (207.50 KB)\n",
            "__________________________________________________________________________________________________\n"
          ]
        }
      ],
      "source": [
        "#See all the layers of a model\n",
        "updated_model.summary()"
      ]
    },
    {
      "cell_type": "code",
      "execution_count": 108,
      "metadata": {
        "colab": {
          "base_uri": "https://localhost:8080/"
        },
        "id": "u0xEhFrtpqEE",
        "outputId": "5262964c-bfbb-427e-bcf7-1aba536efb3b"
      },
      "outputs": [
        {
          "output_type": "stream",
          "name": "stdout",
          "text": [
            "The model has 176 layers.\n"
          ]
        }
      ],
      "source": [
        "num_layers = len(updated_model.layers)\n",
        "print(f'The model has {num_layers} layers.')"
      ]
    },
    {
      "cell_type": "markdown",
      "metadata": {
        "id": "GzDk5cZJ4szS"
      },
      "source": [
        "**DATA Pre-Processing**"
      ]
    },
    {
      "cell_type": "code",
      "execution_count": 33,
      "metadata": {
        "id": "s0Eq3bpU0hLE"
      },
      "outputs": [],
      "source": [
        "\n",
        "Normal = []\n",
        "for filename in glob. glob('/content/drive/MyDrive/DataSet_CBIS-DDSM/Mass_Train_Set/BENIGN_WITHOUT_CALLBACK/*.jpg'):\n",
        "  n= cv2.imread(filename)\n",
        "  img=np.array(n)\n",
        "  n1 = cv2.resize(img , IMG_SIZE)\n",
        "  Normal. append(n1)\n",
        "  n= tf.image.flip_up_down(n1)\n",
        "  Normal. append(n)\n",
        "  n= tf.image.flip_left_right(n1)\n",
        "  Normal. append(n)\n",
        "  n= tf.image.adjust_brightness(n1, delta=0.2)\n",
        "  Normal. append(n)\n",
        "  n= tf.image.adjust_contrast (n1, 2.25 )\n",
        "  Normal. append(n)\n",
        "  n= tf.image.rot90 (n1, k=1 )\n",
        "  Normal.append(n)\n",
        "  n = tf.image.rot90 (n1, k=2 )\n",
        "  Normal.append(n)\n",
        "  n= tf.image.rot90 (n1, k=3 )\n",
        "  Normal.append(n)\n",
        "Normal=np.array(Normal)\n"
      ]
    },
    {
      "cell_type": "code",
      "execution_count": 34,
      "metadata": {
        "id": "pzPy5-NUlt4y"
      },
      "outputs": [],
      "source": [
        "Benign = []\n",
        "for filename in glob. glob('/content/drive/MyDrive/DataSet_CBIS-DDSM/Mass_Train_Set/BENIGN/*.jpg'):\n",
        "  n= cv2.imread(filename)\n",
        "  img=np.array(n)\n",
        "  n2 = cv2.resize(img , IMG_SIZE)\n",
        "  Benign. append(n2)\n",
        "  n= tf.image.flip_up_down(n2)\n",
        "  Benign. append(n)\n",
        "  n= tf.image.flip_left_right(n2)\n",
        "  Benign. append(n)\n",
        "  n= tf.image.adjust_brightness(n2, delta=0.2)\n",
        "  Benign. append(n)\n",
        "\"\"\"  n= tf.image.adjust_contrast (n2, 2.25 )\n",
        "  Benign. append(n)\n",
        "  n= tf.image.rot90 (n2, k=1 )\n",
        "  Benign.append(n)\n",
        "  n = tf.image.rot90 (n2, k=2 )\n",
        "  Benign.append(n)\n",
        "  n= tf.image.rot90 (n2, k=3 )\n",
        "  Benign.append(n)\"\"\"\n",
        "Benign=np.array(Benign)"
      ]
    },
    {
      "cell_type": "code",
      "execution_count": 35,
      "metadata": {
        "id": "kZdO9wgyK9mX"
      },
      "outputs": [],
      "source": [
        "Malignant = []\n",
        "for filename in glob. glob('/content/drive/MyDrive/DataSet_CBIS-DDSM/Mass_Train_Set/MALIGNANT/*.jpg'):\n",
        "  n= cv2.imread(filename)\n",
        "  img=np.array(n)\n",
        "  n3 = cv2.resize(img , IMG_SIZE)\n",
        "  Malignant. append(n3)\n",
        "  n= tf.image.flip_up_down(n3)\n",
        "  Malignant. append(n)\n",
        "  n= tf.image.flip_left_right(n3)\n",
        "  Malignant. append(n)\n",
        "  n= tf.image.adjust_brightness(n3, delta=0.2)\n",
        "  Malignant. append(n)\n",
        "\"\"\"  n= tf.image.adjust_contrast (n3, 2.25 )\n",
        "  Malignant. append(n)\n",
        "  n= tf.image.rot90 (n3, k=1 )\n",
        "  Malignant.append(n)\n",
        "  n = tf.image.rot90 (n3, k=2 )\n",
        "  Malignant.append(n)\n",
        "  n= tf.image.rot90 (n3, k=3 )\n",
        "  Malignant.append(n) \"\"\"\n",
        "Malignant=np.array(Malignant)"
      ]
    },
    {
      "cell_type": "code",
      "execution_count": 36,
      "metadata": {
        "colab": {
          "base_uri": "https://localhost:8080/"
        },
        "id": "CLBoByBoQRHr",
        "outputId": "80d54b2d-3a6c-4871-ae27-8ad0981ab47f"
      },
      "outputs": [
        {
          "output_type": "stream",
          "name": "stdout",
          "text": [
            "664\n",
            "2196\n",
            "2388\n"
          ]
        }
      ],
      "source": [
        "print (len(Normal))\n",
        "print( len(Benign) )\n",
        "print( len(Malignant))"
      ]
    },
    {
      "cell_type": "markdown",
      "metadata": {
        "id": "__FAdJuuULT5"
      },
      "source": [
        "**Training Features Extraction of ResNet50**"
      ]
    },
    {
      "cell_type": "code",
      "execution_count": 109,
      "metadata": {
        "colab": {
          "base_uri": "https://localhost:8080/"
        },
        "id": "9mtOdBUDUTMu",
        "outputId": "303c5790-47d8-4a16-e2b1-d02b602a0851"
      },
      "outputs": [
        {
          "output_type": "stream",
          "name": "stdout",
          "text": [
            "21/21 [==============================] - 130s 6s/step\n"
          ]
        }
      ],
      "source": [
        "Normal_features_1 = updated_model.predict(Normal, verbose= True)\n"
      ]
    },
    {
      "cell_type": "code",
      "execution_count": 110,
      "metadata": {
        "colab": {
          "base_uri": "https://localhost:8080/"
        },
        "id": "WbpsmygwLmB7",
        "outputId": "de94c255-dfc7-4c59-e11f-fb700e118b9a"
      },
      "outputs": [
        {
          "output_type": "stream",
          "name": "stdout",
          "text": [
            "69/69 [==============================] - 406s 6s/step\n"
          ]
        }
      ],
      "source": [
        "Benign_features_1 = updated_model.predict(Benign, verbose= True)\n"
      ]
    },
    {
      "cell_type": "code",
      "execution_count": 111,
      "metadata": {
        "colab": {
          "base_uri": "https://localhost:8080/"
        },
        "id": "YTqeJq1fLoKo",
        "outputId": "302cf787-0812-4e82-ef47-b567f7991d7c"
      },
      "outputs": [
        {
          "output_type": "stream",
          "name": "stdout",
          "text": [
            "75/75 [==============================] - 430s 6s/step\n"
          ]
        }
      ],
      "source": [
        "Malignant_features_1 = updated_model.predict(Malignant, verbose= True)"
      ]
    },
    {
      "cell_type": "code",
      "execution_count": 112,
      "metadata": {
        "colab": {
          "base_uri": "https://localhost:8080/"
        },
        "id": "-8YrlE7VVDfx",
        "outputId": "dcb8d5a4-fcea-41ee-ef0f-dd65405830a0"
      },
      "outputs": [
        {
          "output_type": "stream",
          "name": "stdout",
          "text": [
            "(2196, 2048)\n"
          ]
        }
      ],
      "source": [
        "print(Benign_features_1.shape)"
      ]
    },
    {
      "cell_type": "code",
      "execution_count": null,
      "metadata": {
        "colab": {
          "base_uri": "https://localhost:8080/"
        },
        "id": "qCVB9LAc73W2",
        "outputId": "f35a0f2f-1e13-4f90-e50e-115d4e99afa7"
      },
      "outputs": [
        {
          "name": "stdout",
          "output_type": "stream",
          "text": [
            "[0.         0.         0.00595283 ... 1.8342158  0.         0.        ]\n"
          ]
        }
      ],
      "source": [
        "print(Normal_features_1[2])"
      ]
    },
    {
      "cell_type": "code",
      "execution_count": 113,
      "metadata": {
        "id": "BPOCzLZwRzxO"
      },
      "outputs": [],
      "source": [
        "Training_features_ResNet50= np.concatenate((Normal_features_1, Benign_features_1, Malignant_features_1))"
      ]
    },
    {
      "cell_type": "code",
      "execution_count": null,
      "metadata": {
        "colab": {
          "base_uri": "https://localhost:8080/"
        },
        "id": "YpHHJEYASLtS",
        "outputId": "062ac336-fbb2-492f-c809-5174a764dab4"
      },
      "outputs": [
        {
          "output_type": "stream",
          "name": "stdout",
          "text": [
            "(5248, 2048)\n"
          ]
        }
      ],
      "source": [
        "print(Training_features_ResNet50.shape)"
      ]
    },
    {
      "cell_type": "markdown",
      "metadata": {
        "id": "fHcFJLcIzKP6"
      },
      "source": [
        "**Data Labels**"
      ]
    },
    {
      "cell_type": "code",
      "execution_count": 114,
      "metadata": {
        "id": "wLBcixzk05w5"
      },
      "outputs": [],
      "source": [
        "labels_Normal= np.zeros((664,1))\n",
        "labels_Benign= np.ones((2196,1))\n",
        "labels_Malignant= np.zeros((2388,1))\n",
        "\n",
        "labels_Malignant[:, 0] = 2"
      ]
    },
    {
      "cell_type": "code",
      "execution_count": 115,
      "metadata": {
        "id": "5ppmA-8Z095A"
      },
      "outputs": [],
      "source": [
        "concatenated_labels= np.concatenate((labels_Normal, labels_Benign, labels_Malignant))"
      ]
    },
    {
      "cell_type": "code",
      "execution_count": 116,
      "metadata": {
        "id": "dctIyAlA1GvE"
      },
      "outputs": [],
      "source": [
        "from sklearn.preprocessing import OneHotEncoder\n",
        "ohe = OneHotEncoder()\n",
        "y_train1 = ohe.fit_transform(concatenated_labels).toarray()"
      ]
    },
    {
      "cell_type": "markdown",
      "metadata": {
        "id": "_DOZhz9jH4Q-"
      },
      "source": [
        "**Train, Test Split Sklearn**"
      ]
    },
    {
      "cell_type": "code",
      "execution_count": 117,
      "metadata": {
        "id": "pTVZluvIH-I7"
      },
      "outputs": [],
      "source": [
        "X_train, X_test, y_train, y_test = train_test_split (Training_features_ResNet50,y_train1 ,\n",
        "                                   random_state=0 ,\n",
        "                                   test_size=0.20,\n",
        "                                   shuffle=True )\n",
        "#increase test size to 0.4 and check the results\n",
        "#increase datasize by merging train and test dataset."
      ]
    },
    {
      "cell_type": "markdown",
      "metadata": {
        "id": "OhrvX8_J0SMt"
      },
      "source": [
        "**Classifier Compilation...........FC Layer**"
      ]
    },
    {
      "cell_type": "code",
      "execution_count": 118,
      "metadata": {
        "id": "ru37XcME1K71"
      },
      "outputs": [],
      "source": [
        "model = Sequential()\n",
        "#model.add(Flatten())\n",
        "#model.add(Dropout(0.2, input_shape=(2048,)))\n",
        "model.add(Dense(1024, input_shape=(2048,), activation='relu'))\n",
        "model.add(Dense(512, activation='relu'))\n",
        "model.add(Dense(256, activation='relu'))\n",
        "#model.add(Dropout(0.2))\n",
        "#model.add(Dense(256, activation='relu'))\n",
        "model.add(Dense(3, activation='softmax'))\n",
        "\n",
        "model.compile(optimizer = RMSprop(learning_rate=0.0001),\n",
        "              loss = 'categorical_crossentropy',\n",
        "              metrics = ['accuracy'])"
      ]
    },
    {
      "cell_type": "code",
      "execution_count": 119,
      "metadata": {
        "id": "imZsoApUAXxz"
      },
      "outputs": [],
      "source": [
        "# Implement callback function to stop training\n",
        "# when accuracy reaches e.g. ACCURACY_THRESHOLD = 0.95\n",
        "\n",
        "ACCURACY_THRESHOLD= 0.95\n",
        "\n",
        "class myCallback(tf.keras.callbacks.Callback):\n",
        "    def on_epoch_end(self, epoch, logs={}):\n",
        "        if(logs.get('val_accuracy') > ACCURACY_THRESHOLD):\n",
        "          print(\"\\nReached %2.2f%% accuracy, so stopping training!!\" %(ACCURACY_THRESHOLD*100))\n",
        "          self.model.stop_training = True"
      ]
    },
    {
      "cell_type": "code",
      "execution_count": 120,
      "metadata": {
        "id": "ArI7RvUCA2Q8"
      },
      "outputs": [],
      "source": [
        "callbacks = myCallback()"
      ]
    },
    {
      "cell_type": "markdown",
      "metadata": {
        "id": "04L1Jns-YS6a"
      },
      "source": [
        "**Training on features extracted by ResNet50**"
      ]
    },
    {
      "cell_type": "code",
      "execution_count": 121,
      "metadata": {
        "colab": {
          "base_uri": "https://localhost:8080/"
        },
        "id": "L-pXcFrzYSBS",
        "outputId": "79f9c063-1d8e-4b0b-dd61-eebc3efae218"
      },
      "outputs": [
        {
          "output_type": "stream",
          "name": "stdout",
          "text": [
            "Epoch 1/400\n",
            "132/132 [==============================] - 6s 44ms/step - loss: 0.8452 - accuracy: 0.5646 - val_loss: 0.7658 - val_accuracy: 0.6019\n",
            "Epoch 2/400\n",
            "132/132 [==============================] - 5s 38ms/step - loss: 0.7214 - accuracy: 0.6382 - val_loss: 0.7482 - val_accuracy: 0.6533\n",
            "Epoch 3/400\n",
            "132/132 [==============================] - 4s 34ms/step - loss: 0.6246 - accuracy: 0.7008 - val_loss: 0.8566 - val_accuracy: 0.5838\n",
            "Epoch 4/400\n",
            "132/132 [==============================] - 6s 43ms/step - loss: 0.5577 - accuracy: 0.7439 - val_loss: 0.6129 - val_accuracy: 0.6981\n",
            "Epoch 5/400\n",
            "132/132 [==============================] - 5s 36ms/step - loss: 0.4918 - accuracy: 0.7842 - val_loss: 0.5646 - val_accuracy: 0.7257\n",
            "Epoch 6/400\n",
            "132/132 [==============================] - 5s 36ms/step - loss: 0.4309 - accuracy: 0.8149 - val_loss: 0.6047 - val_accuracy: 0.6990\n",
            "Epoch 7/400\n",
            "132/132 [==============================] - 6s 46ms/step - loss: 0.3716 - accuracy: 0.8456 - val_loss: 0.6749 - val_accuracy: 0.6895\n",
            "Epoch 8/400\n",
            "132/132 [==============================] - 5s 35ms/step - loss: 0.3118 - accuracy: 0.8768 - val_loss: 0.5419 - val_accuracy: 0.7476\n",
            "Epoch 9/400\n",
            "132/132 [==============================] - 4s 32ms/step - loss: 0.2716 - accuracy: 0.8935 - val_loss: 0.4679 - val_accuracy: 0.7838\n",
            "Epoch 10/400\n",
            "132/132 [==============================] - 6s 43ms/step - loss: 0.2220 - accuracy: 0.9212 - val_loss: 0.4865 - val_accuracy: 0.7838\n",
            "Epoch 11/400\n",
            "132/132 [==============================] - 5s 35ms/step - loss: 0.1954 - accuracy: 0.9300 - val_loss: 0.4531 - val_accuracy: 0.7962\n",
            "Epoch 12/400\n",
            "132/132 [==============================] - 4s 32ms/step - loss: 0.1625 - accuracy: 0.9440 - val_loss: 0.7710 - val_accuracy: 0.7114\n",
            "Epoch 13/400\n",
            "132/132 [==============================] - 6s 44ms/step - loss: 0.1419 - accuracy: 0.9497 - val_loss: 0.6235 - val_accuracy: 0.7581\n",
            "Epoch 14/400\n",
            "132/132 [==============================] - 5s 36ms/step - loss: 0.1151 - accuracy: 0.9643 - val_loss: 0.3828 - val_accuracy: 0.8448\n",
            "Epoch 15/400\n",
            "132/132 [==============================] - 4s 34ms/step - loss: 0.0992 - accuracy: 0.9645 - val_loss: 0.3778 - val_accuracy: 0.8533\n",
            "Epoch 16/400\n",
            "132/132 [==============================] - 6s 45ms/step - loss: 0.0811 - accuracy: 0.9755 - val_loss: 0.5743 - val_accuracy: 0.7867\n",
            "Epoch 17/400\n",
            "132/132 [==============================] - 5s 35ms/step - loss: 0.0745 - accuracy: 0.9783 - val_loss: 0.6956 - val_accuracy: 0.7600\n",
            "Epoch 18/400\n",
            "132/132 [==============================] - 5s 40ms/step - loss: 0.0724 - accuracy: 0.9790 - val_loss: 0.4570 - val_accuracy: 0.8267\n",
            "Epoch 19/400\n",
            "132/132 [==============================] - 6s 42ms/step - loss: 0.0576 - accuracy: 0.9833 - val_loss: 0.3783 - val_accuracy: 0.8657\n",
            "Epoch 20/400\n",
            "132/132 [==============================] - 5s 35ms/step - loss: 0.0507 - accuracy: 0.9848 - val_loss: 0.4234 - val_accuracy: 0.8524\n",
            "Epoch 21/400\n",
            "132/132 [==============================] - 5s 37ms/step - loss: 0.0600 - accuracy: 0.9836 - val_loss: 0.4053 - val_accuracy: 0.8648\n",
            "Epoch 22/400\n",
            "132/132 [==============================] - 5s 40ms/step - loss: 0.0502 - accuracy: 0.9871 - val_loss: 1.0284 - val_accuracy: 0.7162\n",
            "Epoch 23/400\n",
            "132/132 [==============================] - 5s 36ms/step - loss: 0.0472 - accuracy: 0.9881 - val_loss: 0.3867 - val_accuracy: 0.8657\n",
            "Epoch 24/400\n",
            "132/132 [==============================] - 6s 46ms/step - loss: 0.0415 - accuracy: 0.9886 - val_loss: 0.4108 - val_accuracy: 0.8629\n",
            "Epoch 25/400\n",
            "132/132 [==============================] - 5s 40ms/step - loss: 0.0493 - accuracy: 0.9857 - val_loss: 0.3918 - val_accuracy: 0.8705\n",
            "Epoch 26/400\n",
            "132/132 [==============================] - 5s 37ms/step - loss: 0.0391 - accuracy: 0.9907 - val_loss: 0.4328 - val_accuracy: 0.8638\n",
            "Epoch 27/400\n",
            "132/132 [==============================] - 6s 45ms/step - loss: 0.0243 - accuracy: 0.9945 - val_loss: 1.0360 - val_accuracy: 0.7638\n",
            "Epoch 28/400\n",
            "132/132 [==============================] - 5s 36ms/step - loss: 0.0458 - accuracy: 0.9850 - val_loss: 0.5213 - val_accuracy: 0.8371\n",
            "Epoch 29/400\n",
            "132/132 [==============================] - 5s 39ms/step - loss: 0.0226 - accuracy: 0.9936 - val_loss: 0.4390 - val_accuracy: 0.8705\n",
            "Epoch 30/400\n",
            "132/132 [==============================] - 6s 43ms/step - loss: 0.0433 - accuracy: 0.9881 - val_loss: 0.4154 - val_accuracy: 0.8686\n",
            "Epoch 31/400\n",
            "132/132 [==============================] - 5s 36ms/step - loss: 0.0244 - accuracy: 0.9940 - val_loss: 0.4254 - val_accuracy: 0.8829\n",
            "Epoch 32/400\n",
            "132/132 [==============================] - 5s 40ms/step - loss: 0.0265 - accuracy: 0.9929 - val_loss: 0.4500 - val_accuracy: 0.8724\n",
            "Epoch 33/400\n",
            "132/132 [==============================] - 5s 41ms/step - loss: 0.0119 - accuracy: 0.9960 - val_loss: 0.6043 - val_accuracy: 0.8352\n",
            "Epoch 34/400\n",
            "132/132 [==============================] - 5s 38ms/step - loss: 0.0401 - accuracy: 0.9902 - val_loss: 0.4392 - val_accuracy: 0.8676\n",
            "Epoch 35/400\n",
            "132/132 [==============================] - 7s 51ms/step - loss: 0.0213 - accuracy: 0.9938 - val_loss: 0.4517 - val_accuracy: 0.8762\n",
            "Epoch 36/400\n",
            "132/132 [==============================] - 5s 38ms/step - loss: 0.0189 - accuracy: 0.9962 - val_loss: 0.4567 - val_accuracy: 0.8733\n",
            "Epoch 37/400\n",
            "132/132 [==============================] - 5s 37ms/step - loss: 0.0267 - accuracy: 0.9936 - val_loss: 0.4870 - val_accuracy: 0.8676\n",
            "Epoch 38/400\n",
            "132/132 [==============================] - 6s 46ms/step - loss: 0.0174 - accuracy: 0.9957 - val_loss: 0.4685 - val_accuracy: 0.8714\n",
            "Epoch 39/400\n",
            "132/132 [==============================] - 5s 35ms/step - loss: 0.0134 - accuracy: 0.9974 - val_loss: 0.4605 - val_accuracy: 0.8743\n",
            "Epoch 40/400\n",
            "132/132 [==============================] - 5s 37ms/step - loss: 2.3216e-04 - accuracy: 1.0000 - val_loss: 0.4898 - val_accuracy: 0.8771\n",
            "Epoch 41/400\n",
            "132/132 [==============================] - 5s 41ms/step - loss: 1.0978e-04 - accuracy: 1.0000 - val_loss: 0.5049 - val_accuracy: 0.8781\n",
            "Epoch 42/400\n",
            "132/132 [==============================] - 5s 36ms/step - loss: 7.8348e-05 - accuracy: 1.0000 - val_loss: 0.5112 - val_accuracy: 0.8771\n",
            "Epoch 43/400\n",
            "132/132 [==============================] - 5s 38ms/step - loss: 6.2725e-05 - accuracy: 1.0000 - val_loss: 0.5190 - val_accuracy: 0.8714\n",
            "Epoch 44/400\n",
            "132/132 [==============================] - 5s 40ms/step - loss: 5.2438e-05 - accuracy: 1.0000 - val_loss: 0.5196 - val_accuracy: 0.8752\n",
            "Epoch 45/400\n",
            "132/132 [==============================] - 5s 37ms/step - loss: 4.6349e-05 - accuracy: 1.0000 - val_loss: 0.5267 - val_accuracy: 0.8762\n",
            "Epoch 46/400\n",
            "132/132 [==============================] - 6s 46ms/step - loss: 4.2071e-05 - accuracy: 1.0000 - val_loss: 0.5288 - val_accuracy: 0.8781\n",
            "Epoch 47/400\n",
            "132/132 [==============================] - 5s 37ms/step - loss: 3.7943e-05 - accuracy: 1.0000 - val_loss: 0.5327 - val_accuracy: 0.8724\n",
            "Epoch 48/400\n",
            "132/132 [==============================] - 5s 36ms/step - loss: 3.4609e-05 - accuracy: 1.0000 - val_loss: 0.5328 - val_accuracy: 0.8790\n",
            "Epoch 49/400\n",
            "132/132 [==============================] - 6s 44ms/step - loss: 3.2413e-05 - accuracy: 1.0000 - val_loss: 0.5379 - val_accuracy: 0.8771\n",
            "Epoch 50/400\n",
            "132/132 [==============================] - 5s 37ms/step - loss: 3.0458e-05 - accuracy: 1.0000 - val_loss: 0.5420 - val_accuracy: 0.8781\n",
            "Epoch 51/400\n",
            "132/132 [==============================] - 5s 38ms/step - loss: 2.8070e-05 - accuracy: 1.0000 - val_loss: 0.5463 - val_accuracy: 0.8762\n",
            "Epoch 52/400\n",
            "132/132 [==============================] - 6s 43ms/step - loss: 2.6662e-05 - accuracy: 1.0000 - val_loss: 0.5483 - val_accuracy: 0.8771\n",
            "Epoch 53/400\n",
            "132/132 [==============================] - 5s 36ms/step - loss: 2.4941e-05 - accuracy: 1.0000 - val_loss: 0.5504 - val_accuracy: 0.8771\n",
            "Epoch 54/400\n",
            "132/132 [==============================] - 6s 43ms/step - loss: 2.3782e-05 - accuracy: 1.0000 - val_loss: 0.5527 - val_accuracy: 0.8762\n",
            "Epoch 55/400\n",
            "132/132 [==============================] - 5s 40ms/step - loss: 2.2749e-05 - accuracy: 1.0000 - val_loss: 0.5570 - val_accuracy: 0.8714\n",
            "Epoch 56/400\n",
            "132/132 [==============================] - 5s 37ms/step - loss: 2.1595e-05 - accuracy: 1.0000 - val_loss: 0.5559 - val_accuracy: 0.8752\n",
            "Epoch 57/400\n",
            "132/132 [==============================] - 6s 46ms/step - loss: 2.0745e-05 - accuracy: 1.0000 - val_loss: 0.5591 - val_accuracy: 0.8762\n",
            "Epoch 58/400\n",
            "132/132 [==============================] - 5s 37ms/step - loss: 1.9798e-05 - accuracy: 1.0000 - val_loss: 0.5594 - val_accuracy: 0.8762\n",
            "Epoch 59/400\n",
            "132/132 [==============================] - 5s 37ms/step - loss: 1.8918e-05 - accuracy: 1.0000 - val_loss: 0.5633 - val_accuracy: 0.8733\n",
            "Epoch 60/400\n",
            "132/132 [==============================] - 6s 45ms/step - loss: 1.8313e-05 - accuracy: 1.0000 - val_loss: 0.5623 - val_accuracy: 0.8771\n",
            "Epoch 61/400\n",
            "132/132 [==============================] - 5s 38ms/step - loss: 1.7619e-05 - accuracy: 1.0000 - val_loss: 0.5653 - val_accuracy: 0.8752\n",
            "Epoch 62/400\n",
            "132/132 [==============================] - 5s 39ms/step - loss: 1.6906e-05 - accuracy: 1.0000 - val_loss: 0.5668 - val_accuracy: 0.8752\n",
            "Epoch 63/400\n",
            "132/132 [==============================] - 6s 42ms/step - loss: 1.6365e-05 - accuracy: 1.0000 - val_loss: 0.5684 - val_accuracy: 0.8790\n",
            "Epoch 64/400\n",
            "132/132 [==============================] - 5s 36ms/step - loss: 1.5867e-05 - accuracy: 1.0000 - val_loss: 0.5695 - val_accuracy: 0.8733\n",
            "Epoch 65/400\n",
            "132/132 [==============================] - 6s 42ms/step - loss: 1.5383e-05 - accuracy: 1.0000 - val_loss: 0.5686 - val_accuracy: 0.8781\n",
            "Epoch 66/400\n",
            "132/132 [==============================] - 5s 40ms/step - loss: 1.4970e-05 - accuracy: 1.0000 - val_loss: 0.5686 - val_accuracy: 0.8781\n",
            "Epoch 67/400\n",
            "132/132 [==============================] - 5s 35ms/step - loss: 1.4447e-05 - accuracy: 1.0000 - val_loss: 0.5714 - val_accuracy: 0.8771\n",
            "Epoch 68/400\n",
            "132/132 [==============================] - 5s 39ms/step - loss: 1.4081e-05 - accuracy: 1.0000 - val_loss: 0.5736 - val_accuracy: 0.8762\n",
            "Epoch 69/400\n",
            "132/132 [==============================] - 5s 36ms/step - loss: 1.3669e-05 - accuracy: 1.0000 - val_loss: 0.5761 - val_accuracy: 0.8781\n",
            "Epoch 70/400\n",
            "132/132 [==============================] - 4s 33ms/step - loss: 1.3312e-05 - accuracy: 1.0000 - val_loss: 0.5755 - val_accuracy: 0.8781\n",
            "Epoch 71/400\n",
            "132/132 [==============================] - 5s 37ms/step - loss: 1.2904e-05 - accuracy: 1.0000 - val_loss: 0.5791 - val_accuracy: 0.8771\n",
            "Epoch 72/400\n",
            "132/132 [==============================] - 5s 38ms/step - loss: 1.2630e-05 - accuracy: 1.0000 - val_loss: 0.5778 - val_accuracy: 0.8781\n",
            "Epoch 73/400\n",
            "132/132 [==============================] - 5s 37ms/step - loss: 1.2317e-05 - accuracy: 1.0000 - val_loss: 0.5773 - val_accuracy: 0.8743\n",
            "Epoch 74/400\n",
            "132/132 [==============================] - 6s 43ms/step - loss: 1.1968e-05 - accuracy: 1.0000 - val_loss: 0.5789 - val_accuracy: 0.8790\n",
            "Epoch 75/400\n",
            "132/132 [==============================] - 5s 37ms/step - loss: 1.1650e-05 - accuracy: 1.0000 - val_loss: 0.5822 - val_accuracy: 0.8781\n",
            "Epoch 76/400\n",
            "132/132 [==============================] - 5s 35ms/step - loss: 1.1438e-05 - accuracy: 1.0000 - val_loss: 0.5807 - val_accuracy: 0.8752\n",
            "Epoch 77/400\n",
            "132/132 [==============================] - 6s 46ms/step - loss: 1.1142e-05 - accuracy: 1.0000 - val_loss: 0.5837 - val_accuracy: 0.8762\n",
            "Epoch 78/400\n",
            "132/132 [==============================] - 5s 35ms/step - loss: 1.0903e-05 - accuracy: 1.0000 - val_loss: 0.5829 - val_accuracy: 0.8781\n",
            "Epoch 79/400\n",
            "132/132 [==============================] - 5s 35ms/step - loss: 1.0645e-05 - accuracy: 1.0000 - val_loss: 0.5824 - val_accuracy: 0.8762\n",
            "Epoch 80/400\n",
            "132/132 [==============================] - 5s 41ms/step - loss: 1.0412e-05 - accuracy: 1.0000 - val_loss: 0.5853 - val_accuracy: 0.8771\n",
            "Epoch 81/400\n",
            "132/132 [==============================] - 4s 34ms/step - loss: 1.0251e-05 - accuracy: 1.0000 - val_loss: 0.5851 - val_accuracy: 0.8781\n",
            "Epoch 82/400\n",
            "132/132 [==============================] - 5s 36ms/step - loss: 1.0038e-05 - accuracy: 1.0000 - val_loss: 0.5867 - val_accuracy: 0.8781\n",
            "Epoch 83/400\n",
            "132/132 [==============================] - 6s 45ms/step - loss: 9.8035e-06 - accuracy: 1.0000 - val_loss: 0.5860 - val_accuracy: 0.8790\n",
            "Epoch 84/400\n",
            "132/132 [==============================] - 5s 36ms/step - loss: 9.5938e-06 - accuracy: 1.0000 - val_loss: 0.5891 - val_accuracy: 0.8781\n",
            "Epoch 85/400\n",
            "132/132 [==============================] - 5s 38ms/step - loss: 9.4251e-06 - accuracy: 1.0000 - val_loss: 0.5880 - val_accuracy: 0.8790\n",
            "Epoch 86/400\n",
            "132/132 [==============================] - 5s 42ms/step - loss: 9.2464e-06 - accuracy: 1.0000 - val_loss: 0.5921 - val_accuracy: 0.8800\n",
            "Epoch 87/400\n",
            "132/132 [==============================] - 4s 34ms/step - loss: 9.1375e-06 - accuracy: 1.0000 - val_loss: 0.5908 - val_accuracy: 0.8781\n",
            "Epoch 88/400\n",
            "132/132 [==============================] - 5s 40ms/step - loss: 8.9358e-06 - accuracy: 1.0000 - val_loss: 0.5907 - val_accuracy: 0.8790\n",
            "Epoch 89/400\n",
            "132/132 [==============================] - 5s 40ms/step - loss: 8.7613e-06 - accuracy: 1.0000 - val_loss: 0.5920 - val_accuracy: 0.8810\n",
            "Epoch 90/400\n",
            "132/132 [==============================] - 5s 37ms/step - loss: 8.6085e-06 - accuracy: 1.0000 - val_loss: 0.5924 - val_accuracy: 0.8781\n",
            "Epoch 91/400\n",
            "132/132 [==============================] - 6s 46ms/step - loss: 8.4727e-06 - accuracy: 1.0000 - val_loss: 0.5933 - val_accuracy: 0.8819\n",
            "Epoch 92/400\n",
            "132/132 [==============================] - 5s 37ms/step - loss: 8.2778e-06 - accuracy: 1.0000 - val_loss: 0.5931 - val_accuracy: 0.8743\n",
            "Epoch 93/400\n",
            "132/132 [==============================] - 5s 35ms/step - loss: 8.1839e-06 - accuracy: 1.0000 - val_loss: 0.5940 - val_accuracy: 0.8810\n",
            "Epoch 94/400\n",
            "132/132 [==============================] - 6s 48ms/step - loss: 8.0430e-06 - accuracy: 1.0000 - val_loss: 0.5943 - val_accuracy: 0.8819\n",
            "Epoch 95/400\n",
            "132/132 [==============================] - 5s 36ms/step - loss: 7.8937e-06 - accuracy: 1.0000 - val_loss: 0.5965 - val_accuracy: 0.8800\n",
            "Epoch 96/400\n",
            "132/132 [==============================] - 4s 33ms/step - loss: 7.7812e-06 - accuracy: 1.0000 - val_loss: 0.5965 - val_accuracy: 0.8790\n",
            "Epoch 97/400\n",
            "132/132 [==============================] - 6s 44ms/step - loss: 7.6502e-06 - accuracy: 1.0000 - val_loss: 0.5971 - val_accuracy: 0.8743\n",
            "Epoch 98/400\n",
            "132/132 [==============================] - 5s 37ms/step - loss: 7.5617e-06 - accuracy: 1.0000 - val_loss: 0.5965 - val_accuracy: 0.8771\n",
            "Epoch 99/400\n",
            "132/132 [==============================] - 5s 38ms/step - loss: 7.4073e-06 - accuracy: 1.0000 - val_loss: 0.5991 - val_accuracy: 0.8800\n",
            "Epoch 100/400\n",
            "132/132 [==============================] - 6s 44ms/step - loss: 7.3344e-06 - accuracy: 1.0000 - val_loss: 0.5980 - val_accuracy: 0.8790\n",
            "Epoch 101/400\n",
            "132/132 [==============================] - 4s 34ms/step - loss: 7.1949e-06 - accuracy: 1.0000 - val_loss: 0.5989 - val_accuracy: 0.8781\n",
            "Epoch 102/400\n",
            "132/132 [==============================] - 5s 38ms/step - loss: 7.0957e-06 - accuracy: 1.0000 - val_loss: 0.5992 - val_accuracy: 0.8800\n",
            "Epoch 103/400\n",
            "132/132 [==============================] - 6s 42ms/step - loss: 7.0039e-06 - accuracy: 1.0000 - val_loss: 0.5992 - val_accuracy: 0.8790\n",
            "Epoch 104/400\n",
            "132/132 [==============================] - 5s 35ms/step - loss: 6.8826e-06 - accuracy: 1.0000 - val_loss: 0.6004 - val_accuracy: 0.8781\n",
            "Epoch 105/400\n",
            "132/132 [==============================] - 6s 43ms/step - loss: 6.7920e-06 - accuracy: 1.0000 - val_loss: 0.6014 - val_accuracy: 0.8781\n",
            "Epoch 106/400\n",
            "132/132 [==============================] - 5s 39ms/step - loss: 6.7225e-06 - accuracy: 1.0000 - val_loss: 0.6012 - val_accuracy: 0.8790\n",
            "Epoch 107/400\n",
            "132/132 [==============================] - 5s 36ms/step - loss: 6.6172e-06 - accuracy: 1.0000 - val_loss: 0.6027 - val_accuracy: 0.8790\n",
            "Epoch 108/400\n",
            "132/132 [==============================] - 6s 46ms/step - loss: 6.5350e-06 - accuracy: 1.0000 - val_loss: 0.6028 - val_accuracy: 0.8762\n",
            "Epoch 109/400\n",
            "132/132 [==============================] - 5s 35ms/step - loss: 6.4439e-06 - accuracy: 1.0000 - val_loss: 0.6038 - val_accuracy: 0.8781\n",
            "Epoch 110/400\n",
            "132/132 [==============================] - 4s 33ms/step - loss: 6.3531e-06 - accuracy: 1.0000 - val_loss: 0.6038 - val_accuracy: 0.8762\n",
            "Epoch 111/400\n",
            "132/132 [==============================] - 6s 43ms/step - loss: 6.3031e-06 - accuracy: 1.0000 - val_loss: 0.6065 - val_accuracy: 0.8790\n",
            "Epoch 112/400\n",
            "132/132 [==============================] - 5s 35ms/step - loss: 6.2226e-06 - accuracy: 1.0000 - val_loss: 0.6053 - val_accuracy: 0.8790\n",
            "Epoch 113/400\n",
            "132/132 [==============================] - 5s 35ms/step - loss: 6.1301e-06 - accuracy: 1.0000 - val_loss: 0.6058 - val_accuracy: 0.8790\n",
            "Epoch 114/400\n",
            "132/132 [==============================] - 5s 41ms/step - loss: 6.0445e-06 - accuracy: 1.0000 - val_loss: 0.6073 - val_accuracy: 0.8790\n",
            "Epoch 115/400\n",
            "132/132 [==============================] - 5s 35ms/step - loss: 5.9730e-06 - accuracy: 1.0000 - val_loss: 0.6081 - val_accuracy: 0.8800\n",
            "Epoch 116/400\n",
            "132/132 [==============================] - 5s 37ms/step - loss: 5.9065e-06 - accuracy: 1.0000 - val_loss: 0.6067 - val_accuracy: 0.8800\n",
            "Epoch 117/400\n",
            "132/132 [==============================] - 6s 42ms/step - loss: 5.8311e-06 - accuracy: 1.0000 - val_loss: 0.6088 - val_accuracy: 0.8762\n",
            "Epoch 118/400\n",
            "132/132 [==============================] - 4s 33ms/step - loss: 5.7749e-06 - accuracy: 1.0000 - val_loss: 0.6075 - val_accuracy: 0.8771\n",
            "Epoch 119/400\n",
            "132/132 [==============================] - 8s 64ms/step - loss: 5.6966e-06 - accuracy: 1.0000 - val_loss: 0.6089 - val_accuracy: 0.8743\n",
            "Epoch 120/400\n",
            "132/132 [==============================] - 6s 45ms/step - loss: 5.6382e-06 - accuracy: 1.0000 - val_loss: 0.6097 - val_accuracy: 0.8790\n",
            "Epoch 121/400\n",
            "132/132 [==============================] - 4s 34ms/step - loss: 5.5591e-06 - accuracy: 1.0000 - val_loss: 0.6096 - val_accuracy: 0.8790\n",
            "Epoch 122/400\n",
            "132/132 [==============================] - 6s 44ms/step - loss: 5.5002e-06 - accuracy: 1.0000 - val_loss: 0.6099 - val_accuracy: 0.8790\n",
            "Epoch 123/400\n",
            "132/132 [==============================] - 5s 39ms/step - loss: 5.4427e-06 - accuracy: 1.0000 - val_loss: 0.6105 - val_accuracy: 0.8790\n",
            "Epoch 124/400\n",
            "132/132 [==============================] - 5s 36ms/step - loss: 5.3773e-06 - accuracy: 1.0000 - val_loss: 0.6110 - val_accuracy: 0.8781\n",
            "Epoch 125/400\n",
            "132/132 [==============================] - 6s 47ms/step - loss: 5.3285e-06 - accuracy: 1.0000 - val_loss: 0.6119 - val_accuracy: 0.8790\n",
            "Epoch 126/400\n",
            "132/132 [==============================] - 5s 36ms/step - loss: 5.2631e-06 - accuracy: 1.0000 - val_loss: 0.6123 - val_accuracy: 0.8790\n",
            "Epoch 127/400\n",
            "132/132 [==============================] - 5s 37ms/step - loss: 5.2058e-06 - accuracy: 1.0000 - val_loss: 0.6128 - val_accuracy: 0.8781\n",
            "Epoch 128/400\n",
            "132/132 [==============================] - 6s 45ms/step - loss: 5.1555e-06 - accuracy: 1.0000 - val_loss: 0.6128 - val_accuracy: 0.8790\n",
            "Epoch 129/400\n",
            "132/132 [==============================] - 5s 37ms/step - loss: 5.0957e-06 - accuracy: 1.0000 - val_loss: 0.6134 - val_accuracy: 0.8771\n",
            "Epoch 130/400\n",
            "132/132 [==============================] - 5s 38ms/step - loss: 5.0309e-06 - accuracy: 1.0000 - val_loss: 0.6133 - val_accuracy: 0.8762\n",
            "Epoch 131/400\n",
            "132/132 [==============================] - 6s 48ms/step - loss: 4.9958e-06 - accuracy: 1.0000 - val_loss: 0.6144 - val_accuracy: 0.8790\n",
            "Epoch 132/400\n",
            "132/132 [==============================] - 5s 38ms/step - loss: 4.9363e-06 - accuracy: 1.0000 - val_loss: 0.6151 - val_accuracy: 0.8781\n",
            "Epoch 133/400\n",
            "132/132 [==============================] - 6s 44ms/step - loss: 4.8918e-06 - accuracy: 1.0000 - val_loss: 0.6140 - val_accuracy: 0.8771\n",
            "Epoch 134/400\n",
            "132/132 [==============================] - 5s 40ms/step - loss: 4.8449e-06 - accuracy: 1.0000 - val_loss: 0.6151 - val_accuracy: 0.8790\n",
            "Epoch 135/400\n",
            "132/132 [==============================] - 5s 38ms/step - loss: 4.7965e-06 - accuracy: 1.0000 - val_loss: 0.6155 - val_accuracy: 0.8790\n",
            "Epoch 136/400\n",
            "132/132 [==============================] - 5s 41ms/step - loss: 4.7385e-06 - accuracy: 1.0000 - val_loss: 0.6157 - val_accuracy: 0.8771\n",
            "Epoch 137/400\n",
            "132/132 [==============================] - 5s 36ms/step - loss: 4.6892e-06 - accuracy: 1.0000 - val_loss: 0.6154 - val_accuracy: 0.8752\n",
            "Epoch 138/400\n",
            "132/132 [==============================] - 5s 35ms/step - loss: 4.6650e-06 - accuracy: 1.0000 - val_loss: 0.6171 - val_accuracy: 0.8790\n",
            "Epoch 139/400\n",
            "132/132 [==============================] - 6s 44ms/step - loss: 4.6061e-06 - accuracy: 1.0000 - val_loss: 0.6176 - val_accuracy: 0.8781\n",
            "Epoch 140/400\n",
            "132/132 [==============================] - 5s 35ms/step - loss: 4.5621e-06 - accuracy: 1.0000 - val_loss: 0.6180 - val_accuracy: 0.8800\n",
            "Epoch 141/400\n",
            "132/132 [==============================] - 5s 41ms/step - loss: 4.5342e-06 - accuracy: 1.0000 - val_loss: 0.6181 - val_accuracy: 0.8762\n",
            "Epoch 142/400\n",
            "132/132 [==============================] - 5s 40ms/step - loss: 4.4827e-06 - accuracy: 1.0000 - val_loss: 0.6195 - val_accuracy: 0.8781\n",
            "Epoch 143/400\n",
            "132/132 [==============================] - 5s 36ms/step - loss: 4.4432e-06 - accuracy: 1.0000 - val_loss: 0.6188 - val_accuracy: 0.8790\n",
            "Epoch 144/400\n",
            "132/132 [==============================] - 5s 37ms/step - loss: 4.3920e-06 - accuracy: 1.0000 - val_loss: 0.6189 - val_accuracy: 0.8790\n",
            "Epoch 145/400\n",
            "132/132 [==============================] - 6s 43ms/step - loss: 4.3587e-06 - accuracy: 1.0000 - val_loss: 0.6196 - val_accuracy: 0.8790\n",
            "Epoch 146/400\n",
            "132/132 [==============================] - 5s 36ms/step - loss: 4.3240e-06 - accuracy: 1.0000 - val_loss: 0.6198 - val_accuracy: 0.8771\n",
            "Epoch 147/400\n",
            "132/132 [==============================] - 5s 40ms/step - loss: 4.2818e-06 - accuracy: 1.0000 - val_loss: 0.6204 - val_accuracy: 0.8790\n",
            "Epoch 148/400\n",
            "132/132 [==============================] - 5s 37ms/step - loss: 4.2266e-06 - accuracy: 1.0000 - val_loss: 0.6215 - val_accuracy: 0.8800\n",
            "Epoch 149/400\n",
            "132/132 [==============================] - 5s 38ms/step - loss: 4.2114e-06 - accuracy: 1.0000 - val_loss: 0.6211 - val_accuracy: 0.8790\n",
            "Epoch 150/400\n",
            "132/132 [==============================] - 6s 42ms/step - loss: 4.1745e-06 - accuracy: 1.0000 - val_loss: 0.6212 - val_accuracy: 0.8790\n",
            "Epoch 151/400\n",
            "132/132 [==============================] - 5s 39ms/step - loss: 4.1380e-06 - accuracy: 1.0000 - val_loss: 0.6214 - val_accuracy: 0.8790\n",
            "Epoch 152/400\n",
            "132/132 [==============================] - 5s 38ms/step - loss: 4.1047e-06 - accuracy: 1.0000 - val_loss: 0.6214 - val_accuracy: 0.8771\n",
            "Epoch 153/400\n",
            "132/132 [==============================] - 6s 47ms/step - loss: 4.0741e-06 - accuracy: 1.0000 - val_loss: 0.6220 - val_accuracy: 0.8790\n",
            "Epoch 154/400\n",
            "132/132 [==============================] - 5s 36ms/step - loss: 4.0321e-06 - accuracy: 1.0000 - val_loss: 0.6219 - val_accuracy: 0.8781\n",
            "Epoch 155/400\n",
            "132/132 [==============================] - 5s 38ms/step - loss: 3.9969e-06 - accuracy: 1.0000 - val_loss: 0.6232 - val_accuracy: 0.8790\n",
            "Epoch 156/400\n",
            "132/132 [==============================] - 6s 46ms/step - loss: 3.9702e-06 - accuracy: 1.0000 - val_loss: 0.6236 - val_accuracy: 0.8790\n",
            "Epoch 157/400\n",
            "132/132 [==============================] - 5s 37ms/step - loss: 3.9322e-06 - accuracy: 1.0000 - val_loss: 0.6235 - val_accuracy: 0.8762\n",
            "Epoch 158/400\n",
            "132/132 [==============================] - 5s 42ms/step - loss: 3.9011e-06 - accuracy: 1.0000 - val_loss: 0.6238 - val_accuracy: 0.8781\n",
            "Epoch 159/400\n",
            "132/132 [==============================] - 6s 43ms/step - loss: 3.8747e-06 - accuracy: 1.0000 - val_loss: 0.6242 - val_accuracy: 0.8781\n",
            "Epoch 160/400\n",
            "132/132 [==============================] - 5s 38ms/step - loss: 3.8356e-06 - accuracy: 1.0000 - val_loss: 0.6252 - val_accuracy: 0.8790\n",
            "Epoch 161/400\n",
            "132/132 [==============================] - 6s 46ms/step - loss: 3.8135e-06 - accuracy: 1.0000 - val_loss: 0.6247 - val_accuracy: 0.8781\n",
            "Epoch 162/400\n",
            "132/132 [==============================] - 5s 37ms/step - loss: 3.7786e-06 - accuracy: 1.0000 - val_loss: 0.6260 - val_accuracy: 0.8781\n",
            "Epoch 163/400\n",
            "132/132 [==============================] - 5s 37ms/step - loss: 3.7543e-06 - accuracy: 1.0000 - val_loss: 0.6264 - val_accuracy: 0.8790\n",
            "Epoch 164/400\n",
            "132/132 [==============================] - 6s 46ms/step - loss: 3.7281e-06 - accuracy: 1.0000 - val_loss: 0.6262 - val_accuracy: 0.8790\n",
            "Epoch 165/400\n",
            "132/132 [==============================] - 5s 37ms/step - loss: 3.6911e-06 - accuracy: 1.0000 - val_loss: 0.6269 - val_accuracy: 0.8781\n",
            "Epoch 166/400\n",
            "132/132 [==============================] - 5s 40ms/step - loss: 3.6628e-06 - accuracy: 1.0000 - val_loss: 0.6269 - val_accuracy: 0.8771\n",
            "Epoch 167/400\n",
            "132/132 [==============================] - 6s 45ms/step - loss: 3.6344e-06 - accuracy: 1.0000 - val_loss: 0.6270 - val_accuracy: 0.8790\n",
            "Epoch 168/400\n",
            "132/132 [==============================] - 5s 37ms/step - loss: 3.6083e-06 - accuracy: 1.0000 - val_loss: 0.6264 - val_accuracy: 0.8771\n",
            "Epoch 169/400\n",
            "132/132 [==============================] - 6s 43ms/step - loss: 3.5725e-06 - accuracy: 1.0000 - val_loss: 0.6281 - val_accuracy: 0.8790\n",
            "Epoch 170/400\n",
            "132/132 [==============================] - 5s 40ms/step - loss: 3.5576e-06 - accuracy: 1.0000 - val_loss: 0.6277 - val_accuracy: 0.8781\n",
            "Epoch 171/400\n",
            "132/132 [==============================] - 5s 37ms/step - loss: 3.5244e-06 - accuracy: 1.0000 - val_loss: 0.6275 - val_accuracy: 0.8790\n",
            "Epoch 172/400\n",
            "132/132 [==============================] - 6s 45ms/step - loss: 3.5048e-06 - accuracy: 1.0000 - val_loss: 0.6283 - val_accuracy: 0.8781\n",
            "Epoch 173/400\n",
            "132/132 [==============================] - 5s 39ms/step - loss: 3.4765e-06 - accuracy: 1.0000 - val_loss: 0.6289 - val_accuracy: 0.8790\n",
            "Epoch 174/400\n",
            "132/132 [==============================] - 5s 38ms/step - loss: 3.4455e-06 - accuracy: 1.0000 - val_loss: 0.6287 - val_accuracy: 0.8762\n",
            "Epoch 175/400\n",
            "132/132 [==============================] - 6s 46ms/step - loss: 3.4256e-06 - accuracy: 1.0000 - val_loss: 0.6298 - val_accuracy: 0.8790\n",
            "Epoch 176/400\n",
            "132/132 [==============================] - 5s 36ms/step - loss: 3.4032e-06 - accuracy: 1.0000 - val_loss: 0.6296 - val_accuracy: 0.8781\n",
            "Epoch 177/400\n",
            "132/132 [==============================] - 6s 43ms/step - loss: 3.3800e-06 - accuracy: 1.0000 - val_loss: 0.6298 - val_accuracy: 0.8781\n",
            "Epoch 178/400\n",
            "132/132 [==============================] - 6s 43ms/step - loss: 3.3575e-06 - accuracy: 1.0000 - val_loss: 0.6302 - val_accuracy: 0.8790\n",
            "Epoch 179/400\n",
            "132/132 [==============================] - 5s 39ms/step - loss: 3.3319e-06 - accuracy: 1.0000 - val_loss: 0.6302 - val_accuracy: 0.8781\n",
            "Epoch 180/400\n",
            "132/132 [==============================] - 6s 46ms/step - loss: 3.3081e-06 - accuracy: 1.0000 - val_loss: 0.6304 - val_accuracy: 0.8781\n",
            "Epoch 181/400\n",
            "132/132 [==============================] - 5s 39ms/step - loss: 3.2856e-06 - accuracy: 1.0000 - val_loss: 0.6307 - val_accuracy: 0.8781\n",
            "Epoch 182/400\n",
            "132/132 [==============================] - 5s 37ms/step - loss: 3.2606e-06 - accuracy: 1.0000 - val_loss: 0.6311 - val_accuracy: 0.8800\n",
            "Epoch 183/400\n",
            "132/132 [==============================] - 6s 46ms/step - loss: 3.2413e-06 - accuracy: 1.0000 - val_loss: 0.6317 - val_accuracy: 0.8800\n",
            "Epoch 184/400\n",
            "132/132 [==============================] - 5s 38ms/step - loss: 3.2203e-06 - accuracy: 1.0000 - val_loss: 0.6322 - val_accuracy: 0.8781\n",
            "Epoch 185/400\n",
            "132/132 [==============================] - 6s 43ms/step - loss: 3.1993e-06 - accuracy: 1.0000 - val_loss: 0.6324 - val_accuracy: 0.8781\n",
            "Epoch 186/400\n",
            "132/132 [==============================] - 6s 43ms/step - loss: 3.1711e-06 - accuracy: 1.0000 - val_loss: 0.6327 - val_accuracy: 0.8781\n",
            "Epoch 187/400\n",
            "132/132 [==============================] - 5s 38ms/step - loss: 3.1539e-06 - accuracy: 1.0000 - val_loss: 0.6329 - val_accuracy: 0.8781\n",
            "Epoch 188/400\n",
            "132/132 [==============================] - 6s 46ms/step - loss: 3.1328e-06 - accuracy: 1.0000 - val_loss: 0.6338 - val_accuracy: 0.8790\n",
            "Epoch 189/400\n",
            "132/132 [==============================] - 5s 40ms/step - loss: 3.1174e-06 - accuracy: 1.0000 - val_loss: 0.6339 - val_accuracy: 0.8790\n",
            "Epoch 190/400\n",
            "132/132 [==============================] - 5s 38ms/step - loss: 3.0935e-06 - accuracy: 1.0000 - val_loss: 0.6337 - val_accuracy: 0.8790\n",
            "Epoch 191/400\n",
            "132/132 [==============================] - 6s 46ms/step - loss: 3.0707e-06 - accuracy: 1.0000 - val_loss: 0.6338 - val_accuracy: 0.8781\n",
            "Epoch 192/400\n",
            "132/132 [==============================] - 5s 36ms/step - loss: 3.0520e-06 - accuracy: 1.0000 - val_loss: 0.6345 - val_accuracy: 0.8790\n",
            "Epoch 193/400\n",
            "132/132 [==============================] - 5s 39ms/step - loss: 3.0341e-06 - accuracy: 1.0000 - val_loss: 0.6346 - val_accuracy: 0.8762\n",
            "Epoch 194/400\n",
            "132/132 [==============================] - 6s 45ms/step - loss: 3.0167e-06 - accuracy: 1.0000 - val_loss: 0.6350 - val_accuracy: 0.8781\n",
            "Epoch 195/400\n",
            "132/132 [==============================] - 5s 38ms/step - loss: 2.9957e-06 - accuracy: 1.0000 - val_loss: 0.6351 - val_accuracy: 0.8810\n",
            "Epoch 196/400\n",
            "132/132 [==============================] - 6s 45ms/step - loss: 2.9735e-06 - accuracy: 1.0000 - val_loss: 0.6348 - val_accuracy: 0.8790\n",
            "Epoch 197/400\n",
            "132/132 [==============================] - 5s 41ms/step - loss: 2.9581e-06 - accuracy: 1.0000 - val_loss: 0.6356 - val_accuracy: 0.8810\n",
            "Epoch 198/400\n",
            "132/132 [==============================] - 5s 37ms/step - loss: 2.9395e-06 - accuracy: 1.0000 - val_loss: 0.6359 - val_accuracy: 0.8771\n",
            "Epoch 199/400\n",
            "132/132 [==============================] - 6s 46ms/step - loss: 2.9233e-06 - accuracy: 1.0000 - val_loss: 0.6366 - val_accuracy: 0.8781\n",
            "Epoch 200/400\n",
            "132/132 [==============================] - 5s 35ms/step - loss: 2.9060e-06 - accuracy: 1.0000 - val_loss: 0.6367 - val_accuracy: 0.8790\n",
            "Epoch 201/400\n",
            "132/132 [==============================] - 5s 36ms/step - loss: 2.8831e-06 - accuracy: 1.0000 - val_loss: 0.6370 - val_accuracy: 0.8790\n",
            "Epoch 202/400\n",
            "132/132 [==============================] - 6s 44ms/step - loss: 2.8713e-06 - accuracy: 1.0000 - val_loss: 0.6370 - val_accuracy: 0.8781\n",
            "Epoch 203/400\n",
            "132/132 [==============================] - 5s 36ms/step - loss: 2.8532e-06 - accuracy: 1.0000 - val_loss: 0.6376 - val_accuracy: 0.8790\n",
            "Epoch 204/400\n",
            "132/132 [==============================] - 5s 35ms/step - loss: 2.8352e-06 - accuracy: 1.0000 - val_loss: 0.6377 - val_accuracy: 0.8781\n",
            "Epoch 205/400\n",
            "132/132 [==============================] - 6s 45ms/step - loss: 2.8168e-06 - accuracy: 1.0000 - val_loss: 0.6383 - val_accuracy: 0.8790\n",
            "Epoch 206/400\n",
            "132/132 [==============================] - 5s 34ms/step - loss: 2.8015e-06 - accuracy: 1.0000 - val_loss: 0.6380 - val_accuracy: 0.8781\n",
            "Epoch 207/400\n",
            "132/132 [==============================] - 5s 40ms/step - loss: 2.7850e-06 - accuracy: 1.0000 - val_loss: 0.6383 - val_accuracy: 0.8781\n",
            "Epoch 208/400\n",
            "132/132 [==============================] - 6s 42ms/step - loss: 2.7666e-06 - accuracy: 1.0000 - val_loss: 0.6384 - val_accuracy: 0.8781\n",
            "Epoch 209/400\n",
            "132/132 [==============================] - 5s 36ms/step - loss: 2.7529e-06 - accuracy: 1.0000 - val_loss: 0.6390 - val_accuracy: 0.8790\n",
            "Epoch 210/400\n",
            "132/132 [==============================] - 5s 41ms/step - loss: 2.7310e-06 - accuracy: 1.0000 - val_loss: 0.6392 - val_accuracy: 0.8781\n",
            "Epoch 211/400\n",
            "132/132 [==============================] - 5s 41ms/step - loss: 2.7226e-06 - accuracy: 1.0000 - val_loss: 0.6391 - val_accuracy: 0.8781\n",
            "Epoch 212/400\n",
            "132/132 [==============================] - 5s 37ms/step - loss: 2.7048e-06 - accuracy: 1.0000 - val_loss: 0.6394 - val_accuracy: 0.8790\n",
            "Epoch 213/400\n",
            "132/132 [==============================] - 6s 44ms/step - loss: 2.6881e-06 - accuracy: 1.0000 - val_loss: 0.6395 - val_accuracy: 0.8790\n",
            "Epoch 214/400\n",
            "132/132 [==============================] - 5s 39ms/step - loss: 2.6735e-06 - accuracy: 1.0000 - val_loss: 0.6399 - val_accuracy: 0.8790\n",
            "Epoch 215/400\n",
            "132/132 [==============================] - 5s 35ms/step - loss: 2.6571e-06 - accuracy: 1.0000 - val_loss: 0.6405 - val_accuracy: 0.8781\n",
            "Epoch 216/400\n",
            "132/132 [==============================] - 6s 46ms/step - loss: 2.6413e-06 - accuracy: 1.0000 - val_loss: 0.6404 - val_accuracy: 0.8781\n",
            "Epoch 217/400\n",
            "132/132 [==============================] - 5s 36ms/step - loss: 2.6300e-06 - accuracy: 1.0000 - val_loss: 0.6406 - val_accuracy: 0.8762\n",
            "Epoch 218/400\n",
            "132/132 [==============================] - 5s 36ms/step - loss: 2.6127e-06 - accuracy: 1.0000 - val_loss: 0.6410 - val_accuracy: 0.8790\n",
            "Epoch 219/400\n",
            "132/132 [==============================] - 6s 46ms/step - loss: 2.6005e-06 - accuracy: 1.0000 - val_loss: 0.6413 - val_accuracy: 0.8790\n",
            "Epoch 220/400\n",
            "132/132 [==============================] - 5s 37ms/step - loss: 2.5852e-06 - accuracy: 1.0000 - val_loss: 0.6410 - val_accuracy: 0.8771\n",
            "Epoch 221/400\n",
            "132/132 [==============================] - 5s 37ms/step - loss: 2.5739e-06 - accuracy: 1.0000 - val_loss: 0.6416 - val_accuracy: 0.8781\n",
            "Epoch 222/400\n",
            "132/132 [==============================] - 6s 45ms/step - loss: 2.5547e-06 - accuracy: 1.0000 - val_loss: 0.6420 - val_accuracy: 0.8781\n",
            "Epoch 223/400\n",
            "132/132 [==============================] - 5s 36ms/step - loss: 2.5388e-06 - accuracy: 1.0000 - val_loss: 0.6424 - val_accuracy: 0.8790\n",
            "Epoch 224/400\n",
            "132/132 [==============================] - 6s 42ms/step - loss: 2.5247e-06 - accuracy: 1.0000 - val_loss: 0.6429 - val_accuracy: 0.8810\n",
            "Epoch 225/400\n",
            "132/132 [==============================] - 6s 42ms/step - loss: 2.5229e-06 - accuracy: 1.0000 - val_loss: 0.6424 - val_accuracy: 0.8790\n",
            "Epoch 226/400\n",
            "132/132 [==============================] - 5s 39ms/step - loss: 2.5033e-06 - accuracy: 1.0000 - val_loss: 0.6419 - val_accuracy: 0.8790\n",
            "Epoch 227/400\n",
            "132/132 [==============================] - 6s 46ms/step - loss: 2.4921e-06 - accuracy: 1.0000 - val_loss: 0.6428 - val_accuracy: 0.8790\n",
            "Epoch 228/400\n",
            "132/132 [==============================] - 5s 38ms/step - loss: 2.4749e-06 - accuracy: 1.0000 - val_loss: 0.6426 - val_accuracy: 0.8800\n",
            "Epoch 229/400\n",
            "132/132 [==============================] - 5s 38ms/step - loss: 2.4656e-06 - accuracy: 1.0000 - val_loss: 0.6430 - val_accuracy: 0.8790\n",
            "Epoch 230/400\n",
            "132/132 [==============================] - 6s 46ms/step - loss: 2.4512e-06 - accuracy: 1.0000 - val_loss: 0.6434 - val_accuracy: 0.8790\n",
            "Epoch 231/400\n",
            "132/132 [==============================] - 5s 38ms/step - loss: 2.4366e-06 - accuracy: 1.0000 - val_loss: 0.6437 - val_accuracy: 0.8781\n",
            "Epoch 232/400\n",
            "132/132 [==============================] - 5s 39ms/step - loss: 2.4246e-06 - accuracy: 1.0000 - val_loss: 0.6437 - val_accuracy: 0.8781\n",
            "Epoch 233/400\n",
            "132/132 [==============================] - 6s 43ms/step - loss: 2.4125e-06 - accuracy: 1.0000 - val_loss: 0.6447 - val_accuracy: 0.8810\n",
            "Epoch 234/400\n",
            "132/132 [==============================] - 5s 38ms/step - loss: 2.3990e-06 - accuracy: 1.0000 - val_loss: 0.6441 - val_accuracy: 0.8790\n",
            "Epoch 235/400\n",
            "132/132 [==============================] - 6s 45ms/step - loss: 2.3871e-06 - accuracy: 1.0000 - val_loss: 0.6445 - val_accuracy: 0.8781\n",
            "Epoch 236/400\n",
            "132/132 [==============================] - 5s 40ms/step - loss: 2.3745e-06 - accuracy: 1.0000 - val_loss: 0.6449 - val_accuracy: 0.8781\n",
            "Epoch 237/400\n",
            "132/132 [==============================] - 5s 38ms/step - loss: 2.3646e-06 - accuracy: 1.0000 - val_loss: 0.6450 - val_accuracy: 0.8781\n",
            "Epoch 238/400\n",
            "132/132 [==============================] - 6s 45ms/step - loss: 2.3502e-06 - accuracy: 1.0000 - val_loss: 0.6453 - val_accuracy: 0.8790\n",
            "Epoch 239/400\n",
            "132/132 [==============================] - 5s 38ms/step - loss: 2.3413e-06 - accuracy: 1.0000 - val_loss: 0.6451 - val_accuracy: 0.8771\n",
            "Epoch 240/400\n",
            "132/132 [==============================] - 5s 39ms/step - loss: 2.3295e-06 - accuracy: 1.0000 - val_loss: 0.6457 - val_accuracy: 0.8771\n",
            "Epoch 241/400\n",
            "132/132 [==============================] - 6s 46ms/step - loss: 2.3176e-06 - accuracy: 1.0000 - val_loss: 0.6460 - val_accuracy: 0.8790\n",
            "Epoch 242/400\n",
            "132/132 [==============================] - 5s 38ms/step - loss: 2.3056e-06 - accuracy: 1.0000 - val_loss: 0.6462 - val_accuracy: 0.8800\n",
            "Epoch 243/400\n",
            "132/132 [==============================] - 6s 44ms/step - loss: 2.2928e-06 - accuracy: 1.0000 - val_loss: 0.6468 - val_accuracy: 0.8781\n",
            "Epoch 244/400\n",
            "132/132 [==============================] - 5s 41ms/step - loss: 2.2844e-06 - accuracy: 1.0000 - val_loss: 0.6467 - val_accuracy: 0.8790\n",
            "Epoch 245/400\n",
            "132/132 [==============================] - 5s 38ms/step - loss: 2.2723e-06 - accuracy: 1.0000 - val_loss: 0.6468 - val_accuracy: 0.8790\n",
            "Epoch 246/400\n",
            "132/132 [==============================] - 6s 46ms/step - loss: 2.2579e-06 - accuracy: 1.0000 - val_loss: 0.6471 - val_accuracy: 0.8790\n",
            "Epoch 247/400\n",
            "132/132 [==============================] - 5s 38ms/step - loss: 2.2465e-06 - accuracy: 1.0000 - val_loss: 0.6470 - val_accuracy: 0.8771\n",
            "Epoch 248/400\n",
            "132/132 [==============================] - 5s 39ms/step - loss: 2.2402e-06 - accuracy: 1.0000 - val_loss: 0.6472 - val_accuracy: 0.8781\n",
            "Epoch 249/400\n",
            "132/132 [==============================] - 6s 44ms/step - loss: 2.2264e-06 - accuracy: 1.0000 - val_loss: 0.6474 - val_accuracy: 0.8781\n",
            "Epoch 250/400\n",
            "132/132 [==============================] - 5s 38ms/step - loss: 2.2180e-06 - accuracy: 1.0000 - val_loss: 0.6478 - val_accuracy: 0.8800\n",
            "Epoch 251/400\n",
            "132/132 [==============================] - 6s 42ms/step - loss: 2.2066e-06 - accuracy: 1.0000 - val_loss: 0.6476 - val_accuracy: 0.8771\n",
            "Epoch 252/400\n",
            "132/132 [==============================] - 6s 45ms/step - loss: 2.1953e-06 - accuracy: 1.0000 - val_loss: 0.6482 - val_accuracy: 0.8781\n",
            "Epoch 253/400\n",
            "132/132 [==============================] - 5s 36ms/step - loss: 2.1827e-06 - accuracy: 1.0000 - val_loss: 0.6480 - val_accuracy: 0.8771\n",
            "Epoch 254/400\n",
            "132/132 [==============================] - 6s 46ms/step - loss: 2.1771e-06 - accuracy: 1.0000 - val_loss: 0.6482 - val_accuracy: 0.8771\n",
            "Epoch 255/400\n",
            "132/132 [==============================] - 5s 41ms/step - loss: 2.1663e-06 - accuracy: 1.0000 - val_loss: 0.6487 - val_accuracy: 0.8781\n",
            "Epoch 256/400\n",
            "132/132 [==============================] - 5s 38ms/step - loss: 2.1565e-06 - accuracy: 1.0000 - val_loss: 0.6486 - val_accuracy: 0.8771\n",
            "Epoch 257/400\n",
            "132/132 [==============================] - 6s 46ms/step - loss: 2.1479e-06 - accuracy: 1.0000 - val_loss: 0.6491 - val_accuracy: 0.8771\n",
            "Epoch 258/400\n",
            "132/132 [==============================] - 5s 37ms/step - loss: 2.1381e-06 - accuracy: 1.0000 - val_loss: 0.6498 - val_accuracy: 0.8800\n",
            "Epoch 259/400\n",
            "132/132 [==============================] - 5s 37ms/step - loss: 2.1259e-06 - accuracy: 1.0000 - val_loss: 0.6497 - val_accuracy: 0.8781\n",
            "Epoch 260/400\n",
            "132/132 [==============================] - 6s 47ms/step - loss: 2.1164e-06 - accuracy: 1.0000 - val_loss: 0.6497 - val_accuracy: 0.8771\n",
            "Epoch 261/400\n",
            "132/132 [==============================] - 5s 38ms/step - loss: 2.1011e-06 - accuracy: 1.0000 - val_loss: 0.6500 - val_accuracy: 0.8771\n",
            "Epoch 262/400\n",
            "132/132 [==============================] - 6s 42ms/step - loss: 2.0986e-06 - accuracy: 1.0000 - val_loss: 0.6504 - val_accuracy: 0.8781\n",
            "Epoch 263/400\n",
            "132/132 [==============================] - 6s 43ms/step - loss: 2.0883e-06 - accuracy: 1.0000 - val_loss: 0.6502 - val_accuracy: 0.8781\n",
            "Epoch 264/400\n",
            "132/132 [==============================] - 5s 37ms/step - loss: 2.0785e-06 - accuracy: 1.0000 - val_loss: 0.6504 - val_accuracy: 0.8781\n",
            "Epoch 265/400\n",
            "132/132 [==============================] - 6s 44ms/step - loss: 2.0706e-06 - accuracy: 1.0000 - val_loss: 0.6509 - val_accuracy: 0.8800\n",
            "Epoch 266/400\n",
            "132/132 [==============================] - 5s 39ms/step - loss: 2.0595e-06 - accuracy: 1.0000 - val_loss: 0.6509 - val_accuracy: 0.8781\n",
            "Epoch 267/400\n",
            "132/132 [==============================] - 5s 40ms/step - loss: 2.0496e-06 - accuracy: 1.0000 - val_loss: 0.6506 - val_accuracy: 0.8771\n",
            "Epoch 268/400\n",
            "132/132 [==============================] - 6s 47ms/step - loss: 2.0422e-06 - accuracy: 1.0000 - val_loss: 0.6514 - val_accuracy: 0.8790\n",
            "Epoch 269/400\n",
            "132/132 [==============================] - 5s 35ms/step - loss: 2.0323e-06 - accuracy: 1.0000 - val_loss: 0.6511 - val_accuracy: 0.8771\n",
            "Epoch 270/400\n",
            "132/132 [==============================] - 5s 36ms/step - loss: 2.0238e-06 - accuracy: 1.0000 - val_loss: 0.6516 - val_accuracy: 0.8781\n",
            "Epoch 271/400\n",
            "132/132 [==============================] - 6s 42ms/step - loss: 2.0155e-06 - accuracy: 1.0000 - val_loss: 0.6519 - val_accuracy: 0.8781\n",
            "Epoch 272/400\n",
            "132/132 [==============================] - 5s 34ms/step - loss: 2.0051e-06 - accuracy: 1.0000 - val_loss: 0.6516 - val_accuracy: 0.8781\n",
            "Epoch 273/400\n",
            "132/132 [==============================] - 4s 33ms/step - loss: 1.9977e-06 - accuracy: 1.0000 - val_loss: 0.6522 - val_accuracy: 0.8781\n",
            "Epoch 274/400\n",
            "132/132 [==============================] - 6s 44ms/step - loss: 1.9876e-06 - accuracy: 1.0000 - val_loss: 0.6525 - val_accuracy: 0.8771\n",
            "Epoch 275/400\n",
            "132/132 [==============================] - 5s 37ms/step - loss: 1.9781e-06 - accuracy: 1.0000 - val_loss: 0.6529 - val_accuracy: 0.8810\n",
            "Epoch 276/400\n",
            "132/132 [==============================] - 5s 41ms/step - loss: 1.9725e-06 - accuracy: 1.0000 - val_loss: 0.6527 - val_accuracy: 0.8781\n",
            "Epoch 277/400\n",
            "132/132 [==============================] - 5s 41ms/step - loss: 1.9613e-06 - accuracy: 1.0000 - val_loss: 0.6531 - val_accuracy: 0.8781\n",
            "Epoch 278/400\n",
            "132/132 [==============================] - 5s 38ms/step - loss: 1.9560e-06 - accuracy: 1.0000 - val_loss: 0.6529 - val_accuracy: 0.8800\n",
            "Epoch 279/400\n",
            "132/132 [==============================] - 6s 43ms/step - loss: 1.9495e-06 - accuracy: 1.0000 - val_loss: 0.6529 - val_accuracy: 0.8771\n",
            "Epoch 280/400\n",
            "132/132 [==============================] - 5s 41ms/step - loss: 1.9396e-06 - accuracy: 1.0000 - val_loss: 0.6532 - val_accuracy: 0.8781\n",
            "Epoch 281/400\n",
            "132/132 [==============================] - 5s 38ms/step - loss: 1.9315e-06 - accuracy: 1.0000 - val_loss: 0.6534 - val_accuracy: 0.8781\n",
            "Epoch 282/400\n",
            "132/132 [==============================] - 6s 45ms/step - loss: 1.9226e-06 - accuracy: 1.0000 - val_loss: 0.6537 - val_accuracy: 0.8762\n",
            "Epoch 283/400\n",
            "132/132 [==============================] - 5s 41ms/step - loss: 1.9151e-06 - accuracy: 1.0000 - val_loss: 0.6538 - val_accuracy: 0.8781\n",
            "Epoch 284/400\n",
            "132/132 [==============================] - 5s 37ms/step - loss: 1.9073e-06 - accuracy: 1.0000 - val_loss: 0.6538 - val_accuracy: 0.8781\n",
            "Epoch 285/400\n",
            "132/132 [==============================] - 6s 46ms/step - loss: 1.8989e-06 - accuracy: 1.0000 - val_loss: 0.6542 - val_accuracy: 0.8771\n",
            "Epoch 286/400\n",
            "132/132 [==============================] - 5s 37ms/step - loss: 1.8923e-06 - accuracy: 1.0000 - val_loss: 0.6545 - val_accuracy: 0.8800\n",
            "Epoch 287/400\n",
            "132/132 [==============================] - 5s 40ms/step - loss: 1.8818e-06 - accuracy: 1.0000 - val_loss: 0.6546 - val_accuracy: 0.8781\n",
            "Epoch 288/400\n",
            "132/132 [==============================] - 6s 43ms/step - loss: 1.8749e-06 - accuracy: 1.0000 - val_loss: 0.6548 - val_accuracy: 0.8771\n",
            "Epoch 289/400\n",
            "132/132 [==============================] - 5s 39ms/step - loss: 1.8693e-06 - accuracy: 1.0000 - val_loss: 0.6550 - val_accuracy: 0.8771\n",
            "Epoch 290/400\n",
            "132/132 [==============================] - 6s 45ms/step - loss: 1.8610e-06 - accuracy: 1.0000 - val_loss: 0.6552 - val_accuracy: 0.8781\n",
            "Epoch 291/400\n",
            "132/132 [==============================] - 6s 43ms/step - loss: 1.8539e-06 - accuracy: 1.0000 - val_loss: 0.6554 - val_accuracy: 0.8790\n",
            "Epoch 292/400\n",
            "132/132 [==============================] - 5s 39ms/step - loss: 1.8459e-06 - accuracy: 1.0000 - val_loss: 0.6556 - val_accuracy: 0.8781\n",
            "Epoch 293/400\n",
            "132/132 [==============================] - 6s 49ms/step - loss: 1.8373e-06 - accuracy: 1.0000 - val_loss: 0.6557 - val_accuracy: 0.8771\n",
            "Epoch 294/400\n",
            "132/132 [==============================] - 5s 39ms/step - loss: 1.8307e-06 - accuracy: 1.0000 - val_loss: 0.6553 - val_accuracy: 0.8771\n",
            "Epoch 295/400\n",
            "132/132 [==============================] - 5s 41ms/step - loss: 1.8250e-06 - accuracy: 1.0000 - val_loss: 0.6558 - val_accuracy: 0.8771\n",
            "Epoch 296/400\n",
            "132/132 [==============================] - 6s 47ms/step - loss: 1.8172e-06 - accuracy: 1.0000 - val_loss: 0.6563 - val_accuracy: 0.8790\n",
            "Epoch 297/400\n",
            "132/132 [==============================] - 6s 42ms/step - loss: 1.8103e-06 - accuracy: 1.0000 - val_loss: 0.6561 - val_accuracy: 0.8771\n",
            "Epoch 298/400\n",
            "132/132 [==============================] - 6s 44ms/step - loss: 1.8015e-06 - accuracy: 1.0000 - val_loss: 0.6566 - val_accuracy: 0.8790\n",
            "Epoch 299/400\n",
            "132/132 [==============================] - 5s 40ms/step - loss: 1.7961e-06 - accuracy: 1.0000 - val_loss: 0.6568 - val_accuracy: 0.8800\n",
            "Epoch 300/400\n",
            "132/132 [==============================] - 6s 42ms/step - loss: 1.7871e-06 - accuracy: 1.0000 - val_loss: 0.6567 - val_accuracy: 0.8771\n",
            "Epoch 301/400\n",
            "132/132 [==============================] - 7s 50ms/step - loss: 1.7809e-06 - accuracy: 1.0000 - val_loss: 0.6567 - val_accuracy: 0.8771\n",
            "Epoch 302/400\n",
            "132/132 [==============================] - 6s 42ms/step - loss: 1.7745e-06 - accuracy: 1.0000 - val_loss: 0.6569 - val_accuracy: 0.8771\n",
            "Epoch 303/400\n",
            "132/132 [==============================] - 6s 48ms/step - loss: 1.7705e-06 - accuracy: 1.0000 - val_loss: 0.6571 - val_accuracy: 0.8790\n",
            "Epoch 304/400\n",
            "132/132 [==============================] - 6s 47ms/step - loss: 1.7624e-06 - accuracy: 1.0000 - val_loss: 0.6572 - val_accuracy: 0.8781\n",
            "Epoch 305/400\n",
            "132/132 [==============================] - 6s 45ms/step - loss: 1.7555e-06 - accuracy: 1.0000 - val_loss: 0.6573 - val_accuracy: 0.8771\n",
            "Epoch 306/400\n",
            "132/132 [==============================] - 7s 56ms/step - loss: 1.7474e-06 - accuracy: 1.0000 - val_loss: 0.6578 - val_accuracy: 0.8790\n",
            "Epoch 307/400\n",
            "132/132 [==============================] - 6s 45ms/step - loss: 1.7413e-06 - accuracy: 1.0000 - val_loss: 0.6577 - val_accuracy: 0.8771\n",
            "Epoch 308/400\n",
            "132/132 [==============================] - 7s 50ms/step - loss: 1.7348e-06 - accuracy: 1.0000 - val_loss: 0.6581 - val_accuracy: 0.8781\n",
            "Epoch 309/400\n",
            "132/132 [==============================] - 6s 48ms/step - loss: 1.7296e-06 - accuracy: 1.0000 - val_loss: 0.6580 - val_accuracy: 0.8781\n",
            "Epoch 310/400\n",
            "132/132 [==============================] - 6s 42ms/step - loss: 1.7215e-06 - accuracy: 1.0000 - val_loss: 0.6586 - val_accuracy: 0.8810\n",
            "Epoch 311/400\n",
            "132/132 [==============================] - 7s 53ms/step - loss: 1.7160e-06 - accuracy: 1.0000 - val_loss: 0.6585 - val_accuracy: 0.8790\n",
            "Epoch 312/400\n",
            "132/132 [==============================] - 6s 45ms/step - loss: 1.7086e-06 - accuracy: 1.0000 - val_loss: 0.6585 - val_accuracy: 0.8771\n",
            "Epoch 313/400\n",
            "132/132 [==============================] - 7s 52ms/step - loss: 1.7031e-06 - accuracy: 1.0000 - val_loss: 0.6590 - val_accuracy: 0.8800\n",
            "Epoch 314/400\n",
            "132/132 [==============================] - 6s 44ms/step - loss: 1.6960e-06 - accuracy: 1.0000 - val_loss: 0.6592 - val_accuracy: 0.8781\n",
            "Epoch 315/400\n",
            "132/132 [==============================] - 6s 45ms/step - loss: 1.6900e-06 - accuracy: 1.0000 - val_loss: 0.6587 - val_accuracy: 0.8771\n",
            "Epoch 316/400\n",
            "132/132 [==============================] - 7s 50ms/step - loss: 1.6832e-06 - accuracy: 1.0000 - val_loss: 0.6593 - val_accuracy: 0.8781\n",
            "Epoch 317/400\n",
            "132/132 [==============================] - 5s 41ms/step - loss: 1.6786e-06 - accuracy: 1.0000 - val_loss: 0.6594 - val_accuracy: 0.8790\n",
            "Epoch 318/400\n",
            "132/132 [==============================] - 6s 49ms/step - loss: 1.6724e-06 - accuracy: 1.0000 - val_loss: 0.6599 - val_accuracy: 0.8790\n",
            "Epoch 319/400\n",
            "132/132 [==============================] - 6s 42ms/step - loss: 1.6667e-06 - accuracy: 1.0000 - val_loss: 0.6598 - val_accuracy: 0.8781\n",
            "Epoch 320/400\n",
            "132/132 [==============================] - 5s 40ms/step - loss: 1.6603e-06 - accuracy: 1.0000 - val_loss: 0.6597 - val_accuracy: 0.8781\n",
            "Epoch 321/400\n",
            "132/132 [==============================] - 6s 49ms/step - loss: 1.6546e-06 - accuracy: 1.0000 - val_loss: 0.6600 - val_accuracy: 0.8781\n",
            "Epoch 322/400\n",
            "132/132 [==============================] - 5s 40ms/step - loss: 1.6480e-06 - accuracy: 1.0000 - val_loss: 0.6601 - val_accuracy: 0.8790\n",
            "Epoch 323/400\n",
            "132/132 [==============================] - 6s 45ms/step - loss: 1.6414e-06 - accuracy: 1.0000 - val_loss: 0.6602 - val_accuracy: 0.8771\n",
            "Epoch 324/400\n",
            "132/132 [==============================] - 6s 45ms/step - loss: 1.6364e-06 - accuracy: 1.0000 - val_loss: 0.6604 - val_accuracy: 0.8781\n",
            "Epoch 325/400\n",
            "132/132 [==============================] - 5s 40ms/step - loss: 1.6300e-06 - accuracy: 1.0000 - val_loss: 0.6606 - val_accuracy: 0.8790\n",
            "Epoch 326/400\n",
            "132/132 [==============================] - 7s 52ms/step - loss: 1.6237e-06 - accuracy: 1.0000 - val_loss: 0.6609 - val_accuracy: 0.8790\n",
            "Epoch 327/400\n",
            "132/132 [==============================] - 5s 41ms/step - loss: 1.6167e-06 - accuracy: 1.0000 - val_loss: 0.6611 - val_accuracy: 0.8800\n",
            "Epoch 328/400\n",
            "132/132 [==============================] - 6s 44ms/step - loss: 1.6132e-06 - accuracy: 1.0000 - val_loss: 0.6615 - val_accuracy: 0.8800\n",
            "Epoch 329/400\n",
            "132/132 [==============================] - 6s 47ms/step - loss: 1.6072e-06 - accuracy: 1.0000 - val_loss: 0.6614 - val_accuracy: 0.8800\n",
            "Epoch 330/400\n",
            "132/132 [==============================] - 5s 41ms/step - loss: 1.6007e-06 - accuracy: 1.0000 - val_loss: 0.6614 - val_accuracy: 0.8781\n",
            "Epoch 331/400\n",
            "132/132 [==============================] - 7s 50ms/step - loss: 1.5966e-06 - accuracy: 1.0000 - val_loss: 0.6614 - val_accuracy: 0.8781\n",
            "Epoch 332/400\n",
            "132/132 [==============================] - 5s 41ms/step - loss: 1.5907e-06 - accuracy: 1.0000 - val_loss: 0.6616 - val_accuracy: 0.8781\n",
            "Epoch 333/400\n",
            "132/132 [==============================] - 6s 43ms/step - loss: 1.5853e-06 - accuracy: 1.0000 - val_loss: 0.6618 - val_accuracy: 0.8781\n",
            "Epoch 334/400\n",
            "132/132 [==============================] - 6s 47ms/step - loss: 1.5796e-06 - accuracy: 1.0000 - val_loss: 0.6618 - val_accuracy: 0.8781\n",
            "Epoch 335/400\n",
            "132/132 [==============================] - 5s 40ms/step - loss: 1.5745e-06 - accuracy: 1.0000 - val_loss: 0.6620 - val_accuracy: 0.8781\n",
            "Epoch 336/400\n",
            "132/132 [==============================] - 6s 47ms/step - loss: 1.5685e-06 - accuracy: 1.0000 - val_loss: 0.6620 - val_accuracy: 0.8771\n",
            "Epoch 337/400\n",
            "132/132 [==============================] - 6s 43ms/step - loss: 1.5633e-06 - accuracy: 1.0000 - val_loss: 0.6625 - val_accuracy: 0.8790\n",
            "Epoch 338/400\n",
            "132/132 [==============================] - 5s 39ms/step - loss: 1.5583e-06 - accuracy: 1.0000 - val_loss: 0.6625 - val_accuracy: 0.8800\n",
            "Epoch 339/400\n",
            "132/132 [==============================] - 6s 49ms/step - loss: 1.5535e-06 - accuracy: 1.0000 - val_loss: 0.6628 - val_accuracy: 0.8790\n",
            "Epoch 340/400\n",
            "132/132 [==============================] - 5s 39ms/step - loss: 1.5475e-06 - accuracy: 1.0000 - val_loss: 0.6626 - val_accuracy: 0.8781\n",
            "Epoch 341/400\n",
            "132/132 [==============================] - 6s 43ms/step - loss: 1.5411e-06 - accuracy: 1.0000 - val_loss: 0.6629 - val_accuracy: 0.8781\n",
            "Epoch 342/400\n",
            "132/132 [==============================] - 6s 47ms/step - loss: 1.5375e-06 - accuracy: 1.0000 - val_loss: 0.6627 - val_accuracy: 0.8771\n",
            "Epoch 343/400\n",
            "132/132 [==============================] - 5s 40ms/step - loss: 1.5320e-06 - accuracy: 1.0000 - val_loss: 0.6631 - val_accuracy: 0.8790\n",
            "Epoch 344/400\n",
            "132/132 [==============================] - 7s 50ms/step - loss: 1.5271e-06 - accuracy: 1.0000 - val_loss: 0.6634 - val_accuracy: 0.8790\n",
            "Epoch 345/400\n",
            "132/132 [==============================] - 6s 42ms/step - loss: 1.5217e-06 - accuracy: 1.0000 - val_loss: 0.6636 - val_accuracy: 0.8790\n",
            "Epoch 346/400\n",
            "132/132 [==============================] - 5s 41ms/step - loss: 1.5157e-06 - accuracy: 1.0000 - val_loss: 0.6632 - val_accuracy: 0.8771\n",
            "Epoch 347/400\n",
            "132/132 [==============================] - 7s 50ms/step - loss: 1.5114e-06 - accuracy: 1.0000 - val_loss: 0.6637 - val_accuracy: 0.8790\n",
            "Epoch 348/400\n",
            "132/132 [==============================] - 5s 40ms/step - loss: 1.5067e-06 - accuracy: 1.0000 - val_loss: 0.6637 - val_accuracy: 0.8781\n",
            "Epoch 349/400\n",
            "132/132 [==============================] - 6s 46ms/step - loss: 1.5019e-06 - accuracy: 1.0000 - val_loss: 0.6640 - val_accuracy: 0.8781\n",
            "Epoch 350/400\n",
            "132/132 [==============================] - 6s 45ms/step - loss: 1.4974e-06 - accuracy: 1.0000 - val_loss: 0.6643 - val_accuracy: 0.8781\n",
            "Epoch 351/400\n",
            "132/132 [==============================] - 5s 40ms/step - loss: 1.4906e-06 - accuracy: 1.0000 - val_loss: 0.6649 - val_accuracy: 0.8790\n",
            "Epoch 352/400\n",
            "132/132 [==============================] - 6s 49ms/step - loss: 1.4876e-06 - accuracy: 1.0000 - val_loss: 0.6644 - val_accuracy: 0.8781\n",
            "Epoch 353/400\n",
            "132/132 [==============================] - 5s 40ms/step - loss: 1.4823e-06 - accuracy: 1.0000 - val_loss: 0.6646 - val_accuracy: 0.8790\n",
            "Epoch 354/400\n",
            "132/132 [==============================] - 6s 44ms/step - loss: 1.4772e-06 - accuracy: 1.0000 - val_loss: 0.6647 - val_accuracy: 0.8781\n",
            "Epoch 355/400\n",
            "132/132 [==============================] - 6s 46ms/step - loss: 1.4717e-06 - accuracy: 1.0000 - val_loss: 0.6650 - val_accuracy: 0.8771\n",
            "Epoch 356/400\n",
            "132/132 [==============================] - 5s 38ms/step - loss: 1.4679e-06 - accuracy: 1.0000 - val_loss: 0.6651 - val_accuracy: 0.8781\n",
            "Epoch 357/400\n",
            "132/132 [==============================] - 6s 45ms/step - loss: 1.4627e-06 - accuracy: 1.0000 - val_loss: 0.6650 - val_accuracy: 0.8771\n",
            "Epoch 358/400\n",
            "132/132 [==============================] - 6s 44ms/step - loss: 1.4587e-06 - accuracy: 1.0000 - val_loss: 0.6653 - val_accuracy: 0.8790\n",
            "Epoch 359/400\n",
            "132/132 [==============================] - 5s 40ms/step - loss: 1.4529e-06 - accuracy: 1.0000 - val_loss: 0.6656 - val_accuracy: 0.8790\n",
            "Epoch 360/400\n",
            "132/132 [==============================] - 7s 50ms/step - loss: 1.4487e-06 - accuracy: 1.0000 - val_loss: 0.6655 - val_accuracy: 0.8781\n",
            "Epoch 361/400\n",
            "132/132 [==============================] - 5s 39ms/step - loss: 1.4447e-06 - accuracy: 1.0000 - val_loss: 0.6658 - val_accuracy: 0.8790\n",
            "Epoch 362/400\n",
            "132/132 [==============================] - 6s 43ms/step - loss: 1.4402e-06 - accuracy: 1.0000 - val_loss: 0.6658 - val_accuracy: 0.8790\n",
            "Epoch 363/400\n",
            "132/132 [==============================] - 6s 44ms/step - loss: 1.4357e-06 - accuracy: 1.0000 - val_loss: 0.6660 - val_accuracy: 0.8781\n",
            "Epoch 364/400\n",
            "132/132 [==============================] - 5s 40ms/step - loss: 1.4296e-06 - accuracy: 1.0000 - val_loss: 0.6663 - val_accuracy: 0.8781\n",
            "Epoch 365/400\n",
            "132/132 [==============================] - 6s 48ms/step - loss: 1.4264e-06 - accuracy: 1.0000 - val_loss: 0.6662 - val_accuracy: 0.8781\n",
            "Epoch 366/400\n",
            "132/132 [==============================] - 5s 40ms/step - loss: 1.4215e-06 - accuracy: 1.0000 - val_loss: 0.6663 - val_accuracy: 0.8781\n",
            "Epoch 367/400\n",
            "132/132 [==============================] - 5s 40ms/step - loss: 1.4185e-06 - accuracy: 1.0000 - val_loss: 0.6667 - val_accuracy: 0.8781\n",
            "Epoch 368/400\n",
            "132/132 [==============================] - 6s 49ms/step - loss: 1.4140e-06 - accuracy: 1.0000 - val_loss: 0.6667 - val_accuracy: 0.8771\n",
            "Epoch 369/400\n",
            "132/132 [==============================] - 5s 39ms/step - loss: 1.4091e-06 - accuracy: 1.0000 - val_loss: 0.6668 - val_accuracy: 0.8781\n",
            "Epoch 370/400\n",
            "132/132 [==============================] - 6s 44ms/step - loss: 1.4057e-06 - accuracy: 1.0000 - val_loss: 0.6669 - val_accuracy: 0.8781\n",
            "Epoch 371/400\n",
            "132/132 [==============================] - 6s 44ms/step - loss: 1.4009e-06 - accuracy: 1.0000 - val_loss: 0.6672 - val_accuracy: 0.8781\n",
            "Epoch 372/400\n",
            "132/132 [==============================] - 5s 40ms/step - loss: 1.3954e-06 - accuracy: 1.0000 - val_loss: 0.6671 - val_accuracy: 0.8771\n",
            "Epoch 373/400\n",
            "132/132 [==============================] - 6s 49ms/step - loss: 1.3924e-06 - accuracy: 1.0000 - val_loss: 0.6672 - val_accuracy: 0.8781\n",
            "Epoch 374/400\n",
            "132/132 [==============================] - 5s 40ms/step - loss: 1.3871e-06 - accuracy: 1.0000 - val_loss: 0.6673 - val_accuracy: 0.8781\n",
            "Epoch 375/400\n",
            "132/132 [==============================] - 6s 42ms/step - loss: 1.3821e-06 - accuracy: 1.0000 - val_loss: 0.6678 - val_accuracy: 0.8790\n",
            "Epoch 376/400\n",
            "132/132 [==============================] - 6s 46ms/step - loss: 1.3786e-06 - accuracy: 1.0000 - val_loss: 0.6676 - val_accuracy: 0.8781\n",
            "Epoch 377/400\n",
            "132/132 [==============================] - 5s 39ms/step - loss: 1.3741e-06 - accuracy: 1.0000 - val_loss: 0.6678 - val_accuracy: 0.8790\n",
            "Epoch 378/400\n",
            "132/132 [==============================] - 6s 43ms/step - loss: 1.3706e-06 - accuracy: 1.0000 - val_loss: 0.6679 - val_accuracy: 0.8771\n",
            "Epoch 379/400\n",
            "132/132 [==============================] - 6s 43ms/step - loss: 1.3666e-06 - accuracy: 1.0000 - val_loss: 0.6680 - val_accuracy: 0.8790\n",
            "Epoch 380/400\n",
            "132/132 [==============================] - 5s 40ms/step - loss: 1.3624e-06 - accuracy: 1.0000 - val_loss: 0.6680 - val_accuracy: 0.8771\n",
            "Epoch 381/400\n",
            "132/132 [==============================] - 7s 49ms/step - loss: 1.3582e-06 - accuracy: 1.0000 - val_loss: 0.6682 - val_accuracy: 0.8781\n",
            "Epoch 382/400\n",
            "132/132 [==============================] - 5s 40ms/step - loss: 1.3543e-06 - accuracy: 1.0000 - val_loss: 0.6685 - val_accuracy: 0.8790\n",
            "Epoch 383/400\n",
            "132/132 [==============================] - 5s 41ms/step - loss: 1.3499e-06 - accuracy: 1.0000 - val_loss: 0.6686 - val_accuracy: 0.8790\n",
            "Epoch 384/400\n",
            "132/132 [==============================] - 6s 47ms/step - loss: 1.3463e-06 - accuracy: 1.0000 - val_loss: 0.6686 - val_accuracy: 0.8781\n",
            "Epoch 385/400\n",
            "132/132 [==============================] - 5s 39ms/step - loss: 1.3420e-06 - accuracy: 1.0000 - val_loss: 0.6688 - val_accuracy: 0.8781\n",
            "Epoch 386/400\n",
            "132/132 [==============================] - 6s 47ms/step - loss: 1.3384e-06 - accuracy: 1.0000 - val_loss: 0.6689 - val_accuracy: 0.8790\n",
            "Epoch 387/400\n",
            "132/132 [==============================] - 6s 43ms/step - loss: 1.3337e-06 - accuracy: 1.0000 - val_loss: 0.6692 - val_accuracy: 0.8771\n",
            "Epoch 388/400\n",
            "132/132 [==============================] - 5s 39ms/step - loss: 1.3292e-06 - accuracy: 1.0000 - val_loss: 0.6695 - val_accuracy: 0.8800\n",
            "Epoch 389/400\n",
            "132/132 [==============================] - 6s 49ms/step - loss: 1.3275e-06 - accuracy: 1.0000 - val_loss: 0.6695 - val_accuracy: 0.8790\n",
            "Epoch 390/400\n",
            "132/132 [==============================] - 5s 40ms/step - loss: 1.3231e-06 - accuracy: 1.0000 - val_loss: 0.6693 - val_accuracy: 0.8781\n",
            "Epoch 391/400\n",
            "132/132 [==============================] - 6s 43ms/step - loss: 1.3181e-06 - accuracy: 1.0000 - val_loss: 0.6696 - val_accuracy: 0.8771\n",
            "Epoch 392/400\n",
            "132/132 [==============================] - 6s 47ms/step - loss: 1.3145e-06 - accuracy: 1.0000 - val_loss: 0.6695 - val_accuracy: 0.8781\n",
            "Epoch 393/400\n",
            "132/132 [==============================] - 5s 40ms/step - loss: 1.3112e-06 - accuracy: 1.0000 - val_loss: 0.6698 - val_accuracy: 0.8781\n",
            "Epoch 394/400\n",
            "132/132 [==============================] - 6s 49ms/step - loss: 1.3064e-06 - accuracy: 1.0000 - val_loss: 0.6700 - val_accuracy: 0.8790\n",
            "Epoch 395/400\n",
            "132/132 [==============================] - 6s 44ms/step - loss: 1.3039e-06 - accuracy: 1.0000 - val_loss: 0.6701 - val_accuracy: 0.8781\n",
            "Epoch 396/400\n",
            "132/132 [==============================] - 5s 41ms/step - loss: 1.3004e-06 - accuracy: 1.0000 - val_loss: 0.6702 - val_accuracy: 0.8771\n",
            "Epoch 397/400\n",
            "132/132 [==============================] - 7s 50ms/step - loss: 1.2957e-06 - accuracy: 1.0000 - val_loss: 0.6705 - val_accuracy: 0.8781\n",
            "Epoch 398/400\n",
            "132/132 [==============================] - 5s 41ms/step - loss: 1.2911e-06 - accuracy: 1.0000 - val_loss: 0.6707 - val_accuracy: 0.8800\n",
            "Epoch 399/400\n",
            "132/132 [==============================] - 6s 45ms/step - loss: 1.2886e-06 - accuracy: 1.0000 - val_loss: 0.6705 - val_accuracy: 0.8771\n",
            "Epoch 400/400\n",
            "132/132 [==============================] - 6s 44ms/step - loss: 1.2838e-06 - accuracy: 1.0000 - val_loss: 0.6708 - val_accuracy: 0.8800\n",
            "CPU times: user 48min 49s, sys: 1min 3s, total: 49min 52s\n",
            "Wall time: 36min 9s\n"
          ]
        }
      ],
      "source": [
        "%%time\n",
        "history=model.fit(\n",
        "    X_train,y_train,\n",
        "    batch_size= 32, validation_data=(X_test,y_test),\n",
        "    epochs=400 , callbacks=[callbacks])\n",
        "#validation_data=(X_test,y_test),"
      ]
    },
    {
      "cell_type": "markdown",
      "metadata": {
        "id": "TK1BOiFDZGfC"
      },
      "source": [
        "**Evaluation of ResNet50**"
      ]
    },
    {
      "cell_type": "code",
      "execution_count": 122,
      "metadata": {
        "colab": {
          "base_uri": "https://localhost:8080/"
        },
        "id": "LQef2voUZL2E",
        "outputId": "8a3410b8-04a5-4f10-a7cd-a3530a264188"
      },
      "outputs": [
        {
          "output_type": "stream",
          "name": "stdout",
          "text": [
            "Training Accuracy: [Loss, Accuracy]= [1.2772518402925925e-06, 1.0]\n",
            "Testing Accuracy:[Loss, Accuracy]= [0.6708218455314636, 0.8799999952316284]\n"
          ]
        }
      ],
      "source": [
        "train_acc = model.evaluate(X_train, y_train, verbose=0)\n",
        "test_acc = model.evaluate(X_test, y_test, verbose=0)\n",
        "\n",
        "print (\"Training Accuracy: [Loss, Accuracy]= \" + str(train_acc))\n",
        "print (\"Testing Accuracy:[Loss, Accuracy]= \" + str(test_acc))"
      ]
    },
    {
      "cell_type": "code",
      "execution_count": null,
      "metadata": {
        "id": "4DrGZJEb_XqX"
      },
      "outputs": [],
      "source": [
        "'''\n",
        "plt.figure(figsize=(15,5))\n",
        "plt.subplot(121)\n",
        "plt.plot(history.history['accuracy'])\n",
        "plt.plot(history.history['val_accuracy'])\n",
        "plt.title('Accuracy vs. epochs')\n",
        "plt.ylabel('Accuracy')\n",
        "plt.xlabel('Epoch')\n",
        "plt.legend(['Training' , 'Val_accuracy'], loc='lower right')\n",
        "\n",
        "plt.subplot(122)\n",
        "plt.plot(history.history['loss'])\n",
        "plt.plot(history.history['val_loss'])\n",
        "plt.title('Loss vs. epochs')\n",
        "plt.ylabel('Loss')\n",
        "plt.xlabel('Epoch')\n",
        "plt.legend(['Training' , 'Validation'], loc='upper right')\n",
        "plt.show()\n",
        "\n",
        "'''"
      ]
    },
    {
      "cell_type": "code",
      "source": [
        "plt.figure(figsize=(7.5,5))\n",
        "plt.plot(history.history['accuracy'])\n",
        "plt.plot(history.history['val_accuracy'])\n",
        "plt.title('Accuracy vs. epochs')\n",
        "plt.ylabel('Accuracy')\n",
        "plt.xlabel('Epoch')\n",
        "plt.legend(['Training' , 'Val_accuracy'], loc='lower right')\n",
        "\n",
        "plt.show()"
      ],
      "metadata": {
        "colab": {
          "base_uri": "https://localhost:8080/",
          "height": 487
        },
        "id": "o0brMVFq9JrU",
        "outputId": "102c39ee-958e-4b3d-e994-c15bc35b73c9"
      },
      "execution_count": 123,
      "outputs": [
        {
          "output_type": "display_data",
          "data": {
            "text/plain": [
              "<Figure size 750x500 with 1 Axes>"
            ],
            "image/png": "[encoded data removed]"
          },
          "metadata": {}
        }
      ]
    },
    {
      "cell_type": "code",
      "source": [
        "plt.figure(figsize=(7.5,5))\n",
        "plt.plot(history.history['loss'])\n",
        "plt.plot(history.history['val_loss'])\n",
        "plt.title('Loss vs. epochs')\n",
        "plt.ylabel('Loss')\n",
        "plt.xlabel('Epoch')\n",
        "plt.legend(['Training' , 'Validation'], loc='upper right')\n",
        "plt.show()"
      ],
      "metadata": {
        "colab": {
          "base_uri": "https://localhost:8080/",
          "height": 487
        },
        "id": "0Lg6nXeYywe9",
        "outputId": "7efaabff-7bd5-4442-d22d-6b6aae597190"
      },
      "execution_count": 124,
      "outputs": [
        {
          "output_type": "display_data",
          "data": {
            "text/plain": [
              "<Figure size 750x500 with 1 Axes>"
            ],
            "image/png": "[encoded data removed]"
          },
          "metadata": {}
        }
      ]
    },
    {
      "cell_type": "code",
      "execution_count": 125,
      "metadata": {
        "id": "_t-FlDGG_W-P"
      },
      "outputs": [],
      "source": [
        "from sklearn.metrics import confusion_matrix\n",
        "from sklearn.metrics import precision_score, recall_score, f1_score, accuracy_score\n",
        "from sklearn import metrics"
      ]
    },
    {
      "cell_type": "code",
      "execution_count": 126,
      "metadata": {
        "colab": {
          "base_uri": "https://localhost:8080/"
        },
        "id": "5_z7wcel8-xn",
        "outputId": "2e97dfcb-f856-46b1-aa8e-baa94885c0fc"
      },
      "outputs": [
        {
          "output_type": "stream",
          "name": "stdout",
          "text": [
            "33/33 [==============================] - 0s 10ms/step\n",
            "[[132  13   5]\n",
            " [  8 377  48]\n",
            " [  4  48 415]]\n"
          ]
        }
      ],
      "source": [
        "from sklearn.metrics import confusion_matrix\n",
        "y_pred = model.predict(X_test)\n",
        "y_pred = np.argmax(y_pred, axis=1)\n",
        "y_test = np.argmax(y_test, axis=1)\n",
        "cm = confusion_matrix(y_test, y_pred)\n",
        "print(cm)"
      ]
    },
    {
      "cell_type": "code",
      "execution_count": 127,
      "metadata": {
        "colab": {
          "base_uri": "https://localhost:8080/",
          "height": 786
        },
        "id": "wSe0UFIj8-tw",
        "outputId": "3244eb99-f9c6-44d4-a416-fec388ba12e8"
      },
      "outputs": [
        {
          "output_type": "error",
          "ename": "ValueError",
          "evalue": "ignored",
          "traceback": [
            "\u001b[0;31m---------------------------------------------------------------------------\u001b[0m",
            "\u001b[0;31mValueError\u001b[0m                                Traceback (most recent call last)",
            "\u001b[0;32m<ipython-input-127-e2567bbdfd07>\u001b[0m in \u001b[0;36m<cell line: 12>\u001b[0;34m()\u001b[0m\n\u001b[1;32m     10\u001b[0m \u001b[0mcm_display\u001b[0m \u001b[0;34m=\u001b[0m \u001b[0mmetrics\u001b[0m\u001b[0;34m.\u001b[0m\u001b[0mConfusionMatrixDisplay\u001b[0m\u001b[0;34m(\u001b[0m\u001b[0mconfusion_matrix\u001b[0m \u001b[0;34m=\u001b[0m \u001b[0mconfusion_matrix\u001b[0m\u001b[0;34m,\u001b[0m \u001b[0mdisplay_labels\u001b[0m \u001b[0;34m=\u001b[0m \u001b[0;34m[\u001b[0m\u001b[0;32mFalse\u001b[0m\u001b[0;34m,\u001b[0m \u001b[0;32mTrue\u001b[0m\u001b[0;34m]\u001b[0m\u001b[0;34m)\u001b[0m\u001b[0;34m\u001b[0m\u001b[0;34m\u001b[0m\u001b[0m\n\u001b[1;32m     11\u001b[0m \u001b[0;34m\u001b[0m\u001b[0m\n\u001b[0;32m---> 12\u001b[0;31m \u001b[0mcm_display\u001b[0m\u001b[0;34m.\u001b[0m\u001b[0mplot\u001b[0m\u001b[0;34m(\u001b[0m\u001b[0;34m)\u001b[0m\u001b[0;34m\u001b[0m\u001b[0;34m\u001b[0m\u001b[0m\n\u001b[0m\u001b[1;32m     13\u001b[0m \u001b[0mplt\u001b[0m\u001b[0;34m.\u001b[0m\u001b[0mshow\u001b[0m\u001b[0;34m(\u001b[0m\u001b[0;34m)\u001b[0m\u001b[0;34m\u001b[0m\u001b[0;34m\u001b[0m\u001b[0m\n",
            "\u001b[0;32m/usr/local/lib/python3.10/dist-packages/sklearn/metrics/_plot/confusion_matrix.py\u001b[0m in \u001b[0;36mplot\u001b[0;34m(self, include_values, cmap, xticks_rotation, values_format, ax, colorbar, im_kw, text_kw)\u001b[0m\n\u001b[1;32m    179\u001b[0m         \u001b[0;32mif\u001b[0m \u001b[0mcolorbar\u001b[0m\u001b[0;34m:\u001b[0m\u001b[0;34m\u001b[0m\u001b[0;34m\u001b[0m\u001b[0m\n\u001b[1;32m    180\u001b[0m             \u001b[0mfig\u001b[0m\u001b[0;34m.\u001b[0m\u001b[0mcolorbar\u001b[0m\u001b[0;34m(\u001b[0m\u001b[0mself\u001b[0m\u001b[0;34m.\u001b[0m\u001b[0mim_\u001b[0m\u001b[0;34m,\u001b[0m \u001b[0max\u001b[0m\u001b[0;34m=\u001b[0m\u001b[0max\u001b[0m\u001b[0;34m)\u001b[0m\u001b[0;34m\u001b[0m\u001b[0;34m\u001b[0m\u001b[0m\n\u001b[0;32m--> 181\u001b[0;31m         ax.set(\n\u001b[0m\u001b[1;32m    182\u001b[0m             \u001b[0mxticks\u001b[0m\u001b[0;34m=\u001b[0m\u001b[0mnp\u001b[0m\u001b[0;34m.\u001b[0m\u001b[0marange\u001b[0m\u001b[0;34m(\u001b[0m\u001b[0mn_classes\u001b[0m\u001b[0;34m)\u001b[0m\u001b[0;34m,\u001b[0m\u001b[0;34m\u001b[0m\u001b[0;34m\u001b[0m\u001b[0m\n\u001b[1;32m    183\u001b[0m             \u001b[0myticks\u001b[0m\u001b[0;34m=\u001b[0m\u001b[0mnp\u001b[0m\u001b[0;34m.\u001b[0m\u001b[0marange\u001b[0m\u001b[0;34m(\u001b[0m\u001b[0mn_classes\u001b[0m\u001b[0;34m)\u001b[0m\u001b[0;34m,\u001b[0m\u001b[0;34m\u001b[0m\u001b[0;34m\u001b[0m\u001b[0m\n",
            "\u001b[0;32m/usr/local/lib/python3.10/dist-packages/matplotlib/artist.py\u001b[0m in \u001b[0;36m<lambda>\u001b[0;34m(self, **kwargs)\u001b[0m\n\u001b[1;32m    145\u001b[0m             \u001b[0;32mreturn\u001b[0m\u001b[0;34m\u001b[0m\u001b[0;34m\u001b[0m\u001b[0m\n\u001b[1;32m    146\u001b[0m \u001b[0;34m\u001b[0m\u001b[0m\n\u001b[0;32m--> 147\u001b[0;31m         \u001b[0mcls\u001b[0m\u001b[0;34m.\u001b[0m\u001b[0mset\u001b[0m \u001b[0;34m=\u001b[0m \u001b[0;32mlambda\u001b[0m \u001b[0mself\u001b[0m\u001b[0;34m,\u001b[0m \u001b[0;34m**\u001b[0m\u001b[0mkwargs\u001b[0m\u001b[0;34m:\u001b[0m \u001b[0mArtist\u001b[0m\u001b[0;34m.\u001b[0m\u001b[0mset\u001b[0m\u001b[0;34m(\u001b[0m\u001b[0mself\u001b[0m\u001b[0;34m,\u001b[0m \u001b[0;34m**\u001b[0m\u001b[0mkwargs\u001b[0m\u001b[0;34m)\u001b[0m\u001b[0;34m\u001b[0m\u001b[0;34m\u001b[0m\u001b[0m\n\u001b[0m\u001b[1;32m    148\u001b[0m         \u001b[0mcls\u001b[0m\u001b[0;34m.\u001b[0m\u001b[0mset\u001b[0m\u001b[0;34m.\u001b[0m\u001b[0m__name__\u001b[0m \u001b[0;34m=\u001b[0m \u001b[0;34m\"set\"\u001b[0m\u001b[0;34m\u001b[0m\u001b[0;34m\u001b[0m\u001b[0m\n\u001b[1;32m    149\u001b[0m         \u001b[0mcls\u001b[0m\u001b[0;34m.\u001b[0m\u001b[0mset\u001b[0m\u001b[0;34m.\u001b[0m\u001b[0m__qualname__\u001b[0m \u001b[0;34m=\u001b[0m \u001b[0;34mf\"{cls.__qualname__}.set\"\u001b[0m\u001b[0;34m\u001b[0m\u001b[0;34m\u001b[0m\u001b[0m\n",
            "\u001b[0;32m/usr/local/lib/python3.10/dist-packages/matplotlib/artist.py\u001b[0m in \u001b[0;36mset\u001b[0;34m(self, **kwargs)\u001b[0m\n\u001b[1;32m   1229\u001b[0m         \u001b[0;31m# Artist._update_set_signature_and_docstring() at the end of the\u001b[0m\u001b[0;34m\u001b[0m\u001b[0;34m\u001b[0m\u001b[0m\n\u001b[1;32m   1230\u001b[0m         \u001b[0;31m# module.\u001b[0m\u001b[0;34m\u001b[0m\u001b[0;34m\u001b[0m\u001b[0m\n\u001b[0;32m-> 1231\u001b[0;31m         \u001b[0;32mreturn\u001b[0m \u001b[0mself\u001b[0m\u001b[0;34m.\u001b[0m\u001b[0m_internal_update\u001b[0m\u001b[0;34m(\u001b[0m\u001b[0mcbook\u001b[0m\u001b[0;34m.\u001b[0m\u001b[0mnormalize_kwargs\u001b[0m\u001b[0;34m(\u001b[0m\u001b[0mkwargs\u001b[0m\u001b[0;34m,\u001b[0m \u001b[0mself\u001b[0m\u001b[0;34m)\u001b[0m\u001b[0;34m)\u001b[0m\u001b[0;34m\u001b[0m\u001b[0;34m\u001b[0m\u001b[0m\n\u001b[0m\u001b[1;32m   1232\u001b[0m \u001b[0;34m\u001b[0m\u001b[0m\n\u001b[1;32m   1233\u001b[0m     \u001b[0;34m@\u001b[0m\u001b[0mcontextlib\u001b[0m\u001b[0;34m.\u001b[0m\u001b[0mcontextmanager\u001b[0m\u001b[0;34m\u001b[0m\u001b[0;34m\u001b[0m\u001b[0m\n",
            "\u001b[0;32m/usr/local/lib/python3.10/dist-packages/matplotlib/artist.py\u001b[0m in \u001b[0;36m_internal_update\u001b[0;34m(self, kwargs)\u001b[0m\n\u001b[1;32m   1221\u001b[0m         \u001b[0mThe\u001b[0m \u001b[0mlack\u001b[0m \u001b[0mof\u001b[0m \u001b[0mprenormalization\u001b[0m \u001b[0;32mis\u001b[0m \u001b[0mto\u001b[0m \u001b[0mmaintain\u001b[0m \u001b[0mbackcompatibility\u001b[0m\u001b[0;34m.\u001b[0m\u001b[0;34m\u001b[0m\u001b[0;34m\u001b[0m\u001b[0m\n\u001b[1;32m   1222\u001b[0m         \"\"\"\n\u001b[0;32m-> 1223\u001b[0;31m         return self._update_props(\n\u001b[0m\u001b[1;32m   1224\u001b[0m             \u001b[0mkwargs\u001b[0m\u001b[0;34m,\u001b[0m \u001b[0;34m\"{cls.__name__}.set() got an unexpected keyword argument \"\u001b[0m\u001b[0;34m\u001b[0m\u001b[0;34m\u001b[0m\u001b[0m\n\u001b[1;32m   1225\u001b[0m             \"{prop_name!r}\")\n",
            "\u001b[0;32m/usr/local/lib/python3.10/dist-packages/matplotlib/artist.py\u001b[0m in \u001b[0;36m_update_props\u001b[0;34m(self, props, errfmt)\u001b[0m\n\u001b[1;32m   1197\u001b[0m                         raise AttributeError(\n\u001b[1;32m   1198\u001b[0m                             errfmt.format(cls=type(self), prop_name=k))\n\u001b[0;32m-> 1199\u001b[0;31m                     \u001b[0mret\u001b[0m\u001b[0;34m.\u001b[0m\u001b[0mappend\u001b[0m\u001b[0;34m(\u001b[0m\u001b[0mfunc\u001b[0m\u001b[0;34m(\u001b[0m\u001b[0mv\u001b[0m\u001b[0;34m)\u001b[0m\u001b[0;34m)\u001b[0m\u001b[0;34m\u001b[0m\u001b[0;34m\u001b[0m\u001b[0m\n\u001b[0m\u001b[1;32m   1200\u001b[0m         \u001b[0;32mif\u001b[0m \u001b[0mret\u001b[0m\u001b[0;34m:\u001b[0m\u001b[0;34m\u001b[0m\u001b[0;34m\u001b[0m\u001b[0m\n\u001b[1;32m   1201\u001b[0m             \u001b[0mself\u001b[0m\u001b[0;34m.\u001b[0m\u001b[0mpchanged\u001b[0m\u001b[0;34m(\u001b[0m\u001b[0;34m)\u001b[0m\u001b[0;34m\u001b[0m\u001b[0;34m\u001b[0m\u001b[0m\n",
            "\u001b[0;32m/usr/local/lib/python3.10/dist-packages/matplotlib/axes/_base.py\u001b[0m in \u001b[0;36mwrapper\u001b[0;34m(self, *args, **kwargs)\u001b[0m\n\u001b[1;32m     72\u001b[0m \u001b[0;34m\u001b[0m\u001b[0m\n\u001b[1;32m     73\u001b[0m         \u001b[0;32mdef\u001b[0m \u001b[0mwrapper\u001b[0m\u001b[0;34m(\u001b[0m\u001b[0mself\u001b[0m\u001b[0;34m,\u001b[0m \u001b[0;34m*\u001b[0m\u001b[0margs\u001b[0m\u001b[0;34m,\u001b[0m \u001b[0;34m**\u001b[0m\u001b[0mkwargs\u001b[0m\u001b[0;34m)\u001b[0m\u001b[0;34m:\u001b[0m\u001b[0;34m\u001b[0m\u001b[0;34m\u001b[0m\u001b[0m\n\u001b[0;32m---> 74\u001b[0;31m             \u001b[0;32mreturn\u001b[0m \u001b[0mget_method\u001b[0m\u001b[0;34m(\u001b[0m\u001b[0mself\u001b[0m\u001b[0;34m)\u001b[0m\u001b[0;34m(\u001b[0m\u001b[0;34m*\u001b[0m\u001b[0margs\u001b[0m\u001b[0;34m,\u001b[0m \u001b[0;34m**\u001b[0m\u001b[0mkwargs\u001b[0m\u001b[0;34m)\u001b[0m\u001b[0;34m\u001b[0m\u001b[0;34m\u001b[0m\u001b[0m\n\u001b[0m\u001b[1;32m     75\u001b[0m \u001b[0;34m\u001b[0m\u001b[0m\n\u001b[1;32m     76\u001b[0m         \u001b[0mwrapper\u001b[0m\u001b[0;34m.\u001b[0m\u001b[0m__module__\u001b[0m \u001b[0;34m=\u001b[0m \u001b[0mowner\u001b[0m\u001b[0;34m.\u001b[0m\u001b[0m__module__\u001b[0m\u001b[0;34m\u001b[0m\u001b[0;34m\u001b[0m\u001b[0m\n",
            "\u001b[0;32m/usr/local/lib/python3.10/dist-packages/matplotlib/_api/deprecation.py\u001b[0m in \u001b[0;36mwrapper\u001b[0;34m(*args, **kwargs)\u001b[0m\n\u001b[1;32m    295\u001b[0m                 f\"for the old name will be dropped %(removal)s.\")\n\u001b[1;32m    296\u001b[0m             \u001b[0mkwargs\u001b[0m\u001b[0;34m[\u001b[0m\u001b[0mnew\u001b[0m\u001b[0;34m]\u001b[0m \u001b[0;34m=\u001b[0m \u001b[0mkwargs\u001b[0m\u001b[0;34m.\u001b[0m\u001b[0mpop\u001b[0m\u001b[0;34m(\u001b[0m\u001b[0mold\u001b[0m\u001b[0;34m)\u001b[0m\u001b[0;34m\u001b[0m\u001b[0;34m\u001b[0m\u001b[0m\n\u001b[0;32m--> 297\u001b[0;31m         \u001b[0;32mreturn\u001b[0m \u001b[0mfunc\u001b[0m\u001b[0;34m(\u001b[0m\u001b[0;34m*\u001b[0m\u001b[0margs\u001b[0m\u001b[0;34m,\u001b[0m \u001b[0;34m**\u001b[0m\u001b[0mkwargs\u001b[0m\u001b[0;34m)\u001b[0m\u001b[0;34m\u001b[0m\u001b[0;34m\u001b[0m\u001b[0m\n\u001b[0m\u001b[1;32m    298\u001b[0m \u001b[0;34m\u001b[0m\u001b[0m\n\u001b[1;32m    299\u001b[0m     \u001b[0;31m# wrapper() must keep the same documented signature as func(): if we\u001b[0m\u001b[0;34m\u001b[0m\u001b[0;34m\u001b[0m\u001b[0m\n",
            "\u001b[0;32m/usr/local/lib/python3.10/dist-packages/matplotlib/axis.py\u001b[0m in \u001b[0;36mset_ticklabels\u001b[0;34m(self, labels, minor, fontdict, **kwargs)\u001b[0m\n\u001b[1;32m   1967\u001b[0m             \u001b[0;31m# remove all tick labels, so only error for > 0 labels\u001b[0m\u001b[0;34m\u001b[0m\u001b[0;34m\u001b[0m\u001b[0m\n\u001b[1;32m   1968\u001b[0m             \u001b[0;32mif\u001b[0m \u001b[0mlen\u001b[0m\u001b[0;34m(\u001b[0m\u001b[0mlocator\u001b[0m\u001b[0;34m.\u001b[0m\u001b[0mlocs\u001b[0m\u001b[0;34m)\u001b[0m \u001b[0;34m!=\u001b[0m \u001b[0mlen\u001b[0m\u001b[0;34m(\u001b[0m\u001b[0mlabels\u001b[0m\u001b[0;34m)\u001b[0m \u001b[0;32mand\u001b[0m \u001b[0mlen\u001b[0m\u001b[0;34m(\u001b[0m\u001b[0mlabels\u001b[0m\u001b[0;34m)\u001b[0m \u001b[0;34m!=\u001b[0m \u001b[0;36m0\u001b[0m\u001b[0;34m:\u001b[0m\u001b[0;34m\u001b[0m\u001b[0;34m\u001b[0m\u001b[0m\n\u001b[0;32m-> 1969\u001b[0;31m                 raise ValueError(\n\u001b[0m\u001b[1;32m   1970\u001b[0m                     \u001b[0;34m\"The number of FixedLocator locations\"\u001b[0m\u001b[0;34m\u001b[0m\u001b[0;34m\u001b[0m\u001b[0m\n\u001b[1;32m   1971\u001b[0m                     \u001b[0;34mf\" ({len(locator.locs)}), usually from a call to\"\u001b[0m\u001b[0;34m\u001b[0m\u001b[0;34m\u001b[0m\u001b[0m\n",
            "\u001b[0;31mValueError\u001b[0m: The number of FixedLocator locations (3), usually from a call to set_ticks, does not match the number of labels (2)."
          ]
        },
        {
          "output_type": "display_data",
          "data": {
            "text/plain": [
              "<Figure size 640x480 with 2 Axes>"
            ],
            "image/png": "[encoded data removed]"
          },
          "metadata": {}
        }
      ],
      "source": [
        "import matplotlib.pyplot as plt\n",
        "import numpy\n",
        "from sklearn import metrics\n",
        "\n",
        "actual = numpy.random.binomial(1,.9,size = 1000)\n",
        "predicted = numpy.random.binomial(1,.9,size = 1000)\n",
        "\n",
        "confusion_matrix = metrics.confusion_matrix(y_test, y_pred)\n",
        "\n",
        "cm_display = metrics.ConfusionMatrixDisplay(confusion_matrix = confusion_matrix, display_labels = [False, True])\n",
        "\n",
        "cm_display.plot()\n",
        "plt.show()"
      ]
    },
    {
      "cell_type": "code",
      "source": [
        "accuracy = accuracy_score(y_test, y_pred )\n",
        "print ('Accuracy: %.4f' % accuracy)"
      ],
      "metadata": {
        "colab": {
          "base_uri": "https://localhost:8080/"
        },
        "id": "tiPwAkvgQUfA",
        "outputId": "4c388e31-4071-4bb1-89ce-c4ef21a3d215"
      },
      "execution_count": 128,
      "outputs": [
        {
          "output_type": "stream",
          "name": "stdout",
          "text": [
            "Accuracy: 0.8800\n"
          ]
        }
      ]
    },
    {
      "cell_type": "code",
      "execution_count": 129,
      "metadata": {
        "colab": {
          "base_uri": "https://localhost:8080/"
        },
        "id": "NkfoeETl-78H",
        "outputId": "2897d29c-55dd-481f-bda4-966c1c570a34"
      },
      "outputs": [
        {
          "output_type": "stream",
          "name": "stdout",
          "text": [
            "Recall: 0.8798\n"
          ]
        }
      ],
      "source": [
        "recall = recall_score(y_test, y_pred , average='macro' )\n",
        "print ('Recall: %.4f' % recall)"
      ]
    },
    {
      "cell_type": "code",
      "execution_count": 130,
      "metadata": {
        "colab": {
          "base_uri": "https://localhost:8080/"
        },
        "id": "vnlAzjTM8-sA",
        "outputId": "c473123d-2c27-4cbd-ac89-7ce0589a2f4c"
      },
      "outputs": [
        {
          "output_type": "stream",
          "name": "stdout",
          "text": [
            "Precision: 0.8880\n"
          ]
        }
      ],
      "source": [
        "precision = precision_score(y_test, y_pred , average='macro')\n",
        "print ('Precision: %.4f' % precision)"
      ]
    },
    {
      "cell_type": "code",
      "execution_count": 131,
      "metadata": {
        "colab": {
          "base_uri": "https://localhost:8080/"
        },
        "id": "qH6rykwi8-JJ",
        "outputId": "a97692e1-4a42-462d-9980-8ceb392096f8"
      },
      "outputs": [
        {
          "output_type": "stream",
          "name": "stdout",
          "text": [
            "F1-Score: 0.8838\n"
          ]
        }
      ],
      "source": [
        "f1score = f1_score(y_test, y_pred , average='macro' )\n",
        "print ('F1-Score: %.4f' % f1score)"
      ]
    },
    {
      "cell_type": "code",
      "execution_count": null,
      "metadata": {
        "id": "Zu2SPRvB8-HZ"
      },
      "outputs": [],
      "source": []
    },
    {
      "cell_type": "markdown",
      "metadata": {
        "id": "AsLnq9JFGVkx"
      },
      "source": [
        "**Data Augmentation**"
      ]
    },
    {
      "cell_type": "code",
      "execution_count": null,
      "metadata": {
        "colab": {
          "base_uri": "https://localhost:8080/"
        },
        "id": "y5VzPH8u8bgy",
        "outputId": "bc9f78cb-2662-44e0-c5b2-44f1badcede2"
      },
      "outputs": [
        {
          "name": "stdout",
          "output_type": "stream",
          "text": [
            "Found 985 images belonging to 3 classes.\n",
            "Found 244 images belonging to 3 classes.\n"
          ]
        }
      ],
      "source": [
        "directory_train = \"/content/drive/MyDrive/DataSet_CBIS-DDSM/Mass_Train_Set/\"\n",
        "directory_test = \"/content/drive/MyDrive/DataSet_CBIS-DDSM/Mass_Test_Set/\"\n",
        "def get_ImageDataGenerator(validation_split=None):\n",
        "    image_generator = ImageDataGenerator(rescale=(1/255.),\n",
        "                                        validation_split=validation_split)\n",
        "    return image_generator\n",
        "image_gen_train = get_ImageDataGenerator(validation_split=0.2)\n",
        "def get_generator(image_data_generator, directory, train_valid=None, seed=None):\n",
        "    train_generator = image_data_generator.flow_from_directory(directory, batch_size=32, class_mode='categorical', target_size=(240,240), subset=train_valid, seed=seed)\n",
        "    return train_generator\n",
        "train_generator = get_generator(image_gen_train, directory_train, train_valid='training', seed=1)\n",
        "validation_generator = get_generator(image_gen_train, directory_train, train_valid='validation')"
      ]
    },
    {
      "cell_type": "code",
      "execution_count": null,
      "metadata": {
        "colab": {
          "base_uri": "https://localhost:8080/",
          "height": 383
        },
        "id": "OFy6O4kgABF7",
        "outputId": "1c4662c6-a227-44c7-97bd-f3c59aef28cf"
      },
      "outputs": [
        {
          "data": {
            "image/png": "[encoded data removed]",
            "text/plain": [
              "<Figure size 1080x720 with 10 Axes>"
            ]
          },
          "metadata": {},
          "output_type": "display_data"
        }
      ],
      "source": [
        "target_labels = next(os.walk(directory_train))[1]\n",
        "\n",
        "target_labels.sort()\n",
        "\n",
        "batch = next(train_generator)\n",
        "batch_images = np.array(batch[0])\n",
        "batch_labels = np.array(batch[1])\n",
        "\n",
        "target_labels = np.asarray(target_labels)\n",
        "\n",
        "plt.figure(figsize=(15,10))\n",
        "for n, i in enumerate(np.arange(10)):\n",
        "    ax = plt.subplot(3,5,n+1)\n",
        "    plt.imshow(batch_images[i])\n",
        "    plt.title(target_labels[np.where(batch_labels[i]==1)[0][0]])\n",
        "    plt.axis('off')"
      ]
    }
  ],
  "metadata": {
    "colab": {
      "provenance": []
    },
    "kernelspec": {
      "display_name": "Python 3",
      "name": "python3"
    },
    "language_info": {
      "name": "python"
    }
  },
  "nbformat": 4,
  "nbformat_minor": 0
}