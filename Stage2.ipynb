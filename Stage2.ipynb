{
  "cells": [
    {
      "cell_type": "code",
      "execution_count": 1,
      "metadata": {
        "id": "xXLFolMK0QmH"
      },
      "outputs": [],
      "source": [
        "from keras.preprocessing.image import ImageDataGenerator\n",
        "import keras\n",
        "import tensorflow as tf\n",
        "from tensorflow.keras.models import Sequential\n",
        "from tensorflow.keras.models import load_model\n",
        "from keras.layers import Convolution2D as conv2D\n",
        "from keras.layers import MaxPooling2D\n",
        "from keras.layers import Activation,Dropout, Flatten, Dense\n",
        "from tensorflow.keras.preprocessing import image\n",
        "from keras import backend as K\n",
        "import numpy as np\n",
        "import matplotlib.pyplot as plt\n",
        "import os , sys\n",
        "from PIL import Image as im\n",
        "from os import listdir\n",
        "\n",
        "from tensorflow.keras.applications.inception_v3 import InceptionV3\n",
        "from tensorflow.keras import layers\n",
        "from tensorflow.keras.optimizers import RMSprop , Adam, SGD\n",
        "from tensorflow.keras import Model\n",
        "from keras.layers import GlobalAveragePooling2D\n",
        "from sklearn.model_selection import train_test_split\n",
        "\n",
        "import cv2\n",
        "import glob    # glob (short for global) is used to return all file paths that match a specific pattern.\n",
        "import random\n",
        "from sklearn.metrics import confusion_matrix\n",
        "from sklearn.metrics import precision_score, recall_score, f1_score, accuracy_score\n",
        "from sklearn import metrics\n",
        "from keras.callbacks import EarlyStopping"
      ]
    },
    {
      "cell_type": "markdown",
      "metadata": {
        "id": "92A4jA4lRju3"
      },
      "source": [
        "**ResNet50**"
      ]
    },
    {
      "cell_type": "code",
      "execution_count": 2,
      "metadata": {
        "id": "K1wSn5GIQMI6"
      },
      "outputs": [],
      "source": [
        "IMG_SHAPE=(224,224,3)\n",
        "IMG_SIZE = (224, 224)\n",
        "#IMG_SHAPE = (150, 150, 3) #(150,150) were used before in Inception V3"
      ]
    },
    {
      "cell_type": "code",
      "execution_count": 3,
      "metadata": {
        "id": "IPIuqcCfRbnb",
        "colab": {
          "base_uri": "https://localhost:8080/"
        },
        "outputId": "72f1ef48-5426-4aa7-c66f-ebd95dd64cb5"
      },
      "outputs": [
        {
          "output_type": "stream",
          "name": "stdout",
          "text": [
            "Downloading data from https://storage.googleapis.com/tensorflow/keras-applications/resnet/resnet50_weights_tf_dim_ordering_tf_kernels_notop.h5\n",
            "94765736/94765736 [==============================] - 2s 0us/step\n"
          ]
        }
      ],
      "source": [
        "#######################################################\n",
        "#Get the convolution base of a Pre-Trained CNN (here it is ResNet50)\n",
        "#######################################################\n",
        "base_model = tf.keras.applications.ResNet50(input_shape=IMG_SHAPE,\n",
        "                                               include_top=False,\n",
        "                                               weights=\"imagenet\")"
      ]
    },
    {
      "cell_type": "code",
      "execution_count": 73,
      "metadata": {
        "id": "fI9IFV6TReQM"
      },
      "outputs": [],
      "source": [
        "#Store the number of top layers from the convolution base you want to discard in\n",
        "#the variable discard_layers\n",
        "discard_layers = 11 # i.e 11, 21, 22, 23 , at 22 i got max accuracy\n",
        "\n",
        "#x = tf.keras.layers.GlobalAveragePooling2D()(base_model.output)\n",
        "#discard few top layers of convolution base and add global\n",
        "#average pooling layer on top of it.\n",
        "x = tf.keras.layers.GlobalAveragePooling2D()(base_model.layers[-discard_layers].output)\n"
      ]
    },
    {
      "cell_type": "code",
      "execution_count": 74,
      "metadata": {
        "id": "Uw-t6MZgRiJ1"
      },
      "outputs": [],
      "source": [
        "updated_model = tf.keras.models.Model(inputs=base_model.input,\n",
        "                              outputs= x)"
      ]
    },
    {
      "cell_type": "code",
      "execution_count": 75,
      "metadata": {
        "colab": {
          "base_uri": "https://localhost:8080/"
        },
        "id": "RtF1FOz1RyQE",
        "outputId": "ec34ee6e-26f9-4609-d7d5-1280794383af"
      },
      "outputs": [
        {
          "output_type": "stream",
          "name": "stdout",
          "text": [
            "Model: \"model_9\"\n",
            "__________________________________________________________________________________________________\n",
            " Layer (type)                Output Shape                 Param #   Connected to                  \n",
            "==================================================================================================\n",
            " input_1 (InputLayer)        [(None, 224, 224, 3)]        0         []                            \n",
            "                                                                                                  \n",
            " conv1_pad (ZeroPadding2D)   (None, 230, 230, 3)          0         ['input_1[0][0]']             \n",
            "                                                                                                  \n",
            " conv1_conv (Conv2D)         (None, 112, 112, 64)         9472      ['conv1_pad[0][0]']           \n",
            "                                                                                                  \n",
            " conv1_bn (BatchNormalizati  (None, 112, 112, 64)         256       ['conv1_conv[0][0]']          \n",
            " on)                                                                                              \n",
            "                                                                                                  \n",
            " conv1_relu (Activation)     (None, 112, 112, 64)         0         ['conv1_bn[0][0]']            \n",
            "                                                                                                  \n",
            " pool1_pad (ZeroPadding2D)   (None, 114, 114, 64)         0         ['conv1_relu[0][0]']          \n",
            "                                                                                                  \n",
            " pool1_pool (MaxPooling2D)   (None, 56, 56, 64)           0         ['pool1_pad[0][0]']           \n",
            "                                                                                                  \n",
            " conv2_block1_1_conv (Conv2  (None, 56, 56, 64)           4160      ['pool1_pool[0][0]']          \n",
            " D)                                                                                               \n",
            "                                                                                                  \n",
            " conv2_block1_1_bn (BatchNo  (None, 56, 56, 64)           256       ['conv2_block1_1_conv[0][0]'] \n",
            " rmalization)                                                                                     \n",
            "                                                                                                  \n",
            " conv2_block1_1_relu (Activ  (None, 56, 56, 64)           0         ['conv2_block1_1_bn[0][0]']   \n",
            " ation)                                                                                           \n",
            "                                                                                                  \n",
            " conv2_block1_2_conv (Conv2  (None, 56, 56, 64)           36928     ['conv2_block1_1_relu[0][0]'] \n",
            " D)                                                                                               \n",
            "                                                                                                  \n",
            " conv2_block1_2_bn (BatchNo  (None, 56, 56, 64)           256       ['conv2_block1_2_conv[0][0]'] \n",
            " rmalization)                                                                                     \n",
            "                                                                                                  \n",
            " conv2_block1_2_relu (Activ  (None, 56, 56, 64)           0         ['conv2_block1_2_bn[0][0]']   \n",
            " ation)                                                                                           \n",
            "                                                                                                  \n",
            " conv2_block1_0_conv (Conv2  (None, 56, 56, 256)          16640     ['pool1_pool[0][0]']          \n",
            " D)                                                                                               \n",
            "                                                                                                  \n",
            " conv2_block1_3_conv (Conv2  (None, 56, 56, 256)          16640     ['conv2_block1_2_relu[0][0]'] \n",
            " D)                                                                                               \n",
            "                                                                                                  \n",
            " conv2_block1_0_bn (BatchNo  (None, 56, 56, 256)          1024      ['conv2_block1_0_conv[0][0]'] \n",
            " rmalization)                                                                                     \n",
            "                                                                                                  \n",
            " conv2_block1_3_bn (BatchNo  (None, 56, 56, 256)          1024      ['conv2_block1_3_conv[0][0]'] \n",
            " rmalization)                                                                                     \n",
            "                                                                                                  \n",
            " conv2_block1_add (Add)      (None, 56, 56, 256)          0         ['conv2_block1_0_bn[0][0]',   \n",
            "                                                                     'conv2_block1_3_bn[0][0]']   \n",
            "                                                                                                  \n",
            " conv2_block1_out (Activati  (None, 56, 56, 256)          0         ['conv2_block1_add[0][0]']    \n",
            " on)                                                                                              \n",
            "                                                                                                  \n",
            " conv2_block2_1_conv (Conv2  (None, 56, 56, 64)           16448     ['conv2_block1_out[0][0]']    \n",
            " D)                                                                                               \n",
            "                                                                                                  \n",
            " conv2_block2_1_bn (BatchNo  (None, 56, 56, 64)           256       ['conv2_block2_1_conv[0][0]'] \n",
            " rmalization)                                                                                     \n",
            "                                                                                                  \n",
            " conv2_block2_1_relu (Activ  (None, 56, 56, 64)           0         ['conv2_block2_1_bn[0][0]']   \n",
            " ation)                                                                                           \n",
            "                                                                                                  \n",
            " conv2_block2_2_conv (Conv2  (None, 56, 56, 64)           36928     ['conv2_block2_1_relu[0][0]'] \n",
            " D)                                                                                               \n",
            "                                                                                                  \n",
            " conv2_block2_2_bn (BatchNo  (None, 56, 56, 64)           256       ['conv2_block2_2_conv[0][0]'] \n",
            " rmalization)                                                                                     \n",
            "                                                                                                  \n",
            " conv2_block2_2_relu (Activ  (None, 56, 56, 64)           0         ['conv2_block2_2_bn[0][0]']   \n",
            " ation)                                                                                           \n",
            "                                                                                                  \n",
            " conv2_block2_3_conv (Conv2  (None, 56, 56, 256)          16640     ['conv2_block2_2_relu[0][0]'] \n",
            " D)                                                                                               \n",
            "                                                                                                  \n",
            " conv2_block2_3_bn (BatchNo  (None, 56, 56, 256)          1024      ['conv2_block2_3_conv[0][0]'] \n",
            " rmalization)                                                                                     \n",
            "                                                                                                  \n",
            " conv2_block2_add (Add)      (None, 56, 56, 256)          0         ['conv2_block1_out[0][0]',    \n",
            "                                                                     'conv2_block2_3_bn[0][0]']   \n",
            "                                                                                                  \n",
            " conv2_block2_out (Activati  (None, 56, 56, 256)          0         ['conv2_block2_add[0][0]']    \n",
            " on)                                                                                              \n",
            "                                                                                                  \n",
            " conv2_block3_1_conv (Conv2  (None, 56, 56, 64)           16448     ['conv2_block2_out[0][0]']    \n",
            " D)                                                                                               \n",
            "                                                                                                  \n",
            " conv2_block3_1_bn (BatchNo  (None, 56, 56, 64)           256       ['conv2_block3_1_conv[0][0]'] \n",
            " rmalization)                                                                                     \n",
            "                                                                                                  \n",
            " conv2_block3_1_relu (Activ  (None, 56, 56, 64)           0         ['conv2_block3_1_bn[0][0]']   \n",
            " ation)                                                                                           \n",
            "                                                                                                  \n",
            " conv2_block3_2_conv (Conv2  (None, 56, 56, 64)           36928     ['conv2_block3_1_relu[0][0]'] \n",
            " D)                                                                                               \n",
            "                                                                                                  \n",
            " conv2_block3_2_bn (BatchNo  (None, 56, 56, 64)           256       ['conv2_block3_2_conv[0][0]'] \n",
            " rmalization)                                                                                     \n",
            "                                                                                                  \n",
            " conv2_block3_2_relu (Activ  (None, 56, 56, 64)           0         ['conv2_block3_2_bn[0][0]']   \n",
            " ation)                                                                                           \n",
            "                                                                                                  \n",
            " conv2_block3_3_conv (Conv2  (None, 56, 56, 256)          16640     ['conv2_block3_2_relu[0][0]'] \n",
            " D)                                                                                               \n",
            "                                                                                                  \n",
            " conv2_block3_3_bn (BatchNo  (None, 56, 56, 256)          1024      ['conv2_block3_3_conv[0][0]'] \n",
            " rmalization)                                                                                     \n",
            "                                                                                                  \n",
            " conv2_block3_add (Add)      (None, 56, 56, 256)          0         ['conv2_block2_out[0][0]',    \n",
            "                                                                     'conv2_block3_3_bn[0][0]']   \n",
            "                                                                                                  \n",
            " conv2_block3_out (Activati  (None, 56, 56, 256)          0         ['conv2_block3_add[0][0]']    \n",
            " on)                                                                                              \n",
            "                                                                                                  \n",
            " conv3_block1_1_conv (Conv2  (None, 28, 28, 128)          32896     ['conv2_block3_out[0][0]']    \n",
            " D)                                                                                               \n",
            "                                                                                                  \n",
            " conv3_block1_1_bn (BatchNo  (None, 28, 28, 128)          512       ['conv3_block1_1_conv[0][0]'] \n",
            " rmalization)                                                                                     \n",
            "                                                                                                  \n",
            " conv3_block1_1_relu (Activ  (None, 28, 28, 128)          0         ['conv3_block1_1_bn[0][0]']   \n",
            " ation)                                                                                           \n",
            "                                                                                                  \n",
            " conv3_block1_2_conv (Conv2  (None, 28, 28, 128)          147584    ['conv3_block1_1_relu[0][0]'] \n",
            " D)                                                                                               \n",
            "                                                                                                  \n",
            " conv3_block1_2_bn (BatchNo  (None, 28, 28, 128)          512       ['conv3_block1_2_conv[0][0]'] \n",
            " rmalization)                                                                                     \n",
            "                                                                                                  \n",
            " conv3_block1_2_relu (Activ  (None, 28, 28, 128)          0         ['conv3_block1_2_bn[0][0]']   \n",
            " ation)                                                                                           \n",
            "                                                                                                  \n",
            " conv3_block1_0_conv (Conv2  (None, 28, 28, 512)          131584    ['conv2_block3_out[0][0]']    \n",
            " D)                                                                                               \n",
            "                                                                                                  \n",
            " conv3_block1_3_conv (Conv2  (None, 28, 28, 512)          66048     ['conv3_block1_2_relu[0][0]'] \n",
            " D)                                                                                               \n",
            "                                                                                                  \n",
            " conv3_block1_0_bn (BatchNo  (None, 28, 28, 512)          2048      ['conv3_block1_0_conv[0][0]'] \n",
            " rmalization)                                                                                     \n",
            "                                                                                                  \n",
            " conv3_block1_3_bn (BatchNo  (None, 28, 28, 512)          2048      ['conv3_block1_3_conv[0][0]'] \n",
            " rmalization)                                                                                     \n",
            "                                                                                                  \n",
            " conv3_block1_add (Add)      (None, 28, 28, 512)          0         ['conv3_block1_0_bn[0][0]',   \n",
            "                                                                     'conv3_block1_3_bn[0][0]']   \n",
            "                                                                                                  \n",
            " conv3_block1_out (Activati  (None, 28, 28, 512)          0         ['conv3_block1_add[0][0]']    \n",
            " on)                                                                                              \n",
            "                                                                                                  \n",
            " conv3_block2_1_conv (Conv2  (None, 28, 28, 128)          65664     ['conv3_block1_out[0][0]']    \n",
            " D)                                                                                               \n",
            "                                                                                                  \n",
            " conv3_block2_1_bn (BatchNo  (None, 28, 28, 128)          512       ['conv3_block2_1_conv[0][0]'] \n",
            " rmalization)                                                                                     \n",
            "                                                                                                  \n",
            " conv3_block2_1_relu (Activ  (None, 28, 28, 128)          0         ['conv3_block2_1_bn[0][0]']   \n",
            " ation)                                                                                           \n",
            "                                                                                                  \n",
            " conv3_block2_2_conv (Conv2  (None, 28, 28, 128)          147584    ['conv3_block2_1_relu[0][0]'] \n",
            " D)                                                                                               \n",
            "                                                                                                  \n",
            " conv3_block2_2_bn (BatchNo  (None, 28, 28, 128)          512       ['conv3_block2_2_conv[0][0]'] \n",
            " rmalization)                                                                                     \n",
            "                                                                                                  \n",
            " conv3_block2_2_relu (Activ  (None, 28, 28, 128)          0         ['conv3_block2_2_bn[0][0]']   \n",
            " ation)                                                                                           \n",
            "                                                                                                  \n",
            " conv3_block2_3_conv (Conv2  (None, 28, 28, 512)          66048     ['conv3_block2_2_relu[0][0]'] \n",
            " D)                                                                                               \n",
            "                                                                                                  \n",
            " conv3_block2_3_bn (BatchNo  (None, 28, 28, 512)          2048      ['conv3_block2_3_conv[0][0]'] \n",
            " rmalization)                                                                                     \n",
            "                                                                                                  \n",
            " conv3_block2_add (Add)      (None, 28, 28, 512)          0         ['conv3_block1_out[0][0]',    \n",
            "                                                                     'conv3_block2_3_bn[0][0]']   \n",
            "                                                                                                  \n",
            " conv3_block2_out (Activati  (None, 28, 28, 512)          0         ['conv3_block2_add[0][0]']    \n",
            " on)                                                                                              \n",
            "                                                                                                  \n",
            " conv3_block3_1_conv (Conv2  (None, 28, 28, 128)          65664     ['conv3_block2_out[0][0]']    \n",
            " D)                                                                                               \n",
            "                                                                                                  \n",
            " conv3_block3_1_bn (BatchNo  (None, 28, 28, 128)          512       ['conv3_block3_1_conv[0][0]'] \n",
            " rmalization)                                                                                     \n",
            "                                                                                                  \n",
            " conv3_block3_1_relu (Activ  (None, 28, 28, 128)          0         ['conv3_block3_1_bn[0][0]']   \n",
            " ation)                                                                                           \n",
            "                                                                                                  \n",
            " conv3_block3_2_conv (Conv2  (None, 28, 28, 128)          147584    ['conv3_block3_1_relu[0][0]'] \n",
            " D)                                                                                               \n",
            "                                                                                                  \n",
            " conv3_block3_2_bn (BatchNo  (None, 28, 28, 128)          512       ['conv3_block3_2_conv[0][0]'] \n",
            " rmalization)                                                                                     \n",
            "                                                                                                  \n",
            " conv3_block3_2_relu (Activ  (None, 28, 28, 128)          0         ['conv3_block3_2_bn[0][0]']   \n",
            " ation)                                                                                           \n",
            "                                                                                                  \n",
            " conv3_block3_3_conv (Conv2  (None, 28, 28, 512)          66048     ['conv3_block3_2_relu[0][0]'] \n",
            " D)                                                                                               \n",
            "                                                                                                  \n",
            " conv3_block3_3_bn (BatchNo  (None, 28, 28, 512)          2048      ['conv3_block3_3_conv[0][0]'] \n",
            " rmalization)                                                                                     \n",
            "                                                                                                  \n",
            " conv3_block3_add (Add)      (None, 28, 28, 512)          0         ['conv3_block2_out[0][0]',    \n",
            "                                                                     'conv3_block3_3_bn[0][0]']   \n",
            "                                                                                                  \n",
            " conv3_block3_out (Activati  (None, 28, 28, 512)          0         ['conv3_block3_add[0][0]']    \n",
            " on)                                                                                              \n",
            "                                                                                                  \n",
            " conv3_block4_1_conv (Conv2  (None, 28, 28, 128)          65664     ['conv3_block3_out[0][0]']    \n",
            " D)                                                                                               \n",
            "                                                                                                  \n",
            " conv3_block4_1_bn (BatchNo  (None, 28, 28, 128)          512       ['conv3_block4_1_conv[0][0]'] \n",
            " rmalization)                                                                                     \n",
            "                                                                                                  \n",
            " conv3_block4_1_relu (Activ  (None, 28, 28, 128)          0         ['conv3_block4_1_bn[0][0]']   \n",
            " ation)                                                                                           \n",
            "                                                                                                  \n",
            " conv3_block4_2_conv (Conv2  (None, 28, 28, 128)          147584    ['conv3_block4_1_relu[0][0]'] \n",
            " D)                                                                                               \n",
            "                                                                                                  \n",
            " conv3_block4_2_bn (BatchNo  (None, 28, 28, 128)          512       ['conv3_block4_2_conv[0][0]'] \n",
            " rmalization)                                                                                     \n",
            "                                                                                                  \n",
            " conv3_block4_2_relu (Activ  (None, 28, 28, 128)          0         ['conv3_block4_2_bn[0][0]']   \n",
            " ation)                                                                                           \n",
            "                                                                                                  \n",
            " conv3_block4_3_conv (Conv2  (None, 28, 28, 512)          66048     ['conv3_block4_2_relu[0][0]'] \n",
            " D)                                                                                               \n",
            "                                                                                                  \n",
            " conv3_block4_3_bn (BatchNo  (None, 28, 28, 512)          2048      ['conv3_block4_3_conv[0][0]'] \n",
            " rmalization)                                                                                     \n",
            "                                                                                                  \n",
            " conv3_block4_add (Add)      (None, 28, 28, 512)          0         ['conv3_block3_out[0][0]',    \n",
            "                                                                     'conv3_block4_3_bn[0][0]']   \n",
            "                                                                                                  \n",
            " conv3_block4_out (Activati  (None, 28, 28, 512)          0         ['conv3_block4_add[0][0]']    \n",
            " on)                                                                                              \n",
            "                                                                                                  \n",
            " conv4_block1_1_conv (Conv2  (None, 14, 14, 256)          131328    ['conv3_block4_out[0][0]']    \n",
            " D)                                                                                               \n",
            "                                                                                                  \n",
            " conv4_block1_1_bn (BatchNo  (None, 14, 14, 256)          1024      ['conv4_block1_1_conv[0][0]'] \n",
            " rmalization)                                                                                     \n",
            "                                                                                                  \n",
            " conv4_block1_1_relu (Activ  (None, 14, 14, 256)          0         ['conv4_block1_1_bn[0][0]']   \n",
            " ation)                                                                                           \n",
            "                                                                                                  \n",
            " conv4_block1_2_conv (Conv2  (None, 14, 14, 256)          590080    ['conv4_block1_1_relu[0][0]'] \n",
            " D)                                                                                               \n",
            "                                                                                                  \n",
            " conv4_block1_2_bn (BatchNo  (None, 14, 14, 256)          1024      ['conv4_block1_2_conv[0][0]'] \n",
            " rmalization)                                                                                     \n",
            "                                                                                                  \n",
            " conv4_block1_2_relu (Activ  (None, 14, 14, 256)          0         ['conv4_block1_2_bn[0][0]']   \n",
            " ation)                                                                                           \n",
            "                                                                                                  \n",
            " conv4_block1_0_conv (Conv2  (None, 14, 14, 1024)         525312    ['conv3_block4_out[0][0]']    \n",
            " D)                                                                                               \n",
            "                                                                                                  \n",
            " conv4_block1_3_conv (Conv2  (None, 14, 14, 1024)         263168    ['conv4_block1_2_relu[0][0]'] \n",
            " D)                                                                                               \n",
            "                                                                                                  \n",
            " conv4_block1_0_bn (BatchNo  (None, 14, 14, 1024)         4096      ['conv4_block1_0_conv[0][0]'] \n",
            " rmalization)                                                                                     \n",
            "                                                                                                  \n",
            " conv4_block1_3_bn (BatchNo  (None, 14, 14, 1024)         4096      ['conv4_block1_3_conv[0][0]'] \n",
            " rmalization)                                                                                     \n",
            "                                                                                                  \n",
            " conv4_block1_add (Add)      (None, 14, 14, 1024)         0         ['conv4_block1_0_bn[0][0]',   \n",
            "                                                                     'conv4_block1_3_bn[0][0]']   \n",
            "                                                                                                  \n",
            " conv4_block1_out (Activati  (None, 14, 14, 1024)         0         ['conv4_block1_add[0][0]']    \n",
            " on)                                                                                              \n",
            "                                                                                                  \n",
            " conv4_block2_1_conv (Conv2  (None, 14, 14, 256)          262400    ['conv4_block1_out[0][0]']    \n",
            " D)                                                                                               \n",
            "                                                                                                  \n",
            " conv4_block2_1_bn (BatchNo  (None, 14, 14, 256)          1024      ['conv4_block2_1_conv[0][0]'] \n",
            " rmalization)                                                                                     \n",
            "                                                                                                  \n",
            " conv4_block2_1_relu (Activ  (None, 14, 14, 256)          0         ['conv4_block2_1_bn[0][0]']   \n",
            " ation)                                                                                           \n",
            "                                                                                                  \n",
            " conv4_block2_2_conv (Conv2  (None, 14, 14, 256)          590080    ['conv4_block2_1_relu[0][0]'] \n",
            " D)                                                                                               \n",
            "                                                                                                  \n",
            " conv4_block2_2_bn (BatchNo  (None, 14, 14, 256)          1024      ['conv4_block2_2_conv[0][0]'] \n",
            " rmalization)                                                                                     \n",
            "                                                                                                  \n",
            " conv4_block2_2_relu (Activ  (None, 14, 14, 256)          0         ['conv4_block2_2_bn[0][0]']   \n",
            " ation)                                                                                           \n",
            "                                                                                                  \n",
            " conv4_block2_3_conv (Conv2  (None, 14, 14, 1024)         263168    ['conv4_block2_2_relu[0][0]'] \n",
            " D)                                                                                               \n",
            "                                                                                                  \n",
            " conv4_block2_3_bn (BatchNo  (None, 14, 14, 1024)         4096      ['conv4_block2_3_conv[0][0]'] \n",
            " rmalization)                                                                                     \n",
            "                                                                                                  \n",
            " conv4_block2_add (Add)      (None, 14, 14, 1024)         0         ['conv4_block1_out[0][0]',    \n",
            "                                                                     'conv4_block2_3_bn[0][0]']   \n",
            "                                                                                                  \n",
            " conv4_block2_out (Activati  (None, 14, 14, 1024)         0         ['conv4_block2_add[0][0]']    \n",
            " on)                                                                                              \n",
            "                                                                                                  \n",
            " conv4_block3_1_conv (Conv2  (None, 14, 14, 256)          262400    ['conv4_block2_out[0][0]']    \n",
            " D)                                                                                               \n",
            "                                                                                                  \n",
            " conv4_block3_1_bn (BatchNo  (None, 14, 14, 256)          1024      ['conv4_block3_1_conv[0][0]'] \n",
            " rmalization)                                                                                     \n",
            "                                                                                                  \n",
            " conv4_block3_1_relu (Activ  (None, 14, 14, 256)          0         ['conv4_block3_1_bn[0][0]']   \n",
            " ation)                                                                                           \n",
            "                                                                                                  \n",
            " conv4_block3_2_conv (Conv2  (None, 14, 14, 256)          590080    ['conv4_block3_1_relu[0][0]'] \n",
            " D)                                                                                               \n",
            "                                                                                                  \n",
            " conv4_block3_2_bn (BatchNo  (None, 14, 14, 256)          1024      ['conv4_block3_2_conv[0][0]'] \n",
            " rmalization)                                                                                     \n",
            "                                                                                                  \n",
            " conv4_block3_2_relu (Activ  (None, 14, 14, 256)          0         ['conv4_block3_2_bn[0][0]']   \n",
            " ation)                                                                                           \n",
            "                                                                                                  \n",
            " conv4_block3_3_conv (Conv2  (None, 14, 14, 1024)         263168    ['conv4_block3_2_relu[0][0]'] \n",
            " D)                                                                                               \n",
            "                                                                                                  \n",
            " conv4_block3_3_bn (BatchNo  (None, 14, 14, 1024)         4096      ['conv4_block3_3_conv[0][0]'] \n",
            " rmalization)                                                                                     \n",
            "                                                                                                  \n",
            " conv4_block3_add (Add)      (None, 14, 14, 1024)         0         ['conv4_block2_out[0][0]',    \n",
            "                                                                     'conv4_block3_3_bn[0][0]']   \n",
            "                                                                                                  \n",
            " conv4_block3_out (Activati  (None, 14, 14, 1024)         0         ['conv4_block3_add[0][0]']    \n",
            " on)                                                                                              \n",
            "                                                                                                  \n",
            " conv4_block4_1_conv (Conv2  (None, 14, 14, 256)          262400    ['conv4_block3_out[0][0]']    \n",
            " D)                                                                                               \n",
            "                                                                                                  \n",
            " conv4_block4_1_bn (BatchNo  (None, 14, 14, 256)          1024      ['conv4_block4_1_conv[0][0]'] \n",
            " rmalization)                                                                                     \n",
            "                                                                                                  \n",
            " conv4_block4_1_relu (Activ  (None, 14, 14, 256)          0         ['conv4_block4_1_bn[0][0]']   \n",
            " ation)                                                                                           \n",
            "                                                                                                  \n",
            " conv4_block4_2_conv (Conv2  (None, 14, 14, 256)          590080    ['conv4_block4_1_relu[0][0]'] \n",
            " D)                                                                                               \n",
            "                                                                                                  \n",
            " conv4_block4_2_bn (BatchNo  (None, 14, 14, 256)          1024      ['conv4_block4_2_conv[0][0]'] \n",
            " rmalization)                                                                                     \n",
            "                                                                                                  \n",
            " conv4_block4_2_relu (Activ  (None, 14, 14, 256)          0         ['conv4_block4_2_bn[0][0]']   \n",
            " ation)                                                                                           \n",
            "                                                                                                  \n",
            " conv4_block4_3_conv (Conv2  (None, 14, 14, 1024)         263168    ['conv4_block4_2_relu[0][0]'] \n",
            " D)                                                                                               \n",
            "                                                                                                  \n",
            " conv4_block4_3_bn (BatchNo  (None, 14, 14, 1024)         4096      ['conv4_block4_3_conv[0][0]'] \n",
            " rmalization)                                                                                     \n",
            "                                                                                                  \n",
            " conv4_block4_add (Add)      (None, 14, 14, 1024)         0         ['conv4_block3_out[0][0]',    \n",
            "                                                                     'conv4_block4_3_bn[0][0]']   \n",
            "                                                                                                  \n",
            " conv4_block4_out (Activati  (None, 14, 14, 1024)         0         ['conv4_block4_add[0][0]']    \n",
            " on)                                                                                              \n",
            "                                                                                                  \n",
            " conv4_block5_1_conv (Conv2  (None, 14, 14, 256)          262400    ['conv4_block4_out[0][0]']    \n",
            " D)                                                                                               \n",
            "                                                                                                  \n",
            " conv4_block5_1_bn (BatchNo  (None, 14, 14, 256)          1024      ['conv4_block5_1_conv[0][0]'] \n",
            " rmalization)                                                                                     \n",
            "                                                                                                  \n",
            " conv4_block5_1_relu (Activ  (None, 14, 14, 256)          0         ['conv4_block5_1_bn[0][0]']   \n",
            " ation)                                                                                           \n",
            "                                                                                                  \n",
            " conv4_block5_2_conv (Conv2  (None, 14, 14, 256)          590080    ['conv4_block5_1_relu[0][0]'] \n",
            " D)                                                                                               \n",
            "                                                                                                  \n",
            " conv4_block5_2_bn (BatchNo  (None, 14, 14, 256)          1024      ['conv4_block5_2_conv[0][0]'] \n",
            " rmalization)                                                                                     \n",
            "                                                                                                  \n",
            " conv4_block5_2_relu (Activ  (None, 14, 14, 256)          0         ['conv4_block5_2_bn[0][0]']   \n",
            " ation)                                                                                           \n",
            "                                                                                                  \n",
            " conv4_block5_3_conv (Conv2  (None, 14, 14, 1024)         263168    ['conv4_block5_2_relu[0][0]'] \n",
            " D)                                                                                               \n",
            "                                                                                                  \n",
            " conv4_block5_3_bn (BatchNo  (None, 14, 14, 1024)         4096      ['conv4_block5_3_conv[0][0]'] \n",
            " rmalization)                                                                                     \n",
            "                                                                                                  \n",
            " conv4_block5_add (Add)      (None, 14, 14, 1024)         0         ['conv4_block4_out[0][0]',    \n",
            "                                                                     'conv4_block5_3_bn[0][0]']   \n",
            "                                                                                                  \n",
            " conv4_block5_out (Activati  (None, 14, 14, 1024)         0         ['conv4_block5_add[0][0]']    \n",
            " on)                                                                                              \n",
            "                                                                                                  \n",
            " conv4_block6_1_conv (Conv2  (None, 14, 14, 256)          262400    ['conv4_block5_out[0][0]']    \n",
            " D)                                                                                               \n",
            "                                                                                                  \n",
            " conv4_block6_1_bn (BatchNo  (None, 14, 14, 256)          1024      ['conv4_block6_1_conv[0][0]'] \n",
            " rmalization)                                                                                     \n",
            "                                                                                                  \n",
            " conv4_block6_1_relu (Activ  (None, 14, 14, 256)          0         ['conv4_block6_1_bn[0][0]']   \n",
            " ation)                                                                                           \n",
            "                                                                                                  \n",
            " conv4_block6_2_conv (Conv2  (None, 14, 14, 256)          590080    ['conv4_block6_1_relu[0][0]'] \n",
            " D)                                                                                               \n",
            "                                                                                                  \n",
            " conv4_block6_2_bn (BatchNo  (None, 14, 14, 256)          1024      ['conv4_block6_2_conv[0][0]'] \n",
            " rmalization)                                                                                     \n",
            "                                                                                                  \n",
            " conv4_block6_2_relu (Activ  (None, 14, 14, 256)          0         ['conv4_block6_2_bn[0][0]']   \n",
            " ation)                                                                                           \n",
            "                                                                                                  \n",
            " conv4_block6_3_conv (Conv2  (None, 14, 14, 1024)         263168    ['conv4_block6_2_relu[0][0]'] \n",
            " D)                                                                                               \n",
            "                                                                                                  \n",
            " conv4_block6_3_bn (BatchNo  (None, 14, 14, 1024)         4096      ['conv4_block6_3_conv[0][0]'] \n",
            " rmalization)                                                                                     \n",
            "                                                                                                  \n",
            " conv4_block6_add (Add)      (None, 14, 14, 1024)         0         ['conv4_block5_out[0][0]',    \n",
            "                                                                     'conv4_block6_3_bn[0][0]']   \n",
            "                                                                                                  \n",
            " conv4_block6_out (Activati  (None, 14, 14, 1024)         0         ['conv4_block6_add[0][0]']    \n",
            " on)                                                                                              \n",
            "                                                                                                  \n",
            " conv5_block1_1_conv (Conv2  (None, 7, 7, 512)            524800    ['conv4_block6_out[0][0]']    \n",
            " D)                                                                                               \n",
            "                                                                                                  \n",
            " conv5_block1_1_bn (BatchNo  (None, 7, 7, 512)            2048      ['conv5_block1_1_conv[0][0]'] \n",
            " rmalization)                                                                                     \n",
            "                                                                                                  \n",
            " conv5_block1_1_relu (Activ  (None, 7, 7, 512)            0         ['conv5_block1_1_bn[0][0]']   \n",
            " ation)                                                                                           \n",
            "                                                                                                  \n",
            " conv5_block1_2_conv (Conv2  (None, 7, 7, 512)            2359808   ['conv5_block1_1_relu[0][0]'] \n",
            " D)                                                                                               \n",
            "                                                                                                  \n",
            " conv5_block1_2_bn (BatchNo  (None, 7, 7, 512)            2048      ['conv5_block1_2_conv[0][0]'] \n",
            " rmalization)                                                                                     \n",
            "                                                                                                  \n",
            " conv5_block1_2_relu (Activ  (None, 7, 7, 512)            0         ['conv5_block1_2_bn[0][0]']   \n",
            " ation)                                                                                           \n",
            "                                                                                                  \n",
            " conv5_block1_0_conv (Conv2  (None, 7, 7, 2048)           2099200   ['conv4_block6_out[0][0]']    \n",
            " D)                                                                                               \n",
            "                                                                                                  \n",
            " conv5_block1_3_conv (Conv2  (None, 7, 7, 2048)           1050624   ['conv5_block1_2_relu[0][0]'] \n",
            " D)                                                                                               \n",
            "                                                                                                  \n",
            " conv5_block1_0_bn (BatchNo  (None, 7, 7, 2048)           8192      ['conv5_block1_0_conv[0][0]'] \n",
            " rmalization)                                                                                     \n",
            "                                                                                                  \n",
            " conv5_block1_3_bn (BatchNo  (None, 7, 7, 2048)           8192      ['conv5_block1_3_conv[0][0]'] \n",
            " rmalization)                                                                                     \n",
            "                                                                                                  \n",
            " conv5_block1_add (Add)      (None, 7, 7, 2048)           0         ['conv5_block1_0_bn[0][0]',   \n",
            "                                                                     'conv5_block1_3_bn[0][0]']   \n",
            "                                                                                                  \n",
            " conv5_block1_out (Activati  (None, 7, 7, 2048)           0         ['conv5_block1_add[0][0]']    \n",
            " on)                                                                                              \n",
            "                                                                                                  \n",
            " conv5_block2_1_conv (Conv2  (None, 7, 7, 512)            1049088   ['conv5_block1_out[0][0]']    \n",
            " D)                                                                                               \n",
            "                                                                                                  \n",
            " conv5_block2_1_bn (BatchNo  (None, 7, 7, 512)            2048      ['conv5_block2_1_conv[0][0]'] \n",
            " rmalization)                                                                                     \n",
            "                                                                                                  \n",
            " conv5_block2_1_relu (Activ  (None, 7, 7, 512)            0         ['conv5_block2_1_bn[0][0]']   \n",
            " ation)                                                                                           \n",
            "                                                                                                  \n",
            " conv5_block2_2_conv (Conv2  (None, 7, 7, 512)            2359808   ['conv5_block2_1_relu[0][0]'] \n",
            " D)                                                                                               \n",
            "                                                                                                  \n",
            " conv5_block2_2_bn (BatchNo  (None, 7, 7, 512)            2048      ['conv5_block2_2_conv[0][0]'] \n",
            " rmalization)                                                                                     \n",
            "                                                                                                  \n",
            " conv5_block2_2_relu (Activ  (None, 7, 7, 512)            0         ['conv5_block2_2_bn[0][0]']   \n",
            " ation)                                                                                           \n",
            "                                                                                                  \n",
            " conv5_block2_3_conv (Conv2  (None, 7, 7, 2048)           1050624   ['conv5_block2_2_relu[0][0]'] \n",
            " D)                                                                                               \n",
            "                                                                                                  \n",
            " conv5_block2_3_bn (BatchNo  (None, 7, 7, 2048)           8192      ['conv5_block2_3_conv[0][0]'] \n",
            " rmalization)                                                                                     \n",
            "                                                                                                  \n",
            " conv5_block2_add (Add)      (None, 7, 7, 2048)           0         ['conv5_block1_out[0][0]',    \n",
            "                                                                     'conv5_block2_3_bn[0][0]']   \n",
            "                                                                                                  \n",
            " conv5_block2_out (Activati  (None, 7, 7, 2048)           0         ['conv5_block2_add[0][0]']    \n",
            " on)                                                                                              \n",
            "                                                                                                  \n",
            " global_average_pooling2d_1  (None, 2048)                 0         ['conv5_block2_out[0][0]']    \n",
            " 0 (GlobalAveragePooling2D)                                                                       \n",
            "                                                                                                  \n",
            "==================================================================================================\n",
            "Total params: 19115904 (72.92 MB)\n",
            "Trainable params: 19068928 (72.74 MB)\n",
            "Non-trainable params: 46976 (183.50 KB)\n",
            "__________________________________________________________________________________________________\n"
          ]
        }
      ],
      "source": [
        "#See all the layers of a model\n",
        "updated_model.summary()"
      ]
    },
    {
      "cell_type": "code",
      "execution_count": 76,
      "metadata": {
        "colab": {
          "base_uri": "https://localhost:8080/"
        },
        "id": "u0xEhFrtpqEE",
        "outputId": "1b038348-9794-4ad5-8e36-de7eca366321"
      },
      "outputs": [
        {
          "output_type": "stream",
          "name": "stdout",
          "text": [
            "The model has 166 layers.\n"
          ]
        }
      ],
      "source": [
        "num_layers = len(updated_model.layers)\n",
        "print(f'The model has {num_layers} layers.')"
      ]
    },
    {
      "cell_type": "markdown",
      "metadata": {
        "id": "GzDk5cZJ4szS"
      },
      "source": [
        "**DATA Pre-Processing**"
      ]
    },
    {
      "cell_type": "code",
      "execution_count": 33,
      "metadata": {
        "id": "s0Eq3bpU0hLE"
      },
      "outputs": [],
      "source": [
        "\n",
        "Normal = []\n",
        "for filename in glob. glob('/content/drive/MyDrive/DataSet_CBIS-DDSM/Mass_Train_Set/BENIGN_WITHOUT_CALLBACK/*.jpg'):\n",
        "  n= cv2.imread(filename)\n",
        "  img=np.array(n)\n",
        "  n1 = cv2.resize(img , IMG_SIZE)\n",
        "  Normal. append(n1)\n",
        "  n= tf.image.flip_up_down(n1)\n",
        "  Normal. append(n)\n",
        "  n= tf.image.flip_left_right(n1)\n",
        "  Normal. append(n)\n",
        "  n= tf.image.adjust_brightness(n1, delta=0.2)\n",
        "  Normal. append(n)\n",
        "  n= tf.image.adjust_contrast (n1, 2.25 )\n",
        "  Normal. append(n)\n",
        "  n= tf.image.rot90 (n1, k=1 )\n",
        "  Normal.append(n)\n",
        "  n = tf.image.rot90 (n1, k=2 )\n",
        "  Normal.append(n)\n",
        "  n= tf.image.rot90 (n1, k=3 )\n",
        "  Normal.append(n)\n",
        "Normal=np.array(Normal)\n"
      ]
    },
    {
      "cell_type": "code",
      "execution_count": 34,
      "metadata": {
        "id": "pzPy5-NUlt4y"
      },
      "outputs": [],
      "source": [
        "Benign = []\n",
        "for filename in glob. glob('/content/drive/MyDrive/DataSet_CBIS-DDSM/Mass_Train_Set/BENIGN/*.jpg'):\n",
        "  n= cv2.imread(filename)\n",
        "  img=np.array(n)\n",
        "  n2 = cv2.resize(img , IMG_SIZE)\n",
        "  Benign. append(n2)\n",
        "  n= tf.image.flip_up_down(n2)\n",
        "  Benign. append(n)\n",
        "  n= tf.image.flip_left_right(n2)\n",
        "  Benign. append(n)\n",
        "  n= tf.image.adjust_brightness(n2, delta=0.2)\n",
        "  Benign. append(n)\n",
        "\"\"\"  n= tf.image.adjust_contrast (n2, 2.25 )\n",
        "  Benign. append(n)\n",
        "  n= tf.image.rot90 (n2, k=1 )\n",
        "  Benign.append(n)\n",
        "  n = tf.image.rot90 (n2, k=2 )\n",
        "  Benign.append(n)\n",
        "  n= tf.image.rot90 (n2, k=3 )\n",
        "  Benign.append(n)\"\"\"\n",
        "Benign=np.array(Benign)"
      ]
    },
    {
      "cell_type": "code",
      "execution_count": 35,
      "metadata": {
        "id": "kZdO9wgyK9mX"
      },
      "outputs": [],
      "source": [
        "Malignant = []\n",
        "for filename in glob. glob('/content/drive/MyDrive/DataSet_CBIS-DDSM/Mass_Train_Set/MALIGNANT/*.jpg'):\n",
        "  n= cv2.imread(filename)\n",
        "  img=np.array(n)\n",
        "  n3 = cv2.resize(img , IMG_SIZE)\n",
        "  Malignant. append(n3)\n",
        "  n= tf.image.flip_up_down(n3)\n",
        "  Malignant. append(n)\n",
        "  n= tf.image.flip_left_right(n3)\n",
        "  Malignant. append(n)\n",
        "  n= tf.image.adjust_brightness(n3, delta=0.2)\n",
        "  Malignant. append(n)\n",
        "\"\"\"  n= tf.image.adjust_contrast (n3, 2.25 )\n",
        "  Malignant. append(n)\n",
        "  n= tf.image.rot90 (n3, k=1 )\n",
        "  Malignant.append(n)\n",
        "  n = tf.image.rot90 (n3, k=2 )\n",
        "  Malignant.append(n)\n",
        "  n= tf.image.rot90 (n3, k=3 )\n",
        "  Malignant.append(n) \"\"\"\n",
        "Malignant=np.array(Malignant)"
      ]
    },
    {
      "cell_type": "code",
      "execution_count": 36,
      "metadata": {
        "colab": {
          "base_uri": "https://localhost:8080/"
        },
        "id": "CLBoByBoQRHr",
        "outputId": "80d54b2d-3a6c-4871-ae27-8ad0981ab47f"
      },
      "outputs": [
        {
          "output_type": "stream",
          "name": "stdout",
          "text": [
            "664\n",
            "2196\n",
            "2388\n"
          ]
        }
      ],
      "source": [
        "print (len(Normal))\n",
        "print( len(Benign) )\n",
        "print( len(Malignant))"
      ]
    },
    {
      "cell_type": "markdown",
      "metadata": {
        "id": "__FAdJuuULT5"
      },
      "source": [
        "**Training Features Extraction of ResNet50**"
      ]
    },
    {
      "cell_type": "code",
      "execution_count": 79,
      "metadata": {
        "colab": {
          "base_uri": "https://localhost:8080/"
        },
        "id": "9mtOdBUDUTMu",
        "outputId": "f3056890-41c2-409f-cfb1-d96fe92b02b4"
      },
      "outputs": [
        {
          "output_type": "stream",
          "name": "stdout",
          "text": [
            "21/21 [==============================] - 118s 6s/step\n"
          ]
        }
      ],
      "source": [
        "Normal_features_1 = updated_model.predict(Normal, verbose= True)\n"
      ]
    },
    {
      "cell_type": "code",
      "execution_count": 80,
      "metadata": {
        "colab": {
          "base_uri": "https://localhost:8080/"
        },
        "id": "WbpsmygwLmB7",
        "outputId": "606437b5-dfc1-4444-e13a-1c67319e8320"
      },
      "outputs": [
        {
          "output_type": "stream",
          "name": "stdout",
          "text": [
            "69/69 [==============================] - 391s 6s/step\n"
          ]
        }
      ],
      "source": [
        "Benign_features_1 = updated_model.predict(Benign, verbose= True)\n"
      ]
    },
    {
      "cell_type": "code",
      "execution_count": 81,
      "metadata": {
        "colab": {
          "base_uri": "https://localhost:8080/"
        },
        "id": "YTqeJq1fLoKo",
        "outputId": "6ded7e52-a811-4861-b5b6-c3b58a951934"
      },
      "outputs": [
        {
          "output_type": "stream",
          "name": "stdout",
          "text": [
            "75/75 [==============================] - 429s 6s/step\n"
          ]
        }
      ],
      "source": [
        "Malignant_features_1 = updated_model.predict(Malignant, verbose= True)"
      ]
    },
    {
      "cell_type": "code",
      "execution_count": 40,
      "metadata": {
        "colab": {
          "base_uri": "https://localhost:8080/"
        },
        "id": "-8YrlE7VVDfx",
        "outputId": "d697a8c8-d7c9-4bec-ebdc-faff2ac06fbe"
      },
      "outputs": [
        {
          "output_type": "stream",
          "name": "stdout",
          "text": [
            "(2196, 2048)\n"
          ]
        }
      ],
      "source": [
        "print(Benign_features_1.shape)"
      ]
    },
    {
      "cell_type": "code",
      "execution_count": null,
      "metadata": {
        "colab": {
          "base_uri": "https://localhost:8080/"
        },
        "id": "qCVB9LAc73W2",
        "outputId": "f35a0f2f-1e13-4f90-e50e-115d4e99afa7"
      },
      "outputs": [
        {
          "name": "stdout",
          "output_type": "stream",
          "text": [
            "[0.         0.         0.00595283 ... 1.8342158  0.         0.        ]\n"
          ]
        }
      ],
      "source": [
        "print(Normal_features_1[2])"
      ]
    },
    {
      "cell_type": "code",
      "execution_count": 82,
      "metadata": {
        "id": "BPOCzLZwRzxO"
      },
      "outputs": [],
      "source": [
        "Training_features_ResNet50= np.concatenate((Normal_features_1, Benign_features_1, Malignant_features_1))"
      ]
    },
    {
      "cell_type": "code",
      "execution_count": null,
      "metadata": {
        "colab": {
          "base_uri": "https://localhost:8080/"
        },
        "id": "YpHHJEYASLtS",
        "outputId": "062ac336-fbb2-492f-c809-5174a764dab4"
      },
      "outputs": [
        {
          "output_type": "stream",
          "name": "stdout",
          "text": [
            "(5248, 2048)\n"
          ]
        }
      ],
      "source": [
        "print(Training_features_ResNet50.shape)"
      ]
    },
    {
      "cell_type": "markdown",
      "metadata": {
        "id": "fHcFJLcIzKP6"
      },
      "source": [
        "**Data Labels**"
      ]
    },
    {
      "cell_type": "code",
      "execution_count": 83,
      "metadata": {
        "id": "wLBcixzk05w5"
      },
      "outputs": [],
      "source": [
        "labels_Normal= np.zeros((664,1))\n",
        "labels_Benign= np.ones((2196,1))\n",
        "labels_Malignant= np.zeros((2388,1))\n",
        "\n",
        "labels_Malignant[:, 0] = 2"
      ]
    },
    {
      "cell_type": "code",
      "execution_count": 84,
      "metadata": {
        "id": "5ppmA-8Z095A"
      },
      "outputs": [],
      "source": [
        "concatenated_labels= np.concatenate((labels_Normal, labels_Benign, labels_Malignant))"
      ]
    },
    {
      "cell_type": "code",
      "execution_count": 85,
      "metadata": {
        "id": "dctIyAlA1GvE"
      },
      "outputs": [],
      "source": [
        "from sklearn.preprocessing import OneHotEncoder\n",
        "ohe = OneHotEncoder()\n",
        "y_train1 = ohe.fit_transform(concatenated_labels).toarray()"
      ]
    },
    {
      "cell_type": "markdown",
      "metadata": {
        "id": "_DOZhz9jH4Q-"
      },
      "source": [
        "**Train, Test Split Sklearn**"
      ]
    },
    {
      "cell_type": "code",
      "execution_count": 86,
      "metadata": {
        "id": "pTVZluvIH-I7"
      },
      "outputs": [],
      "source": [
        "X_train, X_test, y_train, y_test = train_test_split (Training_features_ResNet50,y_train1 ,\n",
        "                                   random_state=0 ,\n",
        "                                   test_size=0.20,\n",
        "                                   shuffle=True )\n",
        "#increase test size to 0.4 and check the results\n",
        "#increase datasize by merging train and test dataset."
      ]
    },
    {
      "cell_type": "markdown",
      "metadata": {
        "id": "OhrvX8_J0SMt"
      },
      "source": [
        "**Classifier Compilation...........FC Layer**"
      ]
    },
    {
      "cell_type": "code",
      "execution_count": 88,
      "metadata": {
        "id": "ru37XcME1K71"
      },
      "outputs": [],
      "source": [
        "model = Sequential()\n",
        "#model.add(Flatten())\n",
        "#model.add(Dropout(0.2, input_shape=(2048,)))\n",
        "model.add(Dense(1024, input_shape=(2048,), activation='relu'))\n",
        "model.add(Dense(512, activation='relu'))\n",
        "model.add(Dense(256, activation='relu'))\n",
        "#model.add(Dropout(0.2))\n",
        "#model.add(Dense(256, activation='relu'))\n",
        "model.add(Dense(3, activation='softmax'))\n",
        "\n",
        "model.compile(optimizer = RMSprop(learning_rate=0.0001),\n",
        "              loss = 'categorical_crossentropy',\n",
        "              metrics = ['accuracy'])"
      ]
    },
    {
      "cell_type": "code",
      "execution_count": 89,
      "metadata": {
        "id": "imZsoApUAXxz"
      },
      "outputs": [],
      "source": [
        "# Implement callback function to stop training\n",
        "# when accuracy reaches e.g. ACCURACY_THRESHOLD = 0.95\n",
        "\n",
        "ACCURACY_THRESHOLD= 0.95\n",
        "\n",
        "class myCallback(tf.keras.callbacks.Callback):\n",
        "    def on_epoch_end(self, epoch, logs={}):\n",
        "        if(logs.get('val_accuracy') > ACCURACY_THRESHOLD):\n",
        "          print(\"\\nReached %2.2f%% accuracy, so stopping training!!\" %(ACCURACY_THRESHOLD*100))\n",
        "          self.model.stop_training = True"
      ]
    },
    {
      "cell_type": "code",
      "execution_count": 68,
      "metadata": {
        "id": "ArI7RvUCA2Q8"
      },
      "outputs": [],
      "source": [
        "callbacks = myCallback()"
      ]
    },
    {
      "cell_type": "markdown",
      "metadata": {
        "id": "04L1Jns-YS6a"
      },
      "source": [
        "**Training on features extracted by ResNet50**"
      ]
    },
    {
      "cell_type": "code",
      "execution_count": 90,
      "metadata": {
        "colab": {
          "base_uri": "https://localhost:8080/"
        },
        "id": "L-pXcFrzYSBS",
        "outputId": "867fb4c9-3112-4b2c-d53f-3a88cb5b1cc2"
      },
      "outputs": [
        {
          "output_type": "stream",
          "name": "stdout",
          "text": [
            "Epoch 1/400\n",
            "132/132 [==============================] - 8s 51ms/step - loss: 0.8481 - accuracy: 0.5545 - val_loss: 0.7411 - val_accuracy: 0.5962\n",
            "Epoch 2/400\n",
            "132/132 [==============================] - 6s 45ms/step - loss: 0.7286 - accuracy: 0.6358 - val_loss: 0.9692 - val_accuracy: 0.4838\n",
            "Epoch 3/400\n",
            "132/132 [==============================] - 5s 38ms/step - loss: 0.6547 - accuracy: 0.6837 - val_loss: 0.8189 - val_accuracy: 0.5724\n",
            "Epoch 4/400\n",
            "132/132 [==============================] - 5s 36ms/step - loss: 0.6014 - accuracy: 0.7158 - val_loss: 0.9482 - val_accuracy: 0.5162\n",
            "Epoch 5/400\n",
            "132/132 [==============================] - 6s 45ms/step - loss: 0.5445 - accuracy: 0.7515 - val_loss: 0.5788 - val_accuracy: 0.7048\n",
            "Epoch 6/400\n",
            "132/132 [==============================] - 5s 36ms/step - loss: 0.5018 - accuracy: 0.7782 - val_loss: 0.5838 - val_accuracy: 0.6962\n",
            "Epoch 7/400\n",
            "132/132 [==============================] - 5s 39ms/step - loss: 0.4456 - accuracy: 0.8090 - val_loss: 0.9291 - val_accuracy: 0.5686\n",
            "Epoch 8/400\n",
            "132/132 [==============================] - 6s 44ms/step - loss: 0.4129 - accuracy: 0.8259 - val_loss: 0.6575 - val_accuracy: 0.6657\n",
            "Epoch 9/400\n",
            "132/132 [==============================] - 5s 37ms/step - loss: 0.3552 - accuracy: 0.8559 - val_loss: 0.5775 - val_accuracy: 0.7219\n",
            "Epoch 10/400\n",
            "132/132 [==============================] - 6s 44ms/step - loss: 0.3197 - accuracy: 0.8668 - val_loss: 0.4379 - val_accuracy: 0.8124\n",
            "Epoch 11/400\n",
            "132/132 [==============================] - 5s 39ms/step - loss: 0.2907 - accuracy: 0.8807 - val_loss: 0.5452 - val_accuracy: 0.7543\n",
            "Epoch 12/400\n",
            "132/132 [==============================] - 5s 40ms/step - loss: 0.2494 - accuracy: 0.9035 - val_loss: 0.5501 - val_accuracy: 0.7562\n",
            "Epoch 13/400\n",
            "132/132 [==============================] - 6s 45ms/step - loss: 0.2157 - accuracy: 0.9185 - val_loss: 0.4125 - val_accuracy: 0.8219\n",
            "Epoch 14/400\n",
            "132/132 [==============================] - 5s 36ms/step - loss: 0.1959 - accuracy: 0.9278 - val_loss: 0.4105 - val_accuracy: 0.8133\n",
            "Epoch 15/400\n",
            "132/132 [==============================] - 5s 39ms/step - loss: 0.1724 - accuracy: 0.9369 - val_loss: 0.4246 - val_accuracy: 0.8210\n",
            "Epoch 16/400\n",
            "132/132 [==============================] - 6s 44ms/step - loss: 0.1495 - accuracy: 0.9450 - val_loss: 0.4163 - val_accuracy: 0.8171\n",
            "Epoch 17/400\n",
            "132/132 [==============================] - 5s 37ms/step - loss: 0.1406 - accuracy: 0.9500 - val_loss: 0.5029 - val_accuracy: 0.8105\n",
            "Epoch 18/400\n",
            "132/132 [==============================] - 6s 44ms/step - loss: 0.1126 - accuracy: 0.9619 - val_loss: 0.4345 - val_accuracy: 0.8248\n",
            "Epoch 19/400\n",
            "132/132 [==============================] - 5s 39ms/step - loss: 0.1138 - accuracy: 0.9643 - val_loss: 0.3738 - val_accuracy: 0.8543\n",
            "Epoch 20/400\n",
            "132/132 [==============================] - 5s 37ms/step - loss: 0.0913 - accuracy: 0.9678 - val_loss: 0.4886 - val_accuracy: 0.8114\n",
            "Epoch 21/400\n",
            "132/132 [==============================] - 6s 45ms/step - loss: 0.0869 - accuracy: 0.9688 - val_loss: 0.3768 - val_accuracy: 0.8590\n",
            "Epoch 22/400\n",
            "132/132 [==============================] - 5s 37ms/step - loss: 0.0772 - accuracy: 0.9750 - val_loss: 0.3146 - val_accuracy: 0.8800\n",
            "Epoch 23/400\n",
            "132/132 [==============================] - 5s 35ms/step - loss: 0.0732 - accuracy: 0.9769 - val_loss: 0.3350 - val_accuracy: 0.8762\n",
            "Epoch 24/400\n",
            "132/132 [==============================] - 6s 46ms/step - loss: 0.0657 - accuracy: 0.9767 - val_loss: 0.5766 - val_accuracy: 0.8010\n",
            "Epoch 25/400\n",
            "132/132 [==============================] - 5s 36ms/step - loss: 0.0501 - accuracy: 0.9862 - val_loss: 0.5569 - val_accuracy: 0.8276\n",
            "Epoch 26/400\n",
            "132/132 [==============================] - 5s 40ms/step - loss: 0.0669 - accuracy: 0.9807 - val_loss: 0.3325 - val_accuracy: 0.8790\n",
            "Epoch 27/400\n",
            "132/132 [==============================] - 6s 43ms/step - loss: 0.0705 - accuracy: 0.9764 - val_loss: 0.3106 - val_accuracy: 0.8800\n",
            "Epoch 28/400\n",
            "132/132 [==============================] - 5s 37ms/step - loss: 0.0517 - accuracy: 0.9831 - val_loss: 0.3497 - val_accuracy: 0.8705\n",
            "Epoch 29/400\n",
            "132/132 [==============================] - 6s 45ms/step - loss: 0.0432 - accuracy: 0.9886 - val_loss: 0.3574 - val_accuracy: 0.8810\n",
            "Epoch 30/400\n",
            "132/132 [==============================] - 5s 38ms/step - loss: 0.0571 - accuracy: 0.9833 - val_loss: 0.3107 - val_accuracy: 0.8895\n",
            "Epoch 31/400\n",
            "132/132 [==============================] - 5s 37ms/step - loss: 0.0505 - accuracy: 0.9890 - val_loss: 0.3239 - val_accuracy: 0.8867\n",
            "Epoch 32/400\n",
            "132/132 [==============================] - 6s 46ms/step - loss: 0.0463 - accuracy: 0.9871 - val_loss: 0.3349 - val_accuracy: 0.8905\n",
            "Epoch 33/400\n",
            "132/132 [==============================] - 5s 37ms/step - loss: 0.0430 - accuracy: 0.9883 - val_loss: 0.3362 - val_accuracy: 0.8952\n",
            "Epoch 34/400\n",
            "132/132 [==============================] - 5s 38ms/step - loss: 0.0444 - accuracy: 0.9876 - val_loss: 0.3644 - val_accuracy: 0.8733\n",
            "Epoch 35/400\n",
            "132/132 [==============================] - 6s 45ms/step - loss: 0.0461 - accuracy: 0.9881 - val_loss: 0.3290 - val_accuracy: 0.8943\n",
            "Epoch 36/400\n",
            "132/132 [==============================] - 5s 37ms/step - loss: 0.0369 - accuracy: 0.9921 - val_loss: 0.3305 - val_accuracy: 0.8952\n",
            "Epoch 37/400\n",
            "132/132 [==============================] - 6s 44ms/step - loss: 0.0157 - accuracy: 0.9955 - val_loss: 0.3441 - val_accuracy: 0.9000\n",
            "Epoch 38/400\n",
            "132/132 [==============================] - 5s 40ms/step - loss: 0.0524 - accuracy: 0.9883 - val_loss: 0.3282 - val_accuracy: 0.8981\n",
            "Epoch 39/400\n",
            "132/132 [==============================] - 5s 37ms/step - loss: 0.0522 - accuracy: 0.9874 - val_loss: 0.3658 - val_accuracy: 0.8848\n",
            "Epoch 40/400\n",
            "132/132 [==============================] - 6s 42ms/step - loss: 0.0314 - accuracy: 0.9926 - val_loss: 0.3294 - val_accuracy: 0.8981\n",
            "Epoch 41/400\n",
            "132/132 [==============================] - 5s 36ms/step - loss: 0.0308 - accuracy: 0.9919 - val_loss: 0.3317 - val_accuracy: 0.8981\n",
            "Epoch 42/400\n",
            "132/132 [==============================] - 7s 54ms/step - loss: 0.0230 - accuracy: 0.9945 - val_loss: 0.3370 - val_accuracy: 0.9048\n",
            "Epoch 43/400\n",
            "132/132 [==============================] - 7s 52ms/step - loss: 0.0248 - accuracy: 0.9943 - val_loss: 0.4185 - val_accuracy: 0.8838\n",
            "Epoch 44/400\n",
            "132/132 [==============================] - 5s 35ms/step - loss: 0.0342 - accuracy: 0.9912 - val_loss: 0.3533 - val_accuracy: 0.8990\n",
            "Epoch 45/400\n",
            "132/132 [==============================] - 5s 38ms/step - loss: 0.0117 - accuracy: 0.9964 - val_loss: 0.3621 - val_accuracy: 0.9010\n",
            "Epoch 46/400\n",
            "132/132 [==============================] - 5s 40ms/step - loss: 0.0264 - accuracy: 0.9945 - val_loss: 0.4110 - val_accuracy: 0.8933\n",
            "Epoch 47/400\n",
            "132/132 [==============================] - 5s 35ms/step - loss: 0.0433 - accuracy: 0.9938 - val_loss: 0.3645 - val_accuracy: 0.9029\n",
            "Epoch 48/400\n",
            "132/132 [==============================] - 5s 41ms/step - loss: 0.0181 - accuracy: 0.9960 - val_loss: 0.3699 - val_accuracy: 0.9086\n",
            "Epoch 49/400\n",
            "132/132 [==============================] - 5s 37ms/step - loss: 0.0247 - accuracy: 0.9931 - val_loss: 0.3624 - val_accuracy: 0.9067\n",
            "Epoch 50/400\n",
            "132/132 [==============================] - 5s 34ms/step - loss: 0.0177 - accuracy: 0.9957 - val_loss: 0.4738 - val_accuracy: 0.8838\n",
            "Epoch 51/400\n",
            "132/132 [==============================] - 6s 42ms/step - loss: 0.0511 - accuracy: 0.9895 - val_loss: 0.3613 - val_accuracy: 0.9010\n",
            "Epoch 52/400\n",
            "132/132 [==============================] - 5s 39ms/step - loss: 4.2259e-04 - accuracy: 1.0000 - val_loss: 0.3660 - val_accuracy: 0.9095\n",
            "Epoch 53/400\n",
            "132/132 [==============================] - 4s 34ms/step - loss: 0.0274 - accuracy: 0.9943 - val_loss: 0.3601 - val_accuracy: 0.9038\n",
            "Epoch 54/400\n",
            "132/132 [==============================] - 6s 44ms/step - loss: 0.0100 - accuracy: 0.9969 - val_loss: 0.4106 - val_accuracy: 0.8981\n",
            "Epoch 55/400\n",
            "132/132 [==============================] - 4s 33ms/step - loss: 0.0248 - accuracy: 0.9950 - val_loss: 0.3668 - val_accuracy: 0.9010\n",
            "Epoch 56/400\n",
            "132/132 [==============================] - 4s 34ms/step - loss: 0.0260 - accuracy: 0.9931 - val_loss: 0.3834 - val_accuracy: 0.9019\n",
            "Epoch 57/400\n",
            "132/132 [==============================] - 6s 44ms/step - loss: 0.0180 - accuracy: 0.9971 - val_loss: 0.3827 - val_accuracy: 0.9010\n",
            "Epoch 58/400\n",
            "132/132 [==============================] - 4s 34ms/step - loss: 1.8622e-04 - accuracy: 1.0000 - val_loss: 0.3864 - val_accuracy: 0.9057\n",
            "Epoch 59/400\n",
            "132/132 [==============================] - 5s 36ms/step - loss: 6.4987e-05 - accuracy: 1.0000 - val_loss: 0.3836 - val_accuracy: 0.9105\n",
            "Epoch 60/400\n",
            "132/132 [==============================] - 6s 43ms/step - loss: 4.6603e-05 - accuracy: 1.0000 - val_loss: 0.4072 - val_accuracy: 0.9057\n",
            "Epoch 61/400\n",
            "132/132 [==============================] - 6s 46ms/step - loss: 3.8799e-05 - accuracy: 1.0000 - val_loss: 0.3940 - val_accuracy: 0.9048\n",
            "Epoch 62/400\n",
            "132/132 [==============================] - 6s 43ms/step - loss: 3.3213e-05 - accuracy: 1.0000 - val_loss: 0.3951 - val_accuracy: 0.9038\n",
            "Epoch 63/400\n",
            "132/132 [==============================] - 5s 37ms/step - loss: 2.9786e-05 - accuracy: 1.0000 - val_loss: 0.4007 - val_accuracy: 0.9010\n",
            "Epoch 64/400\n",
            "132/132 [==============================] - 4s 34ms/step - loss: 2.7123e-05 - accuracy: 1.0000 - val_loss: 0.4031 - val_accuracy: 0.9019\n",
            "Epoch 65/400\n",
            "132/132 [==============================] - 5s 38ms/step - loss: 2.5168e-05 - accuracy: 1.0000 - val_loss: 0.4035 - val_accuracy: 0.9038\n",
            "Epoch 66/400\n",
            "132/132 [==============================] - 5s 37ms/step - loss: 2.3259e-05 - accuracy: 1.0000 - val_loss: 0.4093 - val_accuracy: 0.9010\n",
            "Epoch 67/400\n",
            "132/132 [==============================] - 4s 33ms/step - loss: 2.1854e-05 - accuracy: 1.0000 - val_loss: 0.4077 - val_accuracy: 0.9010\n",
            "Epoch 68/400\n",
            "132/132 [==============================] - 5s 39ms/step - loss: 2.0620e-05 - accuracy: 1.0000 - val_loss: 0.4104 - val_accuracy: 0.9010\n",
            "Epoch 69/400\n",
            "132/132 [==============================] - 5s 38ms/step - loss: 1.9603e-05 - accuracy: 1.0000 - val_loss: 0.4153 - val_accuracy: 0.9095\n",
            "Epoch 70/400\n",
            "132/132 [==============================] - 4s 33ms/step - loss: 1.8746e-05 - accuracy: 1.0000 - val_loss: 0.4123 - val_accuracy: 0.9029\n",
            "Epoch 71/400\n",
            "132/132 [==============================] - 5s 39ms/step - loss: 1.7822e-05 - accuracy: 1.0000 - val_loss: 0.4139 - val_accuracy: 0.9000\n",
            "Epoch 72/400\n",
            "132/132 [==============================] - 5s 37ms/step - loss: 1.6856e-05 - accuracy: 1.0000 - val_loss: 0.4174 - val_accuracy: 0.9029\n",
            "Epoch 73/400\n",
            "132/132 [==============================] - 4s 34ms/step - loss: 1.6216e-05 - accuracy: 1.0000 - val_loss: 0.4198 - val_accuracy: 0.9010\n",
            "Epoch 74/400\n",
            "132/132 [==============================] - 5s 38ms/step - loss: 1.5695e-05 - accuracy: 1.0000 - val_loss: 0.4209 - val_accuracy: 0.9038\n",
            "Epoch 75/400\n",
            "132/132 [==============================] - 5s 38ms/step - loss: 1.5094e-05 - accuracy: 1.0000 - val_loss: 0.4208 - val_accuracy: 0.8990\n",
            "Epoch 76/400\n",
            "132/132 [==============================] - 4s 33ms/step - loss: 1.4594e-05 - accuracy: 1.0000 - val_loss: 0.4208 - val_accuracy: 0.9000\n",
            "Epoch 77/400\n",
            "132/132 [==============================] - 6s 43ms/step - loss: 1.4096e-05 - accuracy: 1.0000 - val_loss: 0.4221 - val_accuracy: 0.9010\n",
            "Epoch 78/400\n",
            "132/132 [==============================] - 5s 35ms/step - loss: 1.3680e-05 - accuracy: 1.0000 - val_loss: 0.4227 - val_accuracy: 0.9000\n",
            "Epoch 79/400\n",
            "132/132 [==============================] - 4s 34ms/step - loss: 1.3092e-05 - accuracy: 1.0000 - val_loss: 0.4232 - val_accuracy: 0.9019\n",
            "Epoch 80/400\n",
            "132/132 [==============================] - 5s 41ms/step - loss: 1.2774e-05 - accuracy: 1.0000 - val_loss: 0.4265 - val_accuracy: 0.9029\n",
            "Epoch 81/400\n",
            "132/132 [==============================] - 5s 34ms/step - loss: 1.2441e-05 - accuracy: 1.0000 - val_loss: 0.4242 - val_accuracy: 0.9029\n",
            "Epoch 82/400\n",
            "132/132 [==============================] - 5s 35ms/step - loss: 1.2137e-05 - accuracy: 1.0000 - val_loss: 0.4265 - val_accuracy: 0.9010\n",
            "Epoch 83/400\n",
            "132/132 [==============================] - 5s 41ms/step - loss: 1.1801e-05 - accuracy: 1.0000 - val_loss: 0.4277 - val_accuracy: 0.8990\n",
            "Epoch 84/400\n",
            "132/132 [==============================] - 5s 36ms/step - loss: 1.1507e-05 - accuracy: 1.0000 - val_loss: 0.4289 - val_accuracy: 0.8990\n",
            "Epoch 85/400\n",
            "132/132 [==============================] - 4s 33ms/step - loss: 1.1173e-05 - accuracy: 1.0000 - val_loss: 0.4289 - val_accuracy: 0.9000\n",
            "Epoch 86/400\n",
            "132/132 [==============================] - 5s 40ms/step - loss: 1.0932e-05 - accuracy: 1.0000 - val_loss: 0.4299 - val_accuracy: 0.9029\n",
            "Epoch 87/400\n",
            "132/132 [==============================] - 5s 35ms/step - loss: 1.0711e-05 - accuracy: 1.0000 - val_loss: 0.4307 - val_accuracy: 0.9010\n",
            "Epoch 88/400\n",
            "132/132 [==============================] - 4s 33ms/step - loss: 1.0424e-05 - accuracy: 1.0000 - val_loss: 0.4326 - val_accuracy: 0.9010\n",
            "Epoch 89/400\n",
            "132/132 [==============================] - 5s 41ms/step - loss: 1.0189e-05 - accuracy: 1.0000 - val_loss: 0.4317 - val_accuracy: 0.9019\n",
            "Epoch 90/400\n",
            "132/132 [==============================] - 5s 34ms/step - loss: 9.9844e-06 - accuracy: 1.0000 - val_loss: 0.4325 - val_accuracy: 0.9019\n",
            "Epoch 91/400\n",
            "132/132 [==============================] - 5s 38ms/step - loss: 9.7701e-06 - accuracy: 1.0000 - val_loss: 0.4322 - val_accuracy: 0.9010\n",
            "Epoch 92/400\n",
            "132/132 [==============================] - 6s 46ms/step - loss: 9.5511e-06 - accuracy: 1.0000 - val_loss: 0.4343 - val_accuracy: 0.8990\n",
            "Epoch 93/400\n",
            "132/132 [==============================] - 5s 37ms/step - loss: 9.3735e-06 - accuracy: 1.0000 - val_loss: 0.4350 - val_accuracy: 0.9000\n",
            "Epoch 94/400\n",
            "132/132 [==============================] - 5s 41ms/step - loss: 9.1799e-06 - accuracy: 1.0000 - val_loss: 0.4348 - val_accuracy: 0.9029\n",
            "Epoch 95/400\n",
            "132/132 [==============================] - 6s 45ms/step - loss: 9.0425e-06 - accuracy: 1.0000 - val_loss: 0.4364 - val_accuracy: 0.9019\n",
            "Epoch 96/400\n",
            "132/132 [==============================] - 5s 36ms/step - loss: 8.8407e-06 - accuracy: 1.0000 - val_loss: 0.4356 - val_accuracy: 0.9000\n",
            "Epoch 97/400\n",
            "132/132 [==============================] - 6s 43ms/step - loss: 8.6776e-06 - accuracy: 1.0000 - val_loss: 0.4367 - val_accuracy: 0.9019\n",
            "Epoch 98/400\n",
            "132/132 [==============================] - 5s 42ms/step - loss: 8.5145e-06 - accuracy: 1.0000 - val_loss: 0.4375 - val_accuracy: 0.9010\n",
            "Epoch 99/400\n",
            "132/132 [==============================] - 5s 37ms/step - loss: 8.3541e-06 - accuracy: 1.0000 - val_loss: 0.4372 - val_accuracy: 0.9019\n",
            "Epoch 100/400\n",
            "132/132 [==============================] - 6s 47ms/step - loss: 8.1880e-06 - accuracy: 1.0000 - val_loss: 0.4370 - val_accuracy: 0.9010\n",
            "Epoch 101/400\n",
            "132/132 [==============================] - 4s 33ms/step - loss: 8.0989e-06 - accuracy: 1.0000 - val_loss: 0.4402 - val_accuracy: 0.9010\n",
            "Epoch 102/400\n",
            "132/132 [==============================] - 4s 34ms/step - loss: 7.9304e-06 - accuracy: 1.0000 - val_loss: 0.4403 - val_accuracy: 0.9019\n",
            "Epoch 103/400\n",
            "132/132 [==============================] - 6s 47ms/step - loss: 7.8290e-06 - accuracy: 1.0000 - val_loss: 0.4398 - val_accuracy: 0.9010\n",
            "Epoch 104/400\n",
            "132/132 [==============================] - 5s 38ms/step - loss: 7.6748e-06 - accuracy: 1.0000 - val_loss: 0.4399 - val_accuracy: 0.9010\n",
            "Epoch 105/400\n",
            "132/132 [==============================] - 5s 40ms/step - loss: 7.5588e-06 - accuracy: 1.0000 - val_loss: 0.4418 - val_accuracy: 0.9019\n",
            "Epoch 106/400\n",
            "132/132 [==============================] - 6s 43ms/step - loss: 7.4562e-06 - accuracy: 1.0000 - val_loss: 0.4416 - val_accuracy: 0.9010\n",
            "Epoch 107/400\n",
            "132/132 [==============================] - 5s 36ms/step - loss: 7.3541e-06 - accuracy: 1.0000 - val_loss: 0.4416 - val_accuracy: 0.9019\n",
            "Epoch 108/400\n",
            "132/132 [==============================] - 6s 43ms/step - loss: 7.2217e-06 - accuracy: 1.0000 - val_loss: 0.4417 - val_accuracy: 0.9019\n",
            "Epoch 109/400\n",
            "132/132 [==============================] - 5s 41ms/step - loss: 7.0724e-06 - accuracy: 1.0000 - val_loss: 0.4426 - val_accuracy: 0.9010\n",
            "Epoch 110/400\n",
            "132/132 [==============================] - 5s 37ms/step - loss: 7.0008e-06 - accuracy: 1.0000 - val_loss: 0.4447 - val_accuracy: 0.8990\n",
            "Epoch 111/400\n",
            "132/132 [==============================] - 6s 48ms/step - loss: 6.9097e-06 - accuracy: 1.0000 - val_loss: 0.4445 - val_accuracy: 0.9010\n",
            "Epoch 112/400\n",
            "132/132 [==============================] - 5s 37ms/step - loss: 6.7982e-06 - accuracy: 1.0000 - val_loss: 0.4458 - val_accuracy: 0.9019\n",
            "Epoch 113/400\n",
            "132/132 [==============================] - 5s 39ms/step - loss: 6.7433e-06 - accuracy: 1.0000 - val_loss: 0.4448 - val_accuracy: 0.9010\n",
            "Epoch 114/400\n",
            "132/132 [==============================] - 6s 45ms/step - loss: 6.6179e-06 - accuracy: 1.0000 - val_loss: 0.4446 - val_accuracy: 0.9010\n",
            "Epoch 115/400\n",
            "132/132 [==============================] - 5s 37ms/step - loss: 6.5485e-06 - accuracy: 1.0000 - val_loss: 0.4467 - val_accuracy: 0.9000\n",
            "Epoch 116/400\n",
            "132/132 [==============================] - 6s 43ms/step - loss: 6.4580e-06 - accuracy: 1.0000 - val_loss: 0.4469 - val_accuracy: 0.9000\n",
            "Epoch 117/400\n",
            "132/132 [==============================] - 5s 41ms/step - loss: 6.3935e-06 - accuracy: 1.0000 - val_loss: 0.4465 - val_accuracy: 0.9019\n",
            "Epoch 118/400\n",
            "132/132 [==============================] - 5s 38ms/step - loss: 6.2739e-06 - accuracy: 1.0000 - val_loss: 0.4459 - val_accuracy: 0.9010\n",
            "Epoch 119/400\n",
            "132/132 [==============================] - 6s 48ms/step - loss: 6.2111e-06 - accuracy: 1.0000 - val_loss: 0.4462 - val_accuracy: 0.9029\n",
            "Epoch 120/400\n",
            "132/132 [==============================] - 5s 37ms/step - loss: 6.1464e-06 - accuracy: 1.0000 - val_loss: 0.4479 - val_accuracy: 0.9029\n",
            "Epoch 121/400\n",
            "132/132 [==============================] - 5s 35ms/step - loss: 6.0752e-06 - accuracy: 1.0000 - val_loss: 0.4478 - val_accuracy: 0.9019\n",
            "Epoch 122/400\n",
            "132/132 [==============================] - 6s 46ms/step - loss: 5.9933e-06 - accuracy: 1.0000 - val_loss: 0.4486 - val_accuracy: 0.9000\n",
            "Epoch 123/400\n",
            "132/132 [==============================] - 5s 38ms/step - loss: 5.9175e-06 - accuracy: 1.0000 - val_loss: 0.4492 - val_accuracy: 0.9010\n",
            "Epoch 124/400\n",
            "132/132 [==============================] - 6s 42ms/step - loss: 5.8547e-06 - accuracy: 1.0000 - val_loss: 0.4492 - val_accuracy: 0.9010\n",
            "Epoch 125/400\n",
            "132/132 [==============================] - 6s 43ms/step - loss: 5.7830e-06 - accuracy: 1.0000 - val_loss: 0.4497 - val_accuracy: 0.9019\n",
            "Epoch 126/400\n",
            "132/132 [==============================] - 5s 37ms/step - loss: 5.7080e-06 - accuracy: 1.0000 - val_loss: 0.4504 - val_accuracy: 0.9010\n",
            "Epoch 127/400\n",
            "132/132 [==============================] - 6s 45ms/step - loss: 5.6482e-06 - accuracy: 1.0000 - val_loss: 0.4508 - val_accuracy: 0.9010\n",
            "Epoch 128/400\n",
            "132/132 [==============================] - 5s 39ms/step - loss: 5.5637e-06 - accuracy: 1.0000 - val_loss: 0.4512 - val_accuracy: 0.9010\n",
            "Epoch 129/400\n",
            "132/132 [==============================] - 5s 38ms/step - loss: 5.5141e-06 - accuracy: 1.0000 - val_loss: 0.4514 - val_accuracy: 0.9000\n",
            "Epoch 130/400\n",
            "132/132 [==============================] - 6s 46ms/step - loss: 5.4572e-06 - accuracy: 1.0000 - val_loss: 0.4518 - val_accuracy: 0.9000\n",
            "Epoch 131/400\n",
            "132/132 [==============================] - 5s 37ms/step - loss: 5.3979e-06 - accuracy: 1.0000 - val_loss: 0.4518 - val_accuracy: 0.9019\n",
            "Epoch 132/400\n",
            "132/132 [==============================] - 5s 41ms/step - loss: 5.3410e-06 - accuracy: 1.0000 - val_loss: 0.4523 - val_accuracy: 0.9000\n",
            "Epoch 133/400\n",
            "132/132 [==============================] - 6s 43ms/step - loss: 5.2758e-06 - accuracy: 1.0000 - val_loss: 0.4517 - val_accuracy: 0.9019\n",
            "Epoch 134/400\n",
            "132/132 [==============================] - 5s 38ms/step - loss: 5.2238e-06 - accuracy: 1.0000 - val_loss: 0.4528 - val_accuracy: 0.9010\n",
            "Epoch 135/400\n",
            "132/132 [==============================] - 6s 45ms/step - loss: 5.1741e-06 - accuracy: 1.0000 - val_loss: 0.4522 - val_accuracy: 0.9010\n",
            "Epoch 136/400\n",
            "132/132 [==============================] - 5s 39ms/step - loss: 5.1174e-06 - accuracy: 1.0000 - val_loss: 0.4523 - val_accuracy: 0.9019\n",
            "Epoch 137/400\n",
            "132/132 [==============================] - 5s 38ms/step - loss: 5.0680e-06 - accuracy: 1.0000 - val_loss: 0.4530 - val_accuracy: 0.9019\n",
            "Epoch 138/400\n",
            "132/132 [==============================] - 6s 46ms/step - loss: 5.0175e-06 - accuracy: 1.0000 - val_loss: 0.4543 - val_accuracy: 0.9010\n",
            "Epoch 139/400\n",
            "132/132 [==============================] - 5s 37ms/step - loss: 4.9669e-06 - accuracy: 1.0000 - val_loss: 0.4536 - val_accuracy: 0.9019\n",
            "Epoch 140/400\n",
            "132/132 [==============================] - 5s 39ms/step - loss: 4.9114e-06 - accuracy: 1.0000 - val_loss: 0.4546 - val_accuracy: 0.9010\n",
            "Epoch 141/400\n",
            "132/132 [==============================] - 6s 44ms/step - loss: 4.8505e-06 - accuracy: 1.0000 - val_loss: 0.4536 - val_accuracy: 0.9029\n",
            "Epoch 142/400\n",
            "132/132 [==============================] - 5s 36ms/step - loss: 4.8158e-06 - accuracy: 1.0000 - val_loss: 0.4551 - val_accuracy: 0.9010\n",
            "Epoch 143/400\n",
            "132/132 [==============================] - 6s 43ms/step - loss: 4.7752e-06 - accuracy: 1.0000 - val_loss: 0.4554 - val_accuracy: 0.9010\n",
            "Epoch 144/400\n",
            "132/132 [==============================] - 5s 41ms/step - loss: 4.7223e-06 - accuracy: 1.0000 - val_loss: 0.4551 - val_accuracy: 0.9010\n",
            "Epoch 145/400\n",
            "132/132 [==============================] - 5s 38ms/step - loss: 4.6837e-06 - accuracy: 1.0000 - val_loss: 0.4561 - val_accuracy: 0.9010\n",
            "Epoch 146/400\n",
            "132/132 [==============================] - 6s 46ms/step - loss: 4.6302e-06 - accuracy: 1.0000 - val_loss: 0.4562 - val_accuracy: 0.9019\n",
            "Epoch 147/400\n",
            "132/132 [==============================] - 5s 38ms/step - loss: 4.5892e-06 - accuracy: 1.0000 - val_loss: 0.4558 - val_accuracy: 0.9010\n",
            "Epoch 148/400\n",
            "132/132 [==============================] - 5s 38ms/step - loss: 4.5449e-06 - accuracy: 1.0000 - val_loss: 0.4579 - val_accuracy: 0.9010\n",
            "Epoch 149/400\n",
            "132/132 [==============================] - 6s 46ms/step - loss: 4.5063e-06 - accuracy: 1.0000 - val_loss: 0.4574 - val_accuracy: 0.9019\n",
            "Epoch 150/400\n",
            "132/132 [==============================] - 5s 37ms/step - loss: 4.4643e-06 - accuracy: 1.0000 - val_loss: 0.4577 - val_accuracy: 0.9010\n",
            "Epoch 151/400\n",
            "132/132 [==============================] - 5s 40ms/step - loss: 4.4311e-06 - accuracy: 1.0000 - val_loss: 0.4578 - val_accuracy: 0.9010\n",
            "Epoch 152/400\n",
            "132/132 [==============================] - 6s 45ms/step - loss: 4.3895e-06 - accuracy: 1.0000 - val_loss: 0.4573 - val_accuracy: 0.9010\n",
            "Epoch 153/400\n",
            "132/132 [==============================] - 5s 38ms/step - loss: 4.3583e-06 - accuracy: 1.0000 - val_loss: 0.4582 - val_accuracy: 0.9010\n",
            "Epoch 154/400\n",
            "132/132 [==============================] - 6s 46ms/step - loss: 4.3209e-06 - accuracy: 1.0000 - val_loss: 0.4582 - val_accuracy: 0.9010\n",
            "Epoch 155/400\n",
            "132/132 [==============================] - 5s 39ms/step - loss: 4.2766e-06 - accuracy: 1.0000 - val_loss: 0.4582 - val_accuracy: 0.9010\n",
            "Epoch 156/400\n",
            "132/132 [==============================] - 5s 38ms/step - loss: 4.2367e-06 - accuracy: 1.0000 - val_loss: 0.4578 - val_accuracy: 0.9019\n",
            "Epoch 157/400\n",
            "132/132 [==============================] - 6s 47ms/step - loss: 4.2079e-06 - accuracy: 1.0000 - val_loss: 0.4585 - val_accuracy: 0.9010\n",
            "Epoch 158/400\n",
            "132/132 [==============================] - 5s 38ms/step - loss: 4.1713e-06 - accuracy: 1.0000 - val_loss: 0.4590 - val_accuracy: 0.9019\n",
            "Epoch 159/400\n",
            "132/132 [==============================] - 5s 40ms/step - loss: 4.1326e-06 - accuracy: 1.0000 - val_loss: 0.4594 - val_accuracy: 0.9010\n",
            "Epoch 160/400\n",
            "132/132 [==============================] - 6s 42ms/step - loss: 4.1038e-06 - accuracy: 1.0000 - val_loss: 0.4600 - val_accuracy: 0.9010\n",
            "Epoch 161/400\n",
            "132/132 [==============================] - 5s 37ms/step - loss: 4.0711e-06 - accuracy: 1.0000 - val_loss: 0.4593 - val_accuracy: 0.9010\n",
            "Epoch 162/400\n",
            "132/132 [==============================] - 6s 43ms/step - loss: 4.0296e-06 - accuracy: 1.0000 - val_loss: 0.4607 - val_accuracy: 0.9010\n",
            "Epoch 163/400\n",
            "132/132 [==============================] - 5s 37ms/step - loss: 4.0031e-06 - accuracy: 1.0000 - val_loss: 0.4609 - val_accuracy: 0.9019\n",
            "Epoch 164/400\n",
            "132/132 [==============================] - 5s 35ms/step - loss: 3.9697e-06 - accuracy: 1.0000 - val_loss: 0.4611 - val_accuracy: 0.9019\n",
            "Epoch 165/400\n",
            "132/132 [==============================] - 6s 42ms/step - loss: 3.9341e-06 - accuracy: 1.0000 - val_loss: 0.4618 - val_accuracy: 0.9010\n",
            "Epoch 166/400\n",
            "132/132 [==============================] - 5s 36ms/step - loss: 3.9008e-06 - accuracy: 1.0000 - val_loss: 0.4613 - val_accuracy: 0.9029\n",
            "Epoch 167/400\n",
            "132/132 [==============================] - 5s 35ms/step - loss: 3.8710e-06 - accuracy: 1.0000 - val_loss: 0.4611 - val_accuracy: 0.9000\n",
            "Epoch 168/400\n",
            "132/132 [==============================] - 6s 42ms/step - loss: 3.8557e-06 - accuracy: 1.0000 - val_loss: 0.4615 - val_accuracy: 0.9019\n",
            "Epoch 169/400\n",
            "132/132 [==============================] - 5s 36ms/step - loss: 3.8226e-06 - accuracy: 1.0000 - val_loss: 0.4621 - val_accuracy: 0.9010\n",
            "Epoch 170/400\n",
            "132/132 [==============================] - 4s 34ms/step - loss: 3.7900e-06 - accuracy: 1.0000 - val_loss: 0.4622 - val_accuracy: 0.9019\n",
            "Epoch 171/400\n",
            "132/132 [==============================] - 6s 45ms/step - loss: 3.7637e-06 - accuracy: 1.0000 - val_loss: 0.4623 - val_accuracy: 0.9010\n",
            "Epoch 172/400\n",
            "132/132 [==============================] - 5s 37ms/step - loss: 3.7300e-06 - accuracy: 1.0000 - val_loss: 0.4624 - val_accuracy: 0.9010\n",
            "Epoch 173/400\n",
            "132/132 [==============================] - 5s 38ms/step - loss: 3.7034e-06 - accuracy: 1.0000 - val_loss: 0.4633 - val_accuracy: 0.9010\n",
            "Epoch 174/400\n",
            "132/132 [==============================] - 6s 47ms/step - loss: 3.6771e-06 - accuracy: 1.0000 - val_loss: 0.4630 - val_accuracy: 0.9010\n",
            "Epoch 175/400\n",
            "132/132 [==============================] - 5s 39ms/step - loss: 3.6536e-06 - accuracy: 1.0000 - val_loss: 0.4636 - val_accuracy: 0.9010\n",
            "Epoch 176/400\n",
            "132/132 [==============================] - 6s 47ms/step - loss: 3.6205e-06 - accuracy: 1.0000 - val_loss: 0.4640 - val_accuracy: 0.9010\n",
            "Epoch 177/400\n",
            "132/132 [==============================] - 5s 41ms/step - loss: 3.5995e-06 - accuracy: 1.0000 - val_loss: 0.4641 - val_accuracy: 0.9010\n",
            "Epoch 178/400\n",
            "132/132 [==============================] - 5s 39ms/step - loss: 3.5733e-06 - accuracy: 1.0000 - val_loss: 0.4639 - val_accuracy: 0.9010\n",
            "Epoch 179/400\n",
            "132/132 [==============================] - 6s 47ms/step - loss: 3.5474e-06 - accuracy: 1.0000 - val_loss: 0.4647 - val_accuracy: 0.9010\n",
            "Epoch 180/400\n",
            "132/132 [==============================] - 5s 38ms/step - loss: 3.5233e-06 - accuracy: 1.0000 - val_loss: 0.4647 - val_accuracy: 0.9010\n",
            "Epoch 181/400\n",
            "132/132 [==============================] - 5s 42ms/step - loss: 3.4992e-06 - accuracy: 1.0000 - val_loss: 0.4645 - val_accuracy: 0.9010\n",
            "Epoch 182/400\n",
            "132/132 [==============================] - 6s 45ms/step - loss: 3.4726e-06 - accuracy: 1.0000 - val_loss: 0.4645 - val_accuracy: 0.9019\n",
            "Epoch 183/400\n",
            "132/132 [==============================] - 5s 38ms/step - loss: 3.4542e-06 - accuracy: 1.0000 - val_loss: 0.4654 - val_accuracy: 0.9010\n",
            "Epoch 184/400\n",
            "132/132 [==============================] - 6s 42ms/step - loss: 3.4253e-06 - accuracy: 1.0000 - val_loss: 0.4651 - val_accuracy: 0.9010\n",
            "Epoch 185/400\n",
            "132/132 [==============================] - 5s 40ms/step - loss: 3.4072e-06 - accuracy: 1.0000 - val_loss: 0.4647 - val_accuracy: 0.9019\n",
            "Epoch 186/400\n",
            "132/132 [==============================] - 5s 38ms/step - loss: 3.3737e-06 - accuracy: 1.0000 - val_loss: 0.4656 - val_accuracy: 0.9019\n",
            "Epoch 187/400\n",
            "132/132 [==============================] - 6s 46ms/step - loss: 3.3653e-06 - accuracy: 1.0000 - val_loss: 0.4661 - val_accuracy: 0.9010\n",
            "Epoch 188/400\n",
            "132/132 [==============================] - 5s 37ms/step - loss: 3.3353e-06 - accuracy: 1.0000 - val_loss: 0.4664 - val_accuracy: 0.9010\n",
            "Epoch 189/400\n",
            "132/132 [==============================] - 5s 37ms/step - loss: 3.3156e-06 - accuracy: 1.0000 - val_loss: 0.4660 - val_accuracy: 0.9010\n",
            "Epoch 190/400\n",
            "132/132 [==============================] - 6s 46ms/step - loss: 3.2961e-06 - accuracy: 1.0000 - val_loss: 0.4663 - val_accuracy: 0.9010\n",
            "Epoch 191/400\n",
            "132/132 [==============================] - 5s 38ms/step - loss: 3.2639e-06 - accuracy: 1.0000 - val_loss: 0.4663 - val_accuracy: 0.9019\n",
            "Epoch 192/400\n",
            "132/132 [==============================] - 5s 41ms/step - loss: 3.2444e-06 - accuracy: 1.0000 - val_loss: 0.4671 - val_accuracy: 0.9010\n",
            "Epoch 193/400\n",
            "132/132 [==============================] - 6s 43ms/step - loss: 3.2299e-06 - accuracy: 1.0000 - val_loss: 0.4670 - val_accuracy: 0.9010\n",
            "Epoch 194/400\n",
            "132/132 [==============================] - 5s 38ms/step - loss: 3.2041e-06 - accuracy: 1.0000 - val_loss: 0.4668 - val_accuracy: 0.9029\n",
            "Epoch 195/400\n",
            "132/132 [==============================] - 6s 47ms/step - loss: 3.1882e-06 - accuracy: 1.0000 - val_loss: 0.4673 - val_accuracy: 0.9010\n",
            "Epoch 196/400\n",
            "132/132 [==============================] - 5s 39ms/step - loss: 3.1676e-06 - accuracy: 1.0000 - val_loss: 0.4671 - val_accuracy: 0.9029\n",
            "Epoch 197/400\n",
            "132/132 [==============================] - 5s 38ms/step - loss: 3.1431e-06 - accuracy: 1.0000 - val_loss: 0.4675 - val_accuracy: 0.9010\n",
            "Epoch 198/400\n",
            "132/132 [==============================] - 7s 51ms/step - loss: 3.1286e-06 - accuracy: 1.0000 - val_loss: 0.4683 - val_accuracy: 0.9029\n",
            "Epoch 199/400\n",
            "132/132 [==============================] - 5s 38ms/step - loss: 3.1031e-06 - accuracy: 1.0000 - val_loss: 0.4689 - val_accuracy: 0.9010\n",
            "Epoch 200/400\n",
            "132/132 [==============================] - 6s 42ms/step - loss: 3.0919e-06 - accuracy: 1.0000 - val_loss: 0.4686 - val_accuracy: 0.9010\n",
            "Epoch 201/400\n",
            "132/132 [==============================] - 6s 43ms/step - loss: 3.0700e-06 - accuracy: 1.0000 - val_loss: 0.4681 - val_accuracy: 0.9010\n",
            "Epoch 202/400\n",
            "132/132 [==============================] - 5s 38ms/step - loss: 3.0496e-06 - accuracy: 1.0000 - val_loss: 0.4687 - val_accuracy: 0.9029\n",
            "Epoch 203/400\n",
            "132/132 [==============================] - 6s 45ms/step - loss: 3.0332e-06 - accuracy: 1.0000 - val_loss: 0.4692 - val_accuracy: 0.9010\n",
            "Epoch 204/400\n",
            "132/132 [==============================] - 5s 40ms/step - loss: 3.0051e-06 - accuracy: 1.0000 - val_loss: 0.4697 - val_accuracy: 0.9010\n",
            "Epoch 205/400\n",
            "132/132 [==============================] - 5s 38ms/step - loss: 3.0032e-06 - accuracy: 1.0000 - val_loss: 0.4692 - val_accuracy: 0.9010\n",
            "Epoch 206/400\n",
            "132/132 [==============================] - 6s 46ms/step - loss: 2.9799e-06 - accuracy: 1.0000 - val_loss: 0.4696 - val_accuracy: 0.9010\n",
            "Epoch 207/400\n",
            "132/132 [==============================] - 5s 37ms/step - loss: 2.9558e-06 - accuracy: 1.0000 - val_loss: 0.4703 - val_accuracy: 0.9010\n",
            "Epoch 208/400\n",
            "132/132 [==============================] - 5s 40ms/step - loss: 2.9432e-06 - accuracy: 1.0000 - val_loss: 0.4701 - val_accuracy: 0.9010\n",
            "Epoch 209/400\n",
            "132/132 [==============================] - 6s 44ms/step - loss: 2.9263e-06 - accuracy: 1.0000 - val_loss: 0.4700 - val_accuracy: 0.9019\n",
            "Epoch 210/400\n",
            "132/132 [==============================] - 5s 38ms/step - loss: 2.9119e-06 - accuracy: 1.0000 - val_loss: 0.4704 - val_accuracy: 0.9010\n",
            "Epoch 211/400\n",
            "132/132 [==============================] - 6s 43ms/step - loss: 2.8901e-06 - accuracy: 1.0000 - val_loss: 0.4706 - val_accuracy: 0.9019\n",
            "Epoch 212/400\n",
            "132/132 [==============================] - 5s 41ms/step - loss: 2.8776e-06 - accuracy: 1.0000 - val_loss: 0.4711 - val_accuracy: 0.9010\n",
            "Epoch 213/400\n",
            "132/132 [==============================] - 5s 37ms/step - loss: 2.8593e-06 - accuracy: 1.0000 - val_loss: 0.4708 - val_accuracy: 0.9010\n",
            "Epoch 214/400\n",
            "132/132 [==============================] - 6s 49ms/step - loss: 2.8468e-06 - accuracy: 1.0000 - val_loss: 0.4711 - val_accuracy: 0.9010\n",
            "Epoch 215/400\n",
            "132/132 [==============================] - 5s 38ms/step - loss: 2.8296e-06 - accuracy: 1.0000 - val_loss: 0.4719 - val_accuracy: 0.9010\n",
            "Epoch 216/400\n",
            "132/132 [==============================] - 5s 40ms/step - loss: 2.8132e-06 - accuracy: 1.0000 - val_loss: 0.4714 - val_accuracy: 0.9010\n",
            "Epoch 217/400\n",
            "132/132 [==============================] - 6s 46ms/step - loss: 2.7990e-06 - accuracy: 1.0000 - val_loss: 0.4709 - val_accuracy: 0.9019\n",
            "Epoch 218/400\n",
            "132/132 [==============================] - 5s 38ms/step - loss: 2.7818e-06 - accuracy: 1.0000 - val_loss: 0.4717 - val_accuracy: 0.9010\n",
            "Epoch 219/400\n",
            "132/132 [==============================] - 6s 44ms/step - loss: 2.7662e-06 - accuracy: 1.0000 - val_loss: 0.4718 - val_accuracy: 0.9010\n",
            "Epoch 220/400\n",
            "132/132 [==============================] - 5s 40ms/step - loss: 2.7507e-06 - accuracy: 1.0000 - val_loss: 0.4722 - val_accuracy: 0.9019\n",
            "Epoch 221/400\n",
            "132/132 [==============================] - 5s 39ms/step - loss: 2.7364e-06 - accuracy: 1.0000 - val_loss: 0.4722 - val_accuracy: 0.9010\n",
            "Epoch 222/400\n",
            "132/132 [==============================] - 7s 51ms/step - loss: 2.7194e-06 - accuracy: 1.0000 - val_loss: 0.4730 - val_accuracy: 0.9029\n",
            "Epoch 223/400\n",
            "132/132 [==============================] - 5s 40ms/step - loss: 2.7062e-06 - accuracy: 1.0000 - val_loss: 0.4721 - val_accuracy: 0.9010\n",
            "Epoch 224/400\n",
            "132/132 [==============================] - 6s 44ms/step - loss: 2.6933e-06 - accuracy: 1.0000 - val_loss: 0.4730 - val_accuracy: 0.9010\n",
            "Epoch 225/400\n",
            "132/132 [==============================] - 6s 45ms/step - loss: 2.6771e-06 - accuracy: 1.0000 - val_loss: 0.4733 - val_accuracy: 0.9010\n",
            "Epoch 226/400\n",
            "132/132 [==============================] - 5s 39ms/step - loss: 2.6615e-06 - accuracy: 1.0000 - val_loss: 0.4733 - val_accuracy: 0.9010\n",
            "Epoch 227/400\n",
            "132/132 [==============================] - 7s 50ms/step - loss: 2.6496e-06 - accuracy: 1.0000 - val_loss: 0.4729 - val_accuracy: 0.9019\n",
            "Epoch 228/400\n",
            "132/132 [==============================] - 6s 44ms/step - loss: 2.6323e-06 - accuracy: 1.0000 - val_loss: 0.4733 - val_accuracy: 0.9029\n",
            "Epoch 229/400\n",
            "132/132 [==============================] - 6s 47ms/step - loss: 2.6222e-06 - accuracy: 1.0000 - val_loss: 0.4736 - val_accuracy: 0.9010\n",
            "Epoch 230/400\n",
            "132/132 [==============================] - 7s 52ms/step - loss: 2.6005e-06 - accuracy: 1.0000 - val_loss: 0.4741 - val_accuracy: 0.9010\n",
            "Epoch 231/400\n",
            "132/132 [==============================] - 6s 47ms/step - loss: 2.5945e-06 - accuracy: 1.0000 - val_loss: 0.4737 - val_accuracy: 0.9010\n",
            "Epoch 232/400\n",
            "132/132 [==============================] - 7s 56ms/step - loss: 2.5820e-06 - accuracy: 1.0000 - val_loss: 0.4737 - val_accuracy: 0.9019\n",
            "Epoch 233/400\n",
            "132/132 [==============================] - 6s 43ms/step - loss: 2.5690e-06 - accuracy: 1.0000 - val_loss: 0.4740 - val_accuracy: 0.9010\n",
            "Epoch 234/400\n",
            "132/132 [==============================] - 7s 52ms/step - loss: 2.5506e-06 - accuracy: 1.0000 - val_loss: 0.4741 - val_accuracy: 0.9010\n",
            "Epoch 235/400\n",
            "132/132 [==============================] - 6s 48ms/step - loss: 2.5398e-06 - accuracy: 1.0000 - val_loss: 0.4745 - val_accuracy: 0.9010\n",
            "Epoch 236/400\n",
            "132/132 [==============================] - 6s 46ms/step - loss: 2.5278e-06 - accuracy: 1.0000 - val_loss: 0.4743 - val_accuracy: 0.9010\n",
            "Epoch 237/400\n",
            "132/132 [==============================] - 7s 50ms/step - loss: 2.5143e-06 - accuracy: 1.0000 - val_loss: 0.4744 - val_accuracy: 0.9019\n",
            "Epoch 238/400\n",
            "132/132 [==============================] - 6s 43ms/step - loss: 2.5000e-06 - accuracy: 1.0000 - val_loss: 0.4749 - val_accuracy: 0.9010\n",
            "Epoch 239/400\n",
            "132/132 [==============================] - 7s 54ms/step - loss: 2.4897e-06 - accuracy: 1.0000 - val_loss: 0.4748 - val_accuracy: 0.9010\n",
            "Epoch 240/400\n",
            "132/132 [==============================] - 6s 43ms/step - loss: 2.4791e-06 - accuracy: 1.0000 - val_loss: 0.4753 - val_accuracy: 0.9010\n",
            "Epoch 241/400\n",
            "132/132 [==============================] - 7s 50ms/step - loss: 2.4671e-06 - accuracy: 1.0000 - val_loss: 0.4752 - val_accuracy: 0.9010\n",
            "Epoch 242/400\n",
            "132/132 [==============================] - 6s 48ms/step - loss: 2.4529e-06 - accuracy: 1.0000 - val_loss: 0.4757 - val_accuracy: 0.9010\n",
            "Epoch 243/400\n",
            "132/132 [==============================] - 6s 47ms/step - loss: 2.4429e-06 - accuracy: 1.0000 - val_loss: 0.4759 - val_accuracy: 0.9010\n",
            "Epoch 244/400\n",
            "132/132 [==============================] - 7s 52ms/step - loss: 2.4297e-06 - accuracy: 1.0000 - val_loss: 0.4759 - val_accuracy: 0.9019\n",
            "Epoch 245/400\n",
            "132/132 [==============================] - 5s 40ms/step - loss: 2.4177e-06 - accuracy: 1.0000 - val_loss: 0.4763 - val_accuracy: 0.9019\n",
            "Epoch 246/400\n",
            "132/132 [==============================] - 6s 46ms/step - loss: 2.4049e-06 - accuracy: 1.0000 - val_loss: 0.4760 - val_accuracy: 0.9010\n",
            "Epoch 247/400\n",
            "132/132 [==============================] - 6s 43ms/step - loss: 2.3945e-06 - accuracy: 1.0000 - val_loss: 0.4762 - val_accuracy: 0.9010\n",
            "Epoch 248/400\n",
            "132/132 [==============================] - 5s 39ms/step - loss: 2.3834e-06 - accuracy: 1.0000 - val_loss: 0.4764 - val_accuracy: 0.9010\n",
            "Epoch 249/400\n",
            "132/132 [==============================] - 6s 48ms/step - loss: 2.3699e-06 - accuracy: 1.0000 - val_loss: 0.4765 - val_accuracy: 0.9019\n",
            "Epoch 250/400\n",
            "132/132 [==============================] - 5s 40ms/step - loss: 2.3625e-06 - accuracy: 1.0000 - val_loss: 0.4768 - val_accuracy: 0.9019\n",
            "Epoch 251/400\n",
            "132/132 [==============================] - 5s 41ms/step - loss: 2.3502e-06 - accuracy: 1.0000 - val_loss: 0.4766 - val_accuracy: 0.9019\n",
            "Epoch 252/400\n",
            "132/132 [==============================] - 6s 47ms/step - loss: 2.3406e-06 - accuracy: 1.0000 - val_loss: 0.4768 - val_accuracy: 0.9019\n",
            "Epoch 253/400\n",
            "132/132 [==============================] - 5s 39ms/step - loss: 2.3268e-06 - accuracy: 1.0000 - val_loss: 0.4773 - val_accuracy: 0.9019\n",
            "Epoch 254/400\n",
            "132/132 [==============================] - 6s 48ms/step - loss: 2.3184e-06 - accuracy: 1.0000 - val_loss: 0.4769 - val_accuracy: 0.9010\n",
            "Epoch 255/400\n",
            "132/132 [==============================] - 5s 41ms/step - loss: 2.3070e-06 - accuracy: 1.0000 - val_loss: 0.4769 - val_accuracy: 0.9010\n",
            "Epoch 256/400\n",
            "132/132 [==============================] - 5s 39ms/step - loss: 2.2990e-06 - accuracy: 1.0000 - val_loss: 0.4778 - val_accuracy: 0.9019\n",
            "Epoch 257/400\n",
            "132/132 [==============================] - 6s 48ms/step - loss: 2.2866e-06 - accuracy: 1.0000 - val_loss: 0.4780 - val_accuracy: 0.9019\n",
            "Epoch 258/400\n",
            "132/132 [==============================] - 5s 41ms/step - loss: 2.2725e-06 - accuracy: 1.0000 - val_loss: 0.4775 - val_accuracy: 0.9019\n",
            "Epoch 259/400\n",
            "132/132 [==============================] - 6s 45ms/step - loss: 2.2654e-06 - accuracy: 1.0000 - val_loss: 0.4781 - val_accuracy: 0.9019\n",
            "Epoch 260/400\n",
            "132/132 [==============================] - 6s 44ms/step - loss: 2.2564e-06 - accuracy: 1.0000 - val_loss: 0.4782 - val_accuracy: 0.9019\n",
            "Epoch 261/400\n",
            "132/132 [==============================] - 5s 40ms/step - loss: 2.2446e-06 - accuracy: 1.0000 - val_loss: 0.4782 - val_accuracy: 0.9019\n",
            "Epoch 262/400\n",
            "132/132 [==============================] - 6s 48ms/step - loss: 2.2352e-06 - accuracy: 1.0000 - val_loss: 0.4783 - val_accuracy: 0.9010\n",
            "Epoch 263/400\n",
            "132/132 [==============================] - 5s 39ms/step - loss: 2.2244e-06 - accuracy: 1.0000 - val_loss: 0.4781 - val_accuracy: 0.9019\n",
            "Epoch 264/400\n",
            "132/132 [==============================] - 6s 44ms/step - loss: 2.2166e-06 - accuracy: 1.0000 - val_loss: 0.4788 - val_accuracy: 0.9019\n",
            "Epoch 265/400\n",
            "132/132 [==============================] - 6s 47ms/step - loss: 2.2033e-06 - accuracy: 1.0000 - val_loss: 0.4793 - val_accuracy: 0.9019\n",
            "Epoch 266/400\n",
            "132/132 [==============================] - 5s 40ms/step - loss: 2.1945e-06 - accuracy: 1.0000 - val_loss: 0.4789 - val_accuracy: 0.9019\n",
            "Epoch 267/400\n",
            "132/132 [==============================] - 6s 48ms/step - loss: 2.1862e-06 - accuracy: 1.0000 - val_loss: 0.4795 - val_accuracy: 0.9010\n",
            "Epoch 268/400\n",
            "132/132 [==============================] - 6s 42ms/step - loss: 2.1754e-06 - accuracy: 1.0000 - val_loss: 0.4790 - val_accuracy: 0.9019\n",
            "Epoch 269/400\n",
            "132/132 [==============================] - 5s 40ms/step - loss: 2.1632e-06 - accuracy: 1.0000 - val_loss: 0.4794 - val_accuracy: 0.9019\n",
            "Epoch 270/400\n",
            "132/132 [==============================] - 6s 49ms/step - loss: 2.1561e-06 - accuracy: 1.0000 - val_loss: 0.4793 - val_accuracy: 0.9019\n",
            "Epoch 271/400\n",
            "132/132 [==============================] - 5s 40ms/step - loss: 2.1476e-06 - accuracy: 1.0000 - val_loss: 0.4796 - val_accuracy: 0.9019\n",
            "Epoch 272/400\n",
            "132/132 [==============================] - 6s 46ms/step - loss: 2.1404e-06 - accuracy: 1.0000 - val_loss: 0.4799 - val_accuracy: 0.9019\n",
            "Epoch 273/400\n",
            "132/132 [==============================] - 6s 44ms/step - loss: 2.1292e-06 - accuracy: 1.0000 - val_loss: 0.4804 - val_accuracy: 0.9019\n",
            "Epoch 274/400\n",
            "132/132 [==============================] - 5s 39ms/step - loss: 2.1199e-06 - accuracy: 1.0000 - val_loss: 0.4801 - val_accuracy: 0.9019\n",
            "Epoch 275/400\n",
            "132/132 [==============================] - 7s 50ms/step - loss: 2.1121e-06 - accuracy: 1.0000 - val_loss: 0.4803 - val_accuracy: 0.9019\n",
            "Epoch 276/400\n",
            "132/132 [==============================] - 5s 38ms/step - loss: 2.0980e-06 - accuracy: 1.0000 - val_loss: 0.4808 - val_accuracy: 0.9019\n",
            "Epoch 277/400\n",
            "132/132 [==============================] - 5s 41ms/step - loss: 2.0923e-06 - accuracy: 1.0000 - val_loss: 0.4805 - val_accuracy: 0.9019\n",
            "Epoch 278/400\n",
            "132/132 [==============================] - 6s 45ms/step - loss: 2.0866e-06 - accuracy: 1.0000 - val_loss: 0.4806 - val_accuracy: 0.9019\n",
            "Epoch 279/400\n",
            "132/132 [==============================] - 5s 37ms/step - loss: 2.0772e-06 - accuracy: 1.0000 - val_loss: 0.4808 - val_accuracy: 0.9019\n",
            "Epoch 280/400\n",
            "132/132 [==============================] - 6s 45ms/step - loss: 2.0653e-06 - accuracy: 1.0000 - val_loss: 0.4805 - val_accuracy: 0.9019\n",
            "Epoch 281/400\n",
            "132/132 [==============================] - 6s 42ms/step - loss: 2.0570e-06 - accuracy: 1.0000 - val_loss: 0.4812 - val_accuracy: 0.9019\n",
            "Epoch 282/400\n",
            "132/132 [==============================] - 5s 37ms/step - loss: 2.0501e-06 - accuracy: 1.0000 - val_loss: 0.4807 - val_accuracy: 0.9010\n",
            "Epoch 283/400\n",
            "132/132 [==============================] - 6s 49ms/step - loss: 2.0428e-06 - accuracy: 1.0000 - val_loss: 0.4810 - val_accuracy: 0.9019\n",
            "Epoch 284/400\n",
            "132/132 [==============================] - 5s 38ms/step - loss: 2.0333e-06 - accuracy: 1.0000 - val_loss: 0.4814 - val_accuracy: 0.9010\n",
            "Epoch 285/400\n",
            "132/132 [==============================] - 6s 42ms/step - loss: 2.0260e-06 - accuracy: 1.0000 - val_loss: 0.4814 - val_accuracy: 0.9019\n",
            "Epoch 286/400\n",
            "132/132 [==============================] - 6s 47ms/step - loss: 2.0164e-06 - accuracy: 1.0000 - val_loss: 0.4818 - val_accuracy: 0.9019\n",
            "Epoch 287/400\n",
            "132/132 [==============================] - 5s 39ms/step - loss: 2.0116e-06 - accuracy: 1.0000 - val_loss: 0.4820 - val_accuracy: 0.9010\n",
            "Epoch 288/400\n",
            "132/132 [==============================] - 6s 44ms/step - loss: 2.0030e-06 - accuracy: 1.0000 - val_loss: 0.4821 - val_accuracy: 0.9010\n",
            "Epoch 289/400\n",
            "132/132 [==============================] - 6s 42ms/step - loss: 1.9948e-06 - accuracy: 1.0000 - val_loss: 0.4820 - val_accuracy: 0.9010\n",
            "Epoch 290/400\n",
            "132/132 [==============================] - 5s 39ms/step - loss: 1.9839e-06 - accuracy: 1.0000 - val_loss: 0.4822 - val_accuracy: 0.9019\n",
            "Epoch 291/400\n",
            "132/132 [==============================] - 7s 50ms/step - loss: 1.9783e-06 - accuracy: 1.0000 - val_loss: 0.4824 - val_accuracy: 0.9010\n",
            "Epoch 292/400\n",
            "132/132 [==============================] - 5s 35ms/step - loss: 1.9705e-06 - accuracy: 1.0000 - val_loss: 0.4823 - val_accuracy: 0.9019\n",
            "Epoch 293/400\n",
            "132/132 [==============================] - 5s 37ms/step - loss: 1.9621e-06 - accuracy: 1.0000 - val_loss: 0.4820 - val_accuracy: 0.9019\n",
            "Epoch 294/400\n",
            "132/132 [==============================] - 6s 44ms/step - loss: 1.9552e-06 - accuracy: 1.0000 - val_loss: 0.4824 - val_accuracy: 0.9019\n",
            "Epoch 295/400\n",
            "132/132 [==============================] - 5s 36ms/step - loss: 1.9458e-06 - accuracy: 1.0000 - val_loss: 0.4831 - val_accuracy: 0.9010\n",
            "Epoch 296/400\n",
            "132/132 [==============================] - 5s 36ms/step - loss: 1.9377e-06 - accuracy: 1.0000 - val_loss: 0.4828 - val_accuracy: 0.9019\n",
            "Epoch 297/400\n",
            "132/132 [==============================] - 6s 45ms/step - loss: 1.9327e-06 - accuracy: 1.0000 - val_loss: 0.4829 - val_accuracy: 0.9010\n",
            "Epoch 298/400\n",
            "132/132 [==============================] - 5s 35ms/step - loss: 1.9244e-06 - accuracy: 1.0000 - val_loss: 0.4830 - val_accuracy: 0.9010\n",
            "Epoch 299/400\n",
            "132/132 [==============================] - 5s 40ms/step - loss: 1.9160e-06 - accuracy: 1.0000 - val_loss: 0.4827 - val_accuracy: 0.9019\n",
            "Epoch 300/400\n",
            "132/132 [==============================] - 6s 42ms/step - loss: 1.9096e-06 - accuracy: 1.0000 - val_loss: 0.4833 - val_accuracy: 0.9019\n",
            "Epoch 301/400\n",
            "132/132 [==============================] - 5s 38ms/step - loss: 1.9011e-06 - accuracy: 1.0000 - val_loss: 0.4832 - val_accuracy: 0.9019\n",
            "Epoch 302/400\n",
            "132/132 [==============================] - 6s 45ms/step - loss: 1.8951e-06 - accuracy: 1.0000 - val_loss: 0.4835 - val_accuracy: 0.9019\n",
            "Epoch 303/400\n",
            "132/132 [==============================] - 5s 41ms/step - loss: 1.8886e-06 - accuracy: 1.0000 - val_loss: 0.4835 - val_accuracy: 0.9019\n",
            "Epoch 304/400\n",
            "132/132 [==============================] - 5s 39ms/step - loss: 1.8784e-06 - accuracy: 1.0000 - val_loss: 0.4839 - val_accuracy: 0.9019\n",
            "Epoch 305/400\n",
            "132/132 [==============================] - 6s 47ms/step - loss: 1.8734e-06 - accuracy: 1.0000 - val_loss: 0.4840 - val_accuracy: 0.9019\n",
            "Epoch 306/400\n",
            "132/132 [==============================] - 5s 39ms/step - loss: 1.8653e-06 - accuracy: 1.0000 - val_loss: 0.4840 - val_accuracy: 0.9019\n",
            "Epoch 307/400\n",
            "132/132 [==============================] - 5s 41ms/step - loss: 1.8595e-06 - accuracy: 1.0000 - val_loss: 0.4841 - val_accuracy: 0.9010\n",
            "Epoch 308/400\n",
            "132/132 [==============================] - 6s 47ms/step - loss: 1.8530e-06 - accuracy: 1.0000 - val_loss: 0.4841 - val_accuracy: 0.9010\n",
            "Epoch 309/400\n",
            "132/132 [==============================] - 5s 38ms/step - loss: 1.8454e-06 - accuracy: 1.0000 - val_loss: 0.4842 - val_accuracy: 0.9019\n",
            "Epoch 310/400\n",
            "132/132 [==============================] - 6s 42ms/step - loss: 1.8395e-06 - accuracy: 1.0000 - val_loss: 0.4843 - val_accuracy: 0.9019\n",
            "Epoch 311/400\n",
            "132/132 [==============================] - 5s 41ms/step - loss: 1.8312e-06 - accuracy: 1.0000 - val_loss: 0.4838 - val_accuracy: 0.9019\n",
            "Epoch 312/400\n",
            "132/132 [==============================] - 5s 38ms/step - loss: 1.8266e-06 - accuracy: 1.0000 - val_loss: 0.4844 - val_accuracy: 0.9019\n",
            "Epoch 313/400\n",
            "132/132 [==============================] - 6s 44ms/step - loss: 1.8197e-06 - accuracy: 1.0000 - val_loss: 0.4847 - val_accuracy: 0.9019\n",
            "Epoch 314/400\n",
            "132/132 [==============================] - 5s 40ms/step - loss: 1.8110e-06 - accuracy: 1.0000 - val_loss: 0.4851 - val_accuracy: 0.9019\n",
            "Epoch 315/400\n",
            "132/132 [==============================] - 5s 40ms/step - loss: 1.8059e-06 - accuracy: 1.0000 - val_loss: 0.4847 - val_accuracy: 0.9019\n",
            "Epoch 316/400\n",
            "132/132 [==============================] - 7s 50ms/step - loss: 1.7984e-06 - accuracy: 1.0000 - val_loss: 0.4848 - val_accuracy: 0.9010\n",
            "Epoch 317/400\n",
            "132/132 [==============================] - 5s 40ms/step - loss: 1.7926e-06 - accuracy: 1.0000 - val_loss: 0.4852 - val_accuracy: 0.9019\n",
            "Epoch 318/400\n",
            "132/132 [==============================] - 5s 41ms/step - loss: 1.7873e-06 - accuracy: 1.0000 - val_loss: 0.4850 - val_accuracy: 0.9010\n",
            "Epoch 319/400\n",
            "132/132 [==============================] - 6s 44ms/step - loss: 1.7806e-06 - accuracy: 1.0000 - val_loss: 0.4854 - val_accuracy: 0.9019\n",
            "Epoch 320/400\n",
            "132/132 [==============================] - 5s 37ms/step - loss: 1.7741e-06 - accuracy: 1.0000 - val_loss: 0.4859 - val_accuracy: 0.9019\n",
            "Epoch 321/400\n",
            "132/132 [==============================] - 6s 43ms/step - loss: 1.7663e-06 - accuracy: 1.0000 - val_loss: 0.4859 - val_accuracy: 0.9010\n",
            "Epoch 322/400\n",
            "132/132 [==============================] - 5s 40ms/step - loss: 1.7615e-06 - accuracy: 1.0000 - val_loss: 0.4855 - val_accuracy: 0.9019\n",
            "Epoch 323/400\n",
            "132/132 [==============================] - 5s 39ms/step - loss: 1.7541e-06 - accuracy: 1.0000 - val_loss: 0.4855 - val_accuracy: 0.9019\n",
            "Epoch 324/400\n",
            "132/132 [==============================] - 6s 48ms/step - loss: 1.7495e-06 - accuracy: 1.0000 - val_loss: 0.4860 - val_accuracy: 0.9019\n",
            "Epoch 325/400\n",
            "132/132 [==============================] - 5s 36ms/step - loss: 1.7444e-06 - accuracy: 1.0000 - val_loss: 0.4858 - val_accuracy: 0.9019\n",
            "Epoch 326/400\n",
            "132/132 [==============================] - 5s 35ms/step - loss: 1.7373e-06 - accuracy: 1.0000 - val_loss: 0.4862 - val_accuracy: 0.9019\n",
            "Epoch 327/400\n",
            "132/132 [==============================] - 6s 46ms/step - loss: 1.7303e-06 - accuracy: 1.0000 - val_loss: 0.4863 - val_accuracy: 0.9019\n",
            "Epoch 328/400\n",
            "132/132 [==============================] - 5s 39ms/step - loss: 1.7238e-06 - accuracy: 1.0000 - val_loss: 0.4864 - val_accuracy: 0.9019\n",
            "Epoch 329/400\n",
            "132/132 [==============================] - 6s 42ms/step - loss: 1.7190e-06 - accuracy: 1.0000 - val_loss: 0.4863 - val_accuracy: 0.9019\n",
            "Epoch 330/400\n",
            "132/132 [==============================] - 6s 45ms/step - loss: 1.7140e-06 - accuracy: 1.0000 - val_loss: 0.4864 - val_accuracy: 0.9019\n",
            "Epoch 331/400\n",
            "132/132 [==============================] - 5s 38ms/step - loss: 1.7072e-06 - accuracy: 1.0000 - val_loss: 0.4867 - val_accuracy: 0.9019\n",
            "Epoch 332/400\n",
            "132/132 [==============================] - 6s 46ms/step - loss: 1.7022e-06 - accuracy: 1.0000 - val_loss: 0.4867 - val_accuracy: 0.9019\n",
            "Epoch 333/400\n",
            "132/132 [==============================] - 5s 41ms/step - loss: 1.6960e-06 - accuracy: 1.0000 - val_loss: 0.4869 - val_accuracy: 0.9019\n",
            "Epoch 334/400\n",
            "132/132 [==============================] - 5s 40ms/step - loss: 1.6886e-06 - accuracy: 1.0000 - val_loss: 0.4868 - val_accuracy: 0.9029\n",
            "Epoch 335/400\n",
            "132/132 [==============================] - 6s 48ms/step - loss: 1.6836e-06 - accuracy: 1.0000 - val_loss: 0.4872 - val_accuracy: 0.9019\n",
            "Epoch 336/400\n",
            "132/132 [==============================] - 5s 39ms/step - loss: 1.6767e-06 - accuracy: 1.0000 - val_loss: 0.4874 - val_accuracy: 0.9019\n",
            "Epoch 337/400\n",
            "132/132 [==============================] - 6s 44ms/step - loss: 1.6728e-06 - accuracy: 1.0000 - val_loss: 0.4874 - val_accuracy: 0.9019\n",
            "Epoch 338/400\n",
            "132/132 [==============================] - 6s 44ms/step - loss: 1.6681e-06 - accuracy: 1.0000 - val_loss: 0.4875 - val_accuracy: 0.9019\n",
            "Epoch 339/400\n",
            "132/132 [==============================] - 5s 39ms/step - loss: 1.6616e-06 - accuracy: 1.0000 - val_loss: 0.4877 - val_accuracy: 0.9019\n",
            "Epoch 340/400\n",
            "132/132 [==============================] - 6s 48ms/step - loss: 1.6548e-06 - accuracy: 1.0000 - val_loss: 0.4873 - val_accuracy: 0.9038\n",
            "Epoch 341/400\n",
            "132/132 [==============================] - 5s 40ms/step - loss: 1.6532e-06 - accuracy: 1.0000 - val_loss: 0.4880 - val_accuracy: 0.9019\n",
            "Epoch 342/400\n",
            "132/132 [==============================] - 5s 39ms/step - loss: 1.6448e-06 - accuracy: 1.0000 - val_loss: 0.4878 - val_accuracy: 0.9019\n",
            "Epoch 343/400\n",
            "132/132 [==============================] - 6s 48ms/step - loss: 1.6397e-06 - accuracy: 1.0000 - val_loss: 0.4877 - val_accuracy: 0.9019\n",
            "Epoch 344/400\n",
            "132/132 [==============================] - 5s 39ms/step - loss: 1.6342e-06 - accuracy: 1.0000 - val_loss: 0.4877 - val_accuracy: 0.9019\n",
            "Epoch 345/400\n",
            "132/132 [==============================] - 6s 43ms/step - loss: 1.6293e-06 - accuracy: 1.0000 - val_loss: 0.4879 - val_accuracy: 0.9019\n",
            "Epoch 346/400\n",
            "132/132 [==============================] - 6s 45ms/step - loss: 1.6241e-06 - accuracy: 1.0000 - val_loss: 0.4881 - val_accuracy: 0.9019\n",
            "Epoch 347/400\n",
            "132/132 [==============================] - 5s 40ms/step - loss: 1.6192e-06 - accuracy: 1.0000 - val_loss: 0.4881 - val_accuracy: 0.9019\n",
            "Epoch 348/400\n",
            "132/132 [==============================] - 6s 44ms/step - loss: 1.6124e-06 - accuracy: 1.0000 - val_loss: 0.4885 - val_accuracy: 0.9019\n",
            "Epoch 349/400\n",
            "132/132 [==============================] - 5s 41ms/step - loss: 1.6080e-06 - accuracy: 1.0000 - val_loss: 0.4883 - val_accuracy: 0.9019\n",
            "Epoch 350/400\n",
            "132/132 [==============================] - 5s 39ms/step - loss: 1.6030e-06 - accuracy: 1.0000 - val_loss: 0.4884 - val_accuracy: 0.9019\n",
            "Epoch 351/400\n",
            "132/132 [==============================] - 6s 49ms/step - loss: 1.5963e-06 - accuracy: 1.0000 - val_loss: 0.4885 - val_accuracy: 0.9019\n",
            "Epoch 352/400\n",
            "132/132 [==============================] - 5s 38ms/step - loss: 1.5926e-06 - accuracy: 1.0000 - val_loss: 0.4888 - val_accuracy: 0.9019\n",
            "Epoch 353/400\n",
            "132/132 [==============================] - 5s 42ms/step - loss: 1.5873e-06 - accuracy: 1.0000 - val_loss: 0.4887 - val_accuracy: 0.9019\n",
            "Epoch 354/400\n",
            "132/132 [==============================] - 6s 45ms/step - loss: 1.5817e-06 - accuracy: 1.0000 - val_loss: 0.4892 - val_accuracy: 0.9019\n",
            "Epoch 355/400\n",
            "132/132 [==============================] - 5s 38ms/step - loss: 1.5777e-06 - accuracy: 1.0000 - val_loss: 0.4891 - val_accuracy: 0.9019\n",
            "Epoch 356/400\n",
            "132/132 [==============================] - 6s 45ms/step - loss: 1.5714e-06 - accuracy: 1.0000 - val_loss: 0.4891 - val_accuracy: 0.9019\n",
            "Epoch 357/400\n",
            "132/132 [==============================] - 5s 41ms/step - loss: 1.5663e-06 - accuracy: 1.0000 - val_loss: 0.4894 - val_accuracy: 0.9019\n",
            "Epoch 358/400\n",
            "132/132 [==============================] - 5s 35ms/step - loss: 1.5619e-06 - accuracy: 1.0000 - val_loss: 0.4894 - val_accuracy: 0.9019\n",
            "Epoch 359/400\n",
            "132/132 [==============================] - 6s 43ms/step - loss: 1.5556e-06 - accuracy: 1.0000 - val_loss: 0.4894 - val_accuracy: 0.9019\n",
            "Epoch 360/400\n",
            "132/132 [==============================] - 5s 40ms/step - loss: 1.5529e-06 - accuracy: 1.0000 - val_loss: 0.4893 - val_accuracy: 0.9019\n",
            "Epoch 361/400\n",
            "132/132 [==============================] - 5s 36ms/step - loss: 1.5472e-06 - accuracy: 1.0000 - val_loss: 0.4893 - val_accuracy: 0.9019\n",
            "Epoch 362/400\n",
            "132/132 [==============================] - 6s 48ms/step - loss: 1.5427e-06 - accuracy: 1.0000 - val_loss: 0.4891 - val_accuracy: 0.9019\n",
            "Epoch 363/400\n",
            "132/132 [==============================] - 5s 38ms/step - loss: 1.5386e-06 - accuracy: 1.0000 - val_loss: 0.4896 - val_accuracy: 0.9019\n",
            "Epoch 364/400\n",
            "132/132 [==============================] - 6s 42ms/step - loss: 1.5341e-06 - accuracy: 1.0000 - val_loss: 0.4896 - val_accuracy: 0.9019\n",
            "Epoch 365/400\n",
            "132/132 [==============================] - 6s 45ms/step - loss: 1.5299e-06 - accuracy: 1.0000 - val_loss: 0.4895 - val_accuracy: 0.9019\n",
            "Epoch 366/400\n",
            "132/132 [==============================] - 5s 38ms/step - loss: 1.5245e-06 - accuracy: 1.0000 - val_loss: 0.4897 - val_accuracy: 0.9019\n",
            "Epoch 367/400\n",
            "132/132 [==============================] - 6s 46ms/step - loss: 1.5206e-06 - accuracy: 1.0000 - val_loss: 0.4899 - val_accuracy: 0.9019\n",
            "Epoch 368/400\n",
            "132/132 [==============================] - 5s 40ms/step - loss: 1.5151e-06 - accuracy: 1.0000 - val_loss: 0.4902 - val_accuracy: 0.9019\n",
            "Epoch 369/400\n",
            "132/132 [==============================] - 5s 36ms/step - loss: 1.5102e-06 - accuracy: 1.0000 - val_loss: 0.4900 - val_accuracy: 0.9019\n",
            "Epoch 370/400\n",
            "132/132 [==============================] - 6s 47ms/step - loss: 1.5054e-06 - accuracy: 1.0000 - val_loss: 0.4901 - val_accuracy: 0.9019\n",
            "Epoch 371/400\n",
            "132/132 [==============================] - 5s 36ms/step - loss: 1.5026e-06 - accuracy: 1.0000 - val_loss: 0.4901 - val_accuracy: 0.9019\n",
            "Epoch 372/400\n",
            "132/132 [==============================] - 5s 36ms/step - loss: 1.4976e-06 - accuracy: 1.0000 - val_loss: 0.4902 - val_accuracy: 0.9019\n",
            "Epoch 373/400\n",
            "132/132 [==============================] - 6s 46ms/step - loss: 1.4925e-06 - accuracy: 1.0000 - val_loss: 0.4903 - val_accuracy: 0.9019\n",
            "Epoch 374/400\n",
            "132/132 [==============================] - 5s 38ms/step - loss: 1.4878e-06 - accuracy: 1.0000 - val_loss: 0.4908 - val_accuracy: 0.9019\n",
            "Epoch 375/400\n",
            "132/132 [==============================] - 5s 37ms/step - loss: 1.4838e-06 - accuracy: 1.0000 - val_loss: 0.4907 - val_accuracy: 0.9019\n",
            "Epoch 376/400\n",
            "132/132 [==============================] - 6s 46ms/step - loss: 1.4789e-06 - accuracy: 1.0000 - val_loss: 0.4908 - val_accuracy: 0.9019\n",
            "Epoch 377/400\n",
            "132/132 [==============================] - 5s 41ms/step - loss: 1.4734e-06 - accuracy: 1.0000 - val_loss: 0.4909 - val_accuracy: 0.9019\n",
            "Epoch 378/400\n",
            "132/132 [==============================] - 6s 44ms/step - loss: 1.4711e-06 - accuracy: 1.0000 - val_loss: 0.4910 - val_accuracy: 0.9019\n",
            "Epoch 379/400\n",
            "132/132 [==============================] - 6s 44ms/step - loss: 1.4653e-06 - accuracy: 1.0000 - val_loss: 0.4909 - val_accuracy: 0.9019\n",
            "Epoch 380/400\n",
            "132/132 [==============================] - 5s 36ms/step - loss: 1.4618e-06 - accuracy: 1.0000 - val_loss: 0.4912 - val_accuracy: 0.9019\n",
            "Epoch 381/400\n",
            "132/132 [==============================] - 6s 46ms/step - loss: 1.4577e-06 - accuracy: 1.0000 - val_loss: 0.4913 - val_accuracy: 0.9019\n",
            "Epoch 382/400\n",
            "132/132 [==============================] - 5s 41ms/step - loss: 1.4525e-06 - accuracy: 1.0000 - val_loss: 0.4914 - val_accuracy: 0.9019\n",
            "Epoch 383/400\n",
            "132/132 [==============================] - 5s 38ms/step - loss: 1.4489e-06 - accuracy: 1.0000 - val_loss: 0.4912 - val_accuracy: 0.9019\n",
            "Epoch 384/400\n",
            "132/132 [==============================] - 6s 47ms/step - loss: 1.4435e-06 - accuracy: 1.0000 - val_loss: 0.4911 - val_accuracy: 0.9019\n",
            "Epoch 385/400\n",
            "132/132 [==============================] - 5s 38ms/step - loss: 1.4403e-06 - accuracy: 1.0000 - val_loss: 0.4913 - val_accuracy: 0.9019\n",
            "Epoch 386/400\n",
            "132/132 [==============================] - 5s 40ms/step - loss: 1.4362e-06 - accuracy: 1.0000 - val_loss: 0.4914 - val_accuracy: 0.9019\n",
            "Epoch 387/400\n",
            "132/132 [==============================] - 6s 47ms/step - loss: 1.4317e-06 - accuracy: 1.0000 - val_loss: 0.4917 - val_accuracy: 0.9019\n",
            "Epoch 388/400\n",
            "132/132 [==============================] - 5s 39ms/step - loss: 1.4280e-06 - accuracy: 1.0000 - val_loss: 0.4917 - val_accuracy: 0.9019\n",
            "Epoch 389/400\n",
            "132/132 [==============================] - 6s 46ms/step - loss: 1.4226e-06 - accuracy: 1.0000 - val_loss: 0.4919 - val_accuracy: 0.9019\n",
            "Epoch 390/400\n",
            "132/132 [==============================] - 6s 43ms/step - loss: 1.4204e-06 - accuracy: 1.0000 - val_loss: 0.4919 - val_accuracy: 0.9019\n",
            "Epoch 391/400\n",
            "132/132 [==============================] - 5s 38ms/step - loss: 1.4151e-06 - accuracy: 1.0000 - val_loss: 0.4921 - val_accuracy: 0.9019\n",
            "Epoch 392/400\n",
            "132/132 [==============================] - 6s 48ms/step - loss: 1.4109e-06 - accuracy: 1.0000 - val_loss: 0.4923 - val_accuracy: 0.9019\n",
            "Epoch 393/400\n",
            "132/132 [==============================] - 5s 38ms/step - loss: 1.4079e-06 - accuracy: 1.0000 - val_loss: 0.4923 - val_accuracy: 0.9019\n",
            "Epoch 394/400\n",
            "132/132 [==============================] - 6s 42ms/step - loss: 1.4046e-06 - accuracy: 1.0000 - val_loss: 0.4923 - val_accuracy: 0.9019\n",
            "Epoch 395/400\n",
            "132/132 [==============================] - 6s 45ms/step - loss: 1.3983e-06 - accuracy: 1.0000 - val_loss: 0.4926 - val_accuracy: 0.9019\n",
            "Epoch 396/400\n",
            "132/132 [==============================] - 5s 38ms/step - loss: 1.3972e-06 - accuracy: 1.0000 - val_loss: 0.4925 - val_accuracy: 0.9019\n",
            "Epoch 397/400\n",
            "132/132 [==============================] - 6s 45ms/step - loss: 1.3900e-06 - accuracy: 1.0000 - val_loss: 0.4927 - val_accuracy: 0.9019\n",
            "Epoch 398/400\n",
            "132/132 [==============================] - 6s 44ms/step - loss: 1.3882e-06 - accuracy: 1.0000 - val_loss: 0.4926 - val_accuracy: 0.9019\n",
            "Epoch 399/400\n",
            "132/132 [==============================] - 5s 39ms/step - loss: 1.3831e-06 - accuracy: 1.0000 - val_loss: 0.4924 - val_accuracy: 0.9038\n",
            "Epoch 400/400\n",
            "132/132 [==============================] - 7s 50ms/step - loss: 1.3826e-06 - accuracy: 1.0000 - val_loss: 0.4927 - val_accuracy: 0.9019\n",
            "CPU times: user 48min 55s, sys: 1min 9s, total: 50min 4s\n",
            "Wall time: 36min 23s\n"
          ]
        }
      ],
      "source": [
        "%%time\n",
        "history=model.fit(\n",
        "    X_train,y_train,\n",
        "    batch_size= 32, validation_data=(X_test,y_test),\n",
        "    epochs=400 , callbacks=[callbacks])\n",
        "#validation_data=(X_test,y_test),"
      ]
    },
    {
      "cell_type": "markdown",
      "metadata": {
        "id": "TK1BOiFDZGfC"
      },
      "source": [
        "**Evaluation of ResNet50**"
      ]
    },
    {
      "cell_type": "code",
      "execution_count": 91,
      "metadata": {
        "colab": {
          "base_uri": "https://localhost:8080/"
        },
        "id": "LQef2voUZL2E",
        "outputId": "27f2fbca-afd9-47a7-8a2f-3862966161a6"
      },
      "outputs": [
        {
          "output_type": "stream",
          "name": "stdout",
          "text": [
            "Training Accuracy: [Loss, Accuracy]= [1.3691428648598958e-06, 1.0]\n",
            "Testing Accuracy:[Loss, Accuracy]= [0.49266356229782104, 0.9019047617912292]\n"
          ]
        }
      ],
      "source": [
        "train_acc = model.evaluate(X_train, y_train, verbose=0)\n",
        "test_acc = model.evaluate(X_test, y_test, verbose=0)\n",
        "\n",
        "print (\"Training Accuracy: [Loss, Accuracy]= \" + str(train_acc))\n",
        "print (\"Testing Accuracy:[Loss, Accuracy]= \" + str(test_acc))"
      ]
    },
    {
      "cell_type": "code",
      "execution_count": null,
      "metadata": {
        "id": "4DrGZJEb_XqX"
      },
      "outputs": [],
      "source": [
        "'''\n",
        "plt.figure(figsize=(15,5))\n",
        "plt.subplot(121)\n",
        "plt.plot(history.history['accuracy'])\n",
        "plt.plot(history.history['val_accuracy'])\n",
        "plt.title('Accuracy vs. epochs')\n",
        "plt.ylabel('Accuracy')\n",
        "plt.xlabel('Epoch')\n",
        "plt.legend(['Training' , 'Val_accuracy'], loc='lower right')\n",
        "\n",
        "plt.subplot(122)\n",
        "plt.plot(history.history['loss'])\n",
        "plt.plot(history.history['val_loss'])\n",
        "plt.title('Loss vs. epochs')\n",
        "plt.ylabel('Loss')\n",
        "plt.xlabel('Epoch')\n",
        "plt.legend(['Training' , 'Validation'], loc='upper right')\n",
        "plt.show()\n",
        "\n",
        "'''"
      ]
    },
    {
      "cell_type": "code",
      "source": [
        "plt.figure(figsize=(7.5,5))\n",
        "plt.plot(history.history['accuracy'])\n",
        "plt.plot(history.history['val_accuracy'])\n",
        "plt.title('Accuracy vs. epochs')\n",
        "plt.ylabel('Accuracy')\n",
        "plt.xlabel('Epoch')\n",
        "plt.legend(['Training' , 'Val_accuracy'], loc='lower right')\n",
        "\n",
        "plt.show()"
      ],
      "metadata": {
        "colab": {
          "base_uri": "https://localhost:8080/",
          "height": 487
        },
        "id": "o0brMVFq9JrU",
        "outputId": "c18b5c44-81ec-4ddf-ee91-fc2cb647cdc0"
      },
      "execution_count": 93,
      "outputs": [
        {
          "output_type": "display_data",
          "data": {
            "text/plain": [
              "<Figure size 750x500 with 1 Axes>"
            ],
            "image/png": "[encoded data removed]"
          },
          "metadata": {}
        }
      ]
    },
    {
      "cell_type": "code",
      "source": [
        "plt.figure(figsize=(7.5,5))\n",
        "plt.plot(history.history['loss'])\n",
        "plt.plot(history.history['val_loss'])\n",
        "plt.title('Loss vs. epochs')\n",
        "plt.ylabel('Loss')\n",
        "plt.xlabel('Epoch')\n",
        "plt.legend(['Training' , 'Validation'], loc='upper right')\n",
        "plt.show()"
      ],
      "metadata": {
        "colab": {
          "base_uri": "https://localhost:8080/",
          "height": 487
        },
        "id": "0Lg6nXeYywe9",
        "outputId": "1f53084e-4bfc-4e5f-ff96-1b2b935c3755"
      },
      "execution_count": 96,
      "outputs": [
        {
          "output_type": "display_data",
          "data": {
            "text/plain": [
              "<Figure size 750x500 with 1 Axes>"
            ],
            "image/png": "[encoded data removed]"
          },
          "metadata": {}
        }
      ]
    },
    {
      "cell_type": "code",
      "execution_count": 97,
      "metadata": {
        "id": "_t-FlDGG_W-P"
      },
      "outputs": [],
      "source": [
        "from sklearn.metrics import confusion_matrix\n",
        "from sklearn.metrics import precision_score, recall_score, f1_score, accuracy_score\n",
        "from sklearn import metrics"
      ]
    },
    {
      "cell_type": "code",
      "execution_count": 98,
      "metadata": {
        "colab": {
          "base_uri": "https://localhost:8080/"
        },
        "id": "5_z7wcel8-xn",
        "outputId": "f9740822-ea59-402a-defe-0cbe25dc055f"
      },
      "outputs": [
        {
          "output_type": "stream",
          "name": "stdout",
          "text": [
            "33/33 [==============================] - 0s 9ms/step\n",
            "[[135   8   7]\n",
            " [  6 385  42]\n",
            " [  3  37 427]]\n"
          ]
        }
      ],
      "source": [
        "from sklearn.metrics import confusion_matrix\n",
        "y_pred = model.predict(X_test)\n",
        "y_pred = np.argmax(y_pred, axis=1)\n",
        "y_test = np.argmax(y_test, axis=1)\n",
        "cm = confusion_matrix(y_test, y_pred)\n",
        "print(cm)"
      ]
    },
    {
      "cell_type": "code",
      "execution_count": 99,
      "metadata": {
        "colab": {
          "base_uri": "https://localhost:8080/",
          "height": 786
        },
        "id": "wSe0UFIj8-tw",
        "outputId": "88421b4f-6239-4d51-8b63-7f26c73e057a"
      },
      "outputs": [
        {
          "output_type": "error",
          "ename": "ValueError",
          "evalue": "ignored",
          "traceback": [
            "\u001b[0;31m---------------------------------------------------------------------------\u001b[0m",
            "\u001b[0;31mValueError\u001b[0m                                Traceback (most recent call last)",
            "\u001b[0;32m<ipython-input-99-e2567bbdfd07>\u001b[0m in \u001b[0;36m<cell line: 12>\u001b[0;34m()\u001b[0m\n\u001b[1;32m     10\u001b[0m \u001b[0mcm_display\u001b[0m \u001b[0;34m=\u001b[0m \u001b[0mmetrics\u001b[0m\u001b[0;34m.\u001b[0m\u001b[0mConfusionMatrixDisplay\u001b[0m\u001b[0;34m(\u001b[0m\u001b[0mconfusion_matrix\u001b[0m \u001b[0;34m=\u001b[0m \u001b[0mconfusion_matrix\u001b[0m\u001b[0;34m,\u001b[0m \u001b[0mdisplay_labels\u001b[0m \u001b[0;34m=\u001b[0m \u001b[0;34m[\u001b[0m\u001b[0;32mFalse\u001b[0m\u001b[0;34m,\u001b[0m \u001b[0;32mTrue\u001b[0m\u001b[0;34m]\u001b[0m\u001b[0;34m)\u001b[0m\u001b[0;34m\u001b[0m\u001b[0;34m\u001b[0m\u001b[0m\n\u001b[1;32m     11\u001b[0m \u001b[0;34m\u001b[0m\u001b[0m\n\u001b[0;32m---> 12\u001b[0;31m \u001b[0mcm_display\u001b[0m\u001b[0;34m.\u001b[0m\u001b[0mplot\u001b[0m\u001b[0;34m(\u001b[0m\u001b[0;34m)\u001b[0m\u001b[0;34m\u001b[0m\u001b[0;34m\u001b[0m\u001b[0m\n\u001b[0m\u001b[1;32m     13\u001b[0m \u001b[0mplt\u001b[0m\u001b[0;34m.\u001b[0m\u001b[0mshow\u001b[0m\u001b[0;34m(\u001b[0m\u001b[0;34m)\u001b[0m\u001b[0;34m\u001b[0m\u001b[0;34m\u001b[0m\u001b[0m\n",
            "\u001b[0;32m/usr/local/lib/python3.10/dist-packages/sklearn/metrics/_plot/confusion_matrix.py\u001b[0m in \u001b[0;36mplot\u001b[0;34m(self, include_values, cmap, xticks_rotation, values_format, ax, colorbar, im_kw, text_kw)\u001b[0m\n\u001b[1;32m    179\u001b[0m         \u001b[0;32mif\u001b[0m \u001b[0mcolorbar\u001b[0m\u001b[0;34m:\u001b[0m\u001b[0;34m\u001b[0m\u001b[0;34m\u001b[0m\u001b[0m\n\u001b[1;32m    180\u001b[0m             \u001b[0mfig\u001b[0m\u001b[0;34m.\u001b[0m\u001b[0mcolorbar\u001b[0m\u001b[0;34m(\u001b[0m\u001b[0mself\u001b[0m\u001b[0;34m.\u001b[0m\u001b[0mim_\u001b[0m\u001b[0;34m,\u001b[0m \u001b[0max\u001b[0m\u001b[0;34m=\u001b[0m\u001b[0max\u001b[0m\u001b[0;34m)\u001b[0m\u001b[0;34m\u001b[0m\u001b[0;34m\u001b[0m\u001b[0m\n\u001b[0;32m--> 181\u001b[0;31m         ax.set(\n\u001b[0m\u001b[1;32m    182\u001b[0m             \u001b[0mxticks\u001b[0m\u001b[0;34m=\u001b[0m\u001b[0mnp\u001b[0m\u001b[0;34m.\u001b[0m\u001b[0marange\u001b[0m\u001b[0;34m(\u001b[0m\u001b[0mn_classes\u001b[0m\u001b[0;34m)\u001b[0m\u001b[0;34m,\u001b[0m\u001b[0;34m\u001b[0m\u001b[0;34m\u001b[0m\u001b[0m\n\u001b[1;32m    183\u001b[0m             \u001b[0myticks\u001b[0m\u001b[0;34m=\u001b[0m\u001b[0mnp\u001b[0m\u001b[0;34m.\u001b[0m\u001b[0marange\u001b[0m\u001b[0;34m(\u001b[0m\u001b[0mn_classes\u001b[0m\u001b[0;34m)\u001b[0m\u001b[0;34m,\u001b[0m\u001b[0;34m\u001b[0m\u001b[0;34m\u001b[0m\u001b[0m\n",
            "\u001b[0;32m/usr/local/lib/python3.10/dist-packages/matplotlib/artist.py\u001b[0m in \u001b[0;36m<lambda>\u001b[0;34m(self, **kwargs)\u001b[0m\n\u001b[1;32m    145\u001b[0m             \u001b[0;32mreturn\u001b[0m\u001b[0;34m\u001b[0m\u001b[0;34m\u001b[0m\u001b[0m\n\u001b[1;32m    146\u001b[0m \u001b[0;34m\u001b[0m\u001b[0m\n\u001b[0;32m--> 147\u001b[0;31m         \u001b[0mcls\u001b[0m\u001b[0;34m.\u001b[0m\u001b[0mset\u001b[0m \u001b[0;34m=\u001b[0m \u001b[0;32mlambda\u001b[0m \u001b[0mself\u001b[0m\u001b[0;34m,\u001b[0m \u001b[0;34m**\u001b[0m\u001b[0mkwargs\u001b[0m\u001b[0;34m:\u001b[0m \u001b[0mArtist\u001b[0m\u001b[0;34m.\u001b[0m\u001b[0mset\u001b[0m\u001b[0;34m(\u001b[0m\u001b[0mself\u001b[0m\u001b[0;34m,\u001b[0m \u001b[0;34m**\u001b[0m\u001b[0mkwargs\u001b[0m\u001b[0;34m)\u001b[0m\u001b[0;34m\u001b[0m\u001b[0;34m\u001b[0m\u001b[0m\n\u001b[0m\u001b[1;32m    148\u001b[0m         \u001b[0mcls\u001b[0m\u001b[0;34m.\u001b[0m\u001b[0mset\u001b[0m\u001b[0;34m.\u001b[0m\u001b[0m__name__\u001b[0m \u001b[0;34m=\u001b[0m \u001b[0;34m\"set\"\u001b[0m\u001b[0;34m\u001b[0m\u001b[0;34m\u001b[0m\u001b[0m\n\u001b[1;32m    149\u001b[0m         \u001b[0mcls\u001b[0m\u001b[0;34m.\u001b[0m\u001b[0mset\u001b[0m\u001b[0;34m.\u001b[0m\u001b[0m__qualname__\u001b[0m \u001b[0;34m=\u001b[0m \u001b[0;34mf\"{cls.__qualname__}.set\"\u001b[0m\u001b[0;34m\u001b[0m\u001b[0;34m\u001b[0m\u001b[0m\n",
            "\u001b[0;32m/usr/local/lib/python3.10/dist-packages/matplotlib/artist.py\u001b[0m in \u001b[0;36mset\u001b[0;34m(self, **kwargs)\u001b[0m\n\u001b[1;32m   1229\u001b[0m         \u001b[0;31m# Artist._update_set_signature_and_docstring() at the end of the\u001b[0m\u001b[0;34m\u001b[0m\u001b[0;34m\u001b[0m\u001b[0m\n\u001b[1;32m   1230\u001b[0m         \u001b[0;31m# module.\u001b[0m\u001b[0;34m\u001b[0m\u001b[0;34m\u001b[0m\u001b[0m\n\u001b[0;32m-> 1231\u001b[0;31m         \u001b[0;32mreturn\u001b[0m \u001b[0mself\u001b[0m\u001b[0;34m.\u001b[0m\u001b[0m_internal_update\u001b[0m\u001b[0;34m(\u001b[0m\u001b[0mcbook\u001b[0m\u001b[0;34m.\u001b[0m\u001b[0mnormalize_kwargs\u001b[0m\u001b[0;34m(\u001b[0m\u001b[0mkwargs\u001b[0m\u001b[0;34m,\u001b[0m \u001b[0mself\u001b[0m\u001b[0;34m)\u001b[0m\u001b[0;34m)\u001b[0m\u001b[0;34m\u001b[0m\u001b[0;34m\u001b[0m\u001b[0m\n\u001b[0m\u001b[1;32m   1232\u001b[0m \u001b[0;34m\u001b[0m\u001b[0m\n\u001b[1;32m   1233\u001b[0m     \u001b[0;34m@\u001b[0m\u001b[0mcontextlib\u001b[0m\u001b[0;34m.\u001b[0m\u001b[0mcontextmanager\u001b[0m\u001b[0;34m\u001b[0m\u001b[0;34m\u001b[0m\u001b[0m\n",
            "\u001b[0;32m/usr/local/lib/python3.10/dist-packages/matplotlib/artist.py\u001b[0m in \u001b[0;36m_internal_update\u001b[0;34m(self, kwargs)\u001b[0m\n\u001b[1;32m   1221\u001b[0m         \u001b[0mThe\u001b[0m \u001b[0mlack\u001b[0m \u001b[0mof\u001b[0m \u001b[0mprenormalization\u001b[0m \u001b[0;32mis\u001b[0m \u001b[0mto\u001b[0m \u001b[0mmaintain\u001b[0m \u001b[0mbackcompatibility\u001b[0m\u001b[0;34m.\u001b[0m\u001b[0;34m\u001b[0m\u001b[0;34m\u001b[0m\u001b[0m\n\u001b[1;32m   1222\u001b[0m         \"\"\"\n\u001b[0;32m-> 1223\u001b[0;31m         return self._update_props(\n\u001b[0m\u001b[1;32m   1224\u001b[0m             \u001b[0mkwargs\u001b[0m\u001b[0;34m,\u001b[0m \u001b[0;34m\"{cls.__name__}.set() got an unexpected keyword argument \"\u001b[0m\u001b[0;34m\u001b[0m\u001b[0;34m\u001b[0m\u001b[0m\n\u001b[1;32m   1225\u001b[0m             \"{prop_name!r}\")\n",
            "\u001b[0;32m/usr/local/lib/python3.10/dist-packages/matplotlib/artist.py\u001b[0m in \u001b[0;36m_update_props\u001b[0;34m(self, props, errfmt)\u001b[0m\n\u001b[1;32m   1197\u001b[0m                         raise AttributeError(\n\u001b[1;32m   1198\u001b[0m                             errfmt.format(cls=type(self), prop_name=k))\n\u001b[0;32m-> 1199\u001b[0;31m                     \u001b[0mret\u001b[0m\u001b[0;34m.\u001b[0m\u001b[0mappend\u001b[0m\u001b[0;34m(\u001b[0m\u001b[0mfunc\u001b[0m\u001b[0;34m(\u001b[0m\u001b[0mv\u001b[0m\u001b[0;34m)\u001b[0m\u001b[0;34m)\u001b[0m\u001b[0;34m\u001b[0m\u001b[0;34m\u001b[0m\u001b[0m\n\u001b[0m\u001b[1;32m   1200\u001b[0m         \u001b[0;32mif\u001b[0m \u001b[0mret\u001b[0m\u001b[0;34m:\u001b[0m\u001b[0;34m\u001b[0m\u001b[0;34m\u001b[0m\u001b[0m\n\u001b[1;32m   1201\u001b[0m             \u001b[0mself\u001b[0m\u001b[0;34m.\u001b[0m\u001b[0mpchanged\u001b[0m\u001b[0;34m(\u001b[0m\u001b[0;34m)\u001b[0m\u001b[0;34m\u001b[0m\u001b[0;34m\u001b[0m\u001b[0m\n",
            "\u001b[0;32m/usr/local/lib/python3.10/dist-packages/matplotlib/axes/_base.py\u001b[0m in \u001b[0;36mwrapper\u001b[0;34m(self, *args, **kwargs)\u001b[0m\n\u001b[1;32m     72\u001b[0m \u001b[0;34m\u001b[0m\u001b[0m\n\u001b[1;32m     73\u001b[0m         \u001b[0;32mdef\u001b[0m \u001b[0mwrapper\u001b[0m\u001b[0;34m(\u001b[0m\u001b[0mself\u001b[0m\u001b[0;34m,\u001b[0m \u001b[0;34m*\u001b[0m\u001b[0margs\u001b[0m\u001b[0;34m,\u001b[0m \u001b[0;34m**\u001b[0m\u001b[0mkwargs\u001b[0m\u001b[0;34m)\u001b[0m\u001b[0;34m:\u001b[0m\u001b[0;34m\u001b[0m\u001b[0;34m\u001b[0m\u001b[0m\n\u001b[0;32m---> 74\u001b[0;31m             \u001b[0;32mreturn\u001b[0m \u001b[0mget_method\u001b[0m\u001b[0;34m(\u001b[0m\u001b[0mself\u001b[0m\u001b[0;34m)\u001b[0m\u001b[0;34m(\u001b[0m\u001b[0;34m*\u001b[0m\u001b[0margs\u001b[0m\u001b[0;34m,\u001b[0m \u001b[0;34m**\u001b[0m\u001b[0mkwargs\u001b[0m\u001b[0;34m)\u001b[0m\u001b[0;34m\u001b[0m\u001b[0;34m\u001b[0m\u001b[0m\n\u001b[0m\u001b[1;32m     75\u001b[0m \u001b[0;34m\u001b[0m\u001b[0m\n\u001b[1;32m     76\u001b[0m         \u001b[0mwrapper\u001b[0m\u001b[0;34m.\u001b[0m\u001b[0m__module__\u001b[0m \u001b[0;34m=\u001b[0m \u001b[0mowner\u001b[0m\u001b[0;34m.\u001b[0m\u001b[0m__module__\u001b[0m\u001b[0;34m\u001b[0m\u001b[0;34m\u001b[0m\u001b[0m\n",
            "\u001b[0;32m/usr/local/lib/python3.10/dist-packages/matplotlib/_api/deprecation.py\u001b[0m in \u001b[0;36mwrapper\u001b[0;34m(*args, **kwargs)\u001b[0m\n\u001b[1;32m    295\u001b[0m                 f\"for the old name will be dropped %(removal)s.\")\n\u001b[1;32m    296\u001b[0m             \u001b[0mkwargs\u001b[0m\u001b[0;34m[\u001b[0m\u001b[0mnew\u001b[0m\u001b[0;34m]\u001b[0m \u001b[0;34m=\u001b[0m \u001b[0mkwargs\u001b[0m\u001b[0;34m.\u001b[0m\u001b[0mpop\u001b[0m\u001b[0;34m(\u001b[0m\u001b[0mold\u001b[0m\u001b[0;34m)\u001b[0m\u001b[0;34m\u001b[0m\u001b[0;34m\u001b[0m\u001b[0m\n\u001b[0;32m--> 297\u001b[0;31m         \u001b[0;32mreturn\u001b[0m \u001b[0mfunc\u001b[0m\u001b[0;34m(\u001b[0m\u001b[0;34m*\u001b[0m\u001b[0margs\u001b[0m\u001b[0;34m,\u001b[0m \u001b[0;34m**\u001b[0m\u001b[0mkwargs\u001b[0m\u001b[0;34m)\u001b[0m\u001b[0;34m\u001b[0m\u001b[0;34m\u001b[0m\u001b[0m\n\u001b[0m\u001b[1;32m    298\u001b[0m \u001b[0;34m\u001b[0m\u001b[0m\n\u001b[1;32m    299\u001b[0m     \u001b[0;31m# wrapper() must keep the same documented signature as func(): if we\u001b[0m\u001b[0;34m\u001b[0m\u001b[0;34m\u001b[0m\u001b[0m\n",
            "\u001b[0;32m/usr/local/lib/python3.10/dist-packages/matplotlib/axis.py\u001b[0m in \u001b[0;36mset_ticklabels\u001b[0;34m(self, labels, minor, fontdict, **kwargs)\u001b[0m\n\u001b[1;32m   1967\u001b[0m             \u001b[0;31m# remove all tick labels, so only error for > 0 labels\u001b[0m\u001b[0;34m\u001b[0m\u001b[0;34m\u001b[0m\u001b[0m\n\u001b[1;32m   1968\u001b[0m             \u001b[0;32mif\u001b[0m \u001b[0mlen\u001b[0m\u001b[0;34m(\u001b[0m\u001b[0mlocator\u001b[0m\u001b[0;34m.\u001b[0m\u001b[0mlocs\u001b[0m\u001b[0;34m)\u001b[0m \u001b[0;34m!=\u001b[0m \u001b[0mlen\u001b[0m\u001b[0;34m(\u001b[0m\u001b[0mlabels\u001b[0m\u001b[0;34m)\u001b[0m \u001b[0;32mand\u001b[0m \u001b[0mlen\u001b[0m\u001b[0;34m(\u001b[0m\u001b[0mlabels\u001b[0m\u001b[0;34m)\u001b[0m \u001b[0;34m!=\u001b[0m \u001b[0;36m0\u001b[0m\u001b[0;34m:\u001b[0m\u001b[0;34m\u001b[0m\u001b[0;34m\u001b[0m\u001b[0m\n\u001b[0;32m-> 1969\u001b[0;31m                 raise ValueError(\n\u001b[0m\u001b[1;32m   1970\u001b[0m                     \u001b[0;34m\"The number of FixedLocator locations\"\u001b[0m\u001b[0;34m\u001b[0m\u001b[0;34m\u001b[0m\u001b[0m\n\u001b[1;32m   1971\u001b[0m                     \u001b[0;34mf\" ({len(locator.locs)}), usually from a call to\"\u001b[0m\u001b[0;34m\u001b[0m\u001b[0;34m\u001b[0m\u001b[0m\n",
            "\u001b[0;31mValueError\u001b[0m: The number of FixedLocator locations (3), usually from a call to set_ticks, does not match the number of labels (2)."
          ]
        },
        {
          "output_type": "display_data",
          "data": {
            "text/plain": [
              "<Figure size 640x480 with 2 Axes>"
            ],
            "image/png": "[encoded data removed]"
          },
          "metadata": {}
        }
      ],
      "source": [
        "import matplotlib.pyplot as plt\n",
        "import numpy\n",
        "from sklearn import metrics\n",
        "\n",
        "actual = numpy.random.binomial(1,.9,size = 1000)\n",
        "predicted = numpy.random.binomial(1,.9,size = 1000)\n",
        "\n",
        "confusion_matrix = metrics.confusion_matrix(y_test, y_pred)\n",
        "\n",
        "cm_display = metrics.ConfusionMatrixDisplay(confusion_matrix = confusion_matrix, display_labels = [False, True])\n",
        "\n",
        "cm_display.plot()\n",
        "plt.show()"
      ]
    },
    {
      "cell_type": "code",
      "source": [
        "accuracy = accuracy_score(y_test, y_pred )\n",
        "print ('Accuracy: %.4f' % accuracy)"
      ],
      "metadata": {
        "colab": {
          "base_uri": "https://localhost:8080/"
        },
        "id": "tiPwAkvgQUfA",
        "outputId": "0af58257-a295-46de-e451-4d4cce8d7fa5"
      },
      "execution_count": 101,
      "outputs": [
        {
          "output_type": "stream",
          "name": "stdout",
          "text": [
            "Accuracy: 0.9019\n"
          ]
        }
      ]
    },
    {
      "cell_type": "code",
      "execution_count": 102,
      "metadata": {
        "colab": {
          "base_uri": "https://localhost:8080/"
        },
        "id": "NkfoeETl-78H",
        "outputId": "e3e57f04-3fd5-42f6-8857-0b9258069fde"
      },
      "outputs": [
        {
          "output_type": "stream",
          "name": "stdout",
          "text": [
            "Recall: 0.9012\n"
          ]
        }
      ],
      "source": [
        "recall = recall_score(y_test, y_pred , average='macro' )\n",
        "print ('Recall: %.4f' % recall)"
      ]
    },
    {
      "cell_type": "code",
      "execution_count": 103,
      "metadata": {
        "colab": {
          "base_uri": "https://localhost:8080/"
        },
        "id": "vnlAzjTM8-sA",
        "outputId": "599e8925-bfb2-495b-eaf2-9a9e7dbbf55d"
      },
      "outputs": [
        {
          "output_type": "stream",
          "name": "stdout",
          "text": [
            "Precision: 0.9100\n"
          ]
        }
      ],
      "source": [
        "precision = precision_score(y_test, y_pred , average='macro')\n",
        "print ('Precision: %.4f' % precision)"
      ]
    },
    {
      "cell_type": "code",
      "execution_count": 104,
      "metadata": {
        "colab": {
          "base_uri": "https://localhost:8080/"
        },
        "id": "qH6rykwi8-JJ",
        "outputId": "77b02088-7454-425b-a15d-f6a7df899552"
      },
      "outputs": [
        {
          "output_type": "stream",
          "name": "stdout",
          "text": [
            "F1-Score: 0.9054\n"
          ]
        }
      ],
      "source": [
        "f1score = f1_score(y_test, y_pred , average='macro' )\n",
        "print ('F1-Score: %.4f' % f1score)"
      ]
    },
    {
      "cell_type": "code",
      "execution_count": null,
      "metadata": {
        "id": "Zu2SPRvB8-HZ"
      },
      "outputs": [],
      "source": []
    },
    {
      "cell_type": "markdown",
      "metadata": {
        "id": "AsLnq9JFGVkx"
      },
      "source": [
        "**Data Augmentation**"
      ]
    },
    {
      "cell_type": "code",
      "execution_count": null,
      "metadata": {
        "colab": {
          "base_uri": "https://localhost:8080/"
        },
        "id": "y5VzPH8u8bgy",
        "outputId": "bc9f78cb-2662-44e0-c5b2-44f1badcede2"
      },
      "outputs": [
        {
          "name": "stdout",
          "output_type": "stream",
          "text": [
            "Found 985 images belonging to 3 classes.\n",
            "Found 244 images belonging to 3 classes.\n"
          ]
        }
      ],
      "source": [
        "directory_train = \"/content/drive/MyDrive/DataSet_CBIS-DDSM/Mass_Train_Set/\"\n",
        "directory_test = \"/content/drive/MyDrive/DataSet_CBIS-DDSM/Mass_Test_Set/\"\n",
        "def get_ImageDataGenerator(validation_split=None):\n",
        "    image_generator = ImageDataGenerator(rescale=(1/255.),\n",
        "                                        validation_split=validation_split)\n",
        "    return image_generator\n",
        "image_gen_train = get_ImageDataGenerator(validation_split=0.2)\n",
        "def get_generator(image_data_generator, directory, train_valid=None, seed=None):\n",
        "    train_generator = image_data_generator.flow_from_directory(directory, batch_size=32, class_mode='categorical', target_size=(240,240), subset=train_valid, seed=seed)\n",
        "    return train_generator\n",
        "train_generator = get_generator(image_gen_train, directory_train, train_valid='training', seed=1)\n",
        "validation_generator = get_generator(image_gen_train, directory_train, train_valid='validation')"
      ]
    },
    {
      "cell_type": "code",
      "execution_count": null,
      "metadata": {
        "colab": {
          "base_uri": "https://localhost:8080/",
          "height": 383
        },
        "id": "OFy6O4kgABF7",
        "outputId": "1c4662c6-a227-44c7-97bd-f3c59aef28cf"
      },
      "outputs": [
        {
          "data": {
            "image/png": "[encoded data removed]",
            "text/plain": [
              "<Figure size 1080x720 with 10 Axes>"
            ]
          },
          "metadata": {},
          "output_type": "display_data"
        }
      ],
      "source": [
        "target_labels = next(os.walk(directory_train))[1]\n",
        "\n",
        "target_labels.sort()\n",
        "\n",
        "batch = next(train_generator)\n",
        "batch_images = np.array(batch[0])\n",
        "batch_labels = np.array(batch[1])\n",
        "\n",
        "target_labels = np.asarray(target_labels)\n",
        "\n",
        "plt.figure(figsize=(15,10))\n",
        "for n, i in enumerate(np.arange(10)):\n",
        "    ax = plt.subplot(3,5,n+1)\n",
        "    plt.imshow(batch_images[i])\n",
        "    plt.title(target_labels[np.where(batch_labels[i]==1)[0][0]])\n",
        "    plt.axis('off')"
      ]
    }
  ],
  "metadata": {
    "colab": {
      "provenance": []
    },
    "kernelspec": {
      "display_name": "Python 3",
      "name": "python3"
    },
    "language_info": {
      "name": "python"
    }
  },
  "nbformat": 4,
  "nbformat_minor": 0
}